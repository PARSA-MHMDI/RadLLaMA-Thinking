{
  "cells": [
    {
      "cell_type": "markdown",
      "metadata": {
        "id": "vt_ZgzC5XInt"
      },
      "source": [
        "# Large Scale training"
      ]
    },
    {
      "cell_type": "markdown",
      "metadata": {},
      "source": [
        "# Copyright 2025 Parsa Mohammadi\n",
        "#\n",
        "# Licensed under the Apache License, Version 2.0 (the \"License\");\n",
        "# you may not use this file except in compliance with the License.\n",
        "# You may obtain a copy of the License at\n",
        "#\n",
        "#     http://www.apache.org/licenses/LICENSE-2.0\n",
        "#\n",
        "# Unless required by applicable law or agreed to in writing, software\n",
        "# distributed under the License is distributed on an \"AS IS\" BASIS,\n",
        "# WITHOUT WARRANTIES OR CONDITIONS OF ANY KIND, either express or implied.\n",
        "# See the License for the specific language governing permissions and\n",
        "# limitations under the License.\n"
      ]
    },
    {
      "cell_type": "markdown",
      "metadata": {
        "id": "YXgFZST-4owG"
      },
      "source": [
        "### Installation"
      ]
    },
    {
      "cell_type": "code",
      "execution_count": null,
      "metadata": {
        "colab": {
          "base_uri": "https://localhost:8080/"
        },
        "id": "x9krTLdsCpbz",
        "outputId": "8c88d311-2b97-46bd-b976-0db2fc4dcabb"
      },
      "outputs": [
        {
          "name": "stdout",
          "output_type": "stream",
          "text": [
            "Mounted at /content/drive\n"
          ]
        },
        {
          "name": "stderr",
          "output_type": "stream",
          "text": [
            "/usr/local/lib/python3.12/dist-packages/notebook/notebookapp.py:191: SyntaxWarning: invalid escape sequence '\\/'\n",
            "  | |_| | '_ \\/ _` / _` |  _/ -_)\n",
            "\u001b[34m\u001b[1mwandb\u001b[0m: \u001b[33mWARNING\u001b[0m If you're specifying your api key in code, ensure this code is not shared publicly.\n",
            "\u001b[34m\u001b[1mwandb\u001b[0m: \u001b[33mWARNING\u001b[0m Consider setting the WANDB_API_KEY environment variable, or running `wandb login` from the command line.\n",
            "\u001b[34m\u001b[1mwandb\u001b[0m: No netrc file found, creating one.\n",
            "\u001b[34m\u001b[1mwandb\u001b[0m: Appending key for api.wandb.ai to your netrc file: /root/.netrc\n",
            "\u001b[34m\u001b[1mwandb\u001b[0m: \u001b[33mWARNING\u001b[0m Path /content/wandb/wandb/ wasn't writable, using system temp directory\n",
            "\u001b[34m\u001b[1mwandb\u001b[0m: Currently logged in as: \u001b[33mparsa-mhmdi\u001b[0m (\u001b[33mparsa-mhmdi-wu\u001b[0m) to \u001b[32mhttps://api.wandb.ai\u001b[0m. Use \u001b[1m`wandb login --relogin`\u001b[0m to force relogin\n"
          ]
        }
      ],
      "source": [
        "from google.colab import drive\n",
        "from google.colab import userdata\n",
        "from huggingface_hub import login\n",
        "import os, wandb\n",
        "\n",
        "\n",
        "drive.mount('/content/drive')\n",
        "\n",
        "os.environ[\"HF_HOME\"] = \"/content/.cache/hf\"\n",
        "os.environ[\"TRANSFORMERS_CACHE\"] = \"/content/.cache/hf\"\n",
        "os.environ[\"WANDB_DIR\"] = \"/content/wandb\"\n",
        "\n",
        "\n",
        "# Loging to W&B\n",
        "wandb.login(key=userdata.get('WB_TOKEN'),relogin=True)\n",
        "\n",
        "# Loging to Hugginigface\n",
        "login(token=userdata.get('HUGGINGFACE_API'))\n",
        "\n"
      ]
    },
    {
      "cell_type": "code",
      "execution_count": null,
      "metadata": {
        "id": "2hBFFLmQ4owH"
      },
      "outputs": [],
      "source": [
        "%%capture\n",
        "import os\n",
        "if \"COLAB_\" not in \"\".join(os.environ.keys()):\n",
        "    !pip install unsloth\n",
        "else:\n",
        "    # Do this only in Colab notebooks! Otherwise use pip install unsloth\n",
        "    !pip install --no-deps bitsandbytes accelerate xformers peft trl==0.15.2 triton cut_cross_entropy unsloth_zoo\n",
        "    !pip install sentencepiece protobuf datasets huggingface_hub hf_transfer\n",
        "    !pip install --no-deps unsloth\n",
        "%pip install -q pandas pillow tqdm torchvision"
      ]
    },
    {
      "cell_type": "markdown",
      "metadata": {
        "id": "_TC-RFkp4owJ"
      },
      "source": [
        "### Download the Model"
      ]
    },
    {
      "cell_type": "code",
      "execution_count": null,
      "metadata": {
        "colab": {
          "base_uri": "https://localhost:8080/",
          "height": 572,
          "referenced_widgets": [
            "d601d04ff0c84f378c6c1817d7ece44d",
            "8ef21dd1cb20420f85cfbb19a6d0bc00",
            "60149ff301274b888d38c153286d96c3",
            "ade3fc5b08e74568873925dc6d49c359",
            "3e442a2845ff4003a01f09b1b4a96628",
            "ccef5bcec4ca4ef4a715e4d044b676b9",
            "ab7d3aec6d904d958048214e060bc9d8",
            "d3d300e11e414e498fb528f544aea9bc",
            "d1f68e3c7a3043ab8a490a3eb2e89b70",
            "a5f95b621beb4604800920a468e13989",
            "3085d9da30ce4c25bf9a99f276212f92",
            "365b92030cdc41d3abb416f523a68eb4",
            "ea842be7a1b44190b850d299e2469815",
            "c485e335b4f34735a41f4c38f376677a",
            "792199612faf47e5afa09ff1fa94e386",
            "5bf21f60add444fcbd6828c8603cb2ea",
            "a6cfb7cabb9041a8b115fd97f7e2097d",
            "1e9c5979947c4fe48e0eb4a5d498bc85",
            "fdbcdd59b71a4a4eaed37124e0b2cbfb",
            "dd48c6d92cfe433a881d247f82f8782f",
            "77053dbc0472472ab66000decd925f66",
            "5f21d6fd926547fb9884c4eaaddbc586",
            "d3e369715d184677ab3c3fa94820eaf1",
            "43122ba45c2e4c67a00d659dc4c07010",
            "44126070a27b4388b50d45db17040b69",
            "6f6cf3ae045c451fb2046c9083139778",
            "cd46d4cd69f34351a7b25560ed799b3e",
            "6834863a664e4897bd28ffec55dd689b",
            "46be933912dd48d1a5ba351a1c8a4441",
            "55da3b2f078c4f7c8f3550c30924d816",
            "71493655d71f4cb8bc46b91f37d1acf8",
            "c655f1c69a6440349474707a794b4507",
            "dce4891a52684c3bb19b84656064298d",
            "58ee0838846d4b219683ecb97f371be5",
            "a19d839d848a47c682347955e1bc138c",
            "a9c5a3edf4c14da2a4197b90dda6dfc4",
            "771fbd68dd77417b9ef53acef382a579",
            "f33a97bac08f4bd68318b5cdfe58e613",
            "0eba68017d024e1ca927de8f897ff9d3",
            "ff9ef486d9b94006995c246ae4ee4358",
            "9deb64e700be45078ccc3f1f34f4ba76",
            "edd42304456249bea8fb68a305e8961a",
            "246cf9bdaee14c05903b8613a5dc04d9",
            "edc926dc80ce4f569a695dc516e90aaa",
            "e7fa4caa1c9542e9ae74e04c9ae150a8",
            "d4ac3bd46e594ff88edab458ecddb71c",
            "bebae9e8e6e0475898a59f20a04c981e",
            "2f999cfa8cce493c8614fa43069f2fcf",
            "f86981a359884232aaf00fb702789a94",
            "9c41b268b82c4e7baf76304b9a247b70",
            "80c3036d1ea243df81af97e33672ba87",
            "f35b82b5ee4e499daa1ee1a3e6ab0907",
            "14574a5795f24e98ab50e57b7b7dc870",
            "b2a7e9187c5d4258a70562421df2bd00",
            "081a16aba24545a4985282332e62e5b8",
            "b095ee3463704689a33cf4dba08788fe",
            "5c9d6caa11e143e596234e9233d670ae",
            "c4d7b607f0c94359885dc0708e7a1f29",
            "d1b5b38428254f439935fcf859c41d84",
            "1c17fbaf025840a39249c91544c0ac42",
            "b5392b6da6a3413481e57a3c136d85ab",
            "c52f693e0eb74c4b856712aa17e06560",
            "e13d4a4157b946509b2b68f1436761bf",
            "002bfc0051f34973822fc31b95d80975",
            "c74cb6229c784a9bb2c1982db6165d11",
            "d16818345542417cb438343e437444bf",
            "580b9a85ba16426289da083ebd04350c",
            "3fe9fd29ac8c4c36910dc6e8332a1d6c",
            "1a064f55a6f842aca4af9ba27cdbb958",
            "58cc1d773b9a4d6cb3c3edfd0fa2b770",
            "748f0e21f2004feba0a5e8407e9b405c",
            "10575aae7ac64a6d9c93483487457a9b",
            "595aba69c3414cdaa86e19d78539a886",
            "873073370ba94a30a35e837101ea722d",
            "6245041e5c034e57901818a431a42a33",
            "e8aca8456e5346f994819477af7d1975",
            "e045600ff133427998e275575009c624",
            "01eec8d096b44799b86f7adc8ac8b5c4",
            "45ee28416ae5485f964b97b9d574a098",
            "5cf3943a03d748eb8ac0d2bbaea4bd7c",
            "8e4f695af5af456d9b5973b88766b4cc",
            "50c3a39010e94253b28a95035e2bc0b4",
            "e907b276b7da45e6994168916d26a09f",
            "eff6b8354c274dfba5ad781e3219a6d8",
            "cdb40625037849cf8959ac0de4204daa",
            "c21a044e2769461891c45e94869cbc45",
            "b4f39024eae24951a7e69dec901036f3",
            "deb73ad8d1114575a0e40633256dc917",
            "e3527ddfa7db487bacb39dfd8992bab5",
            "48a07b0a87ee45aea556d86e25438693",
            "1734432046d0452bb6e254671b91443a",
            "7c0fd6b8cdec4b3195bd021ea5dca5f3",
            "189389d0d3e746fa90bf54b95e21f3f2",
            "87cafd789d834d0c87e354b7a179b8f4",
            "a8fd6244ee594c43b5c09865d99299cc",
            "4b66353808b148f8a60f7fae0c7b3c0a",
            "8c5e10ebfaac418bbee085114d4cc119",
            "866019437a4e48ada13428d7a3299c51",
            "252cdae0a62947e18dc6b31846c221c6",
            "6a960799c0f8432393a91f86532d262a",
            "1cb0e51d14064321a269c2743fc630ae",
            "4975eadffea343f8805c03c1d81f93c4",
            "0c50d104ed7742599f3eb90bb83509e7",
            "7ca2c2fbfd0540d8a0829df085196fec",
            "f31bdf55b1a147c9ac24c019e8a2f876",
            "062602ceebcc4b158abbac48913fd3a1",
            "10ea4b2169474310a3db0d415e0d1447",
            "50ffaeb5bcf5450cabfba26fbc8a289c",
            "5c78306f5f2d4be5a59314b8d03ba2c5",
            "cc3dcf272a0540f39f136d40594bf73b",
            "8a9b004ed66a4fb99002603e3dddedc2",
            "50726bcc0d9d4d68b1eff2fa9d6ad124",
            "4aef6c4926af412cbe11c3cf02822846",
            "c63f5609ba364aa894e7a2334c05fe84",
            "19a2099faccb4e1386d9cb9b80b1796a",
            "f3a3734b4b9741aea85b711739073c81",
            "63079ae0dd83498aa4d37a0263235276",
            "963b8f5ab44548728ac785ab4e61eaeb",
            "e8d8b538bea14d39b3168230512e2345",
            "2505a4e97a5e419bb1b3e179be6b6b8b",
            "aae5c8928f214c1f84431c91e312056a",
            "d311d9f4c3bd456e878c322a03366b4b",
            "eccc4f8364fa47c6a870dbe27e244c78",
            "503a07b0886c4e2cb218070fbaa72f86",
            "763c9c23184645d1a73f4fb66c15ebc0",
            "0ed74aa8694a4f5585e09f1a75aeca58",
            "f8e8b7c117524da1a53f0d0881ed741a",
            "3a73927cd78b46a487c5f819e4d7a822",
            "aefa93acf9f248f9b8c5138fd77a5cb7",
            "7ecbc599a8154b2a86a04d57ff04f513",
            "a7c4b1c00f964aeeadf5a39b2a8040cb",
            "1b5562265de24eb5af137003e26ab4ff",
            "5c33ecc4298f4584b0cd801c7d35f51e",
            "00d63a04125348dd9779a94a7f2b51e9",
            "ba4afee35f6e4c7fa09fd38063d0758b",
            "133c81a466ab44b1b093c7216d5c09e4",
            "d2c4bee845664166ab426da30b38db77",
            "f4688af60ba245cabe616c8f5ebe61e8",
            "2797dc1554e74b0b8b49db1dd5f8afd0",
            "35aeb9449c374c98baa3d3540bc4c244",
            "a28f1a50e85a4e94b94b286b7892a720",
            "505fd6fc43e94642b143a137972eef49",
            "4a8fdf3274bc468296a43bcc15e129af"
          ]
        },
        "id": "QmUBVEnvCDJv",
        "outputId": "d17ce52f-91a3-4234-a339-bf227f698283"
      },
      "outputs": [
        {
          "name": "stdout",
          "output_type": "stream",
          "text": [
            "🦥 Unsloth: Will patch your computer to enable 2x faster free finetuning.\n",
            "🦥 Unsloth Zoo will now patch everything to make training faster!\n",
            "==((====))==  Unsloth 2025.9.4: Fast Mllama patching. Transformers: 4.56.1.\n",
            "   \\\\   /|    NVIDIA L4. Num GPUs = 1. Max memory: 22.161 GB. Platform: Linux.\n",
            "O^O/ \\_/ \\    Torch: 2.8.0+cu126. CUDA: 8.9. CUDA Toolkit: 12.6. Triton: 3.4.0\n",
            "\\        /    Bfloat16 = TRUE. FA [Xformers = 0.0.32.post2. FA2 = False]\n",
            " \"-____-\"     Free license: http://github.com/unslothai/unsloth\n",
            "Unsloth: Fast downloading is enabled - ignore downloading bars which are red colored!\n"
          ]
        },
        {
          "data": {
            "application/vnd.jupyter.widget-view+json": {
              "model_id": "d601d04ff0c84f378c6c1817d7ece44d",
              "version_major": 2,
              "version_minor": 0
            },
            "text/plain": [
              "model.safetensors.index.json: 0.00B [00:00, ?B/s]"
            ]
          },
          "metadata": {},
          "output_type": "display_data"
        },
        {
          "data": {
            "application/vnd.jupyter.widget-view+json": {
              "model_id": "365b92030cdc41d3abb416f523a68eb4",
              "version_major": 2,
              "version_minor": 0
            },
            "text/plain": [
              "Fetching 2 files:   0%|          | 0/2 [00:00<?, ?it/s]"
            ]
          },
          "metadata": {},
          "output_type": "display_data"
        },
        {
          "data": {
            "application/vnd.jupyter.widget-view+json": {
              "model_id": "d3e369715d184677ab3c3fa94820eaf1",
              "version_major": 2,
              "version_minor": 0
            },
            "text/plain": [
              "model-00001-of-00002.safetensors:   0%|          | 0.00/4.97G [00:00<?, ?B/s]"
            ]
          },
          "metadata": {},
          "output_type": "display_data"
        },
        {
          "data": {
            "application/vnd.jupyter.widget-view+json": {
              "model_id": "58ee0838846d4b219683ecb97f371be5",
              "version_major": 2,
              "version_minor": 0
            },
            "text/plain": [
              "model-00002-of-00002.safetensors:   0%|          | 0.00/2.94G [00:00<?, ?B/s]"
            ]
          },
          "metadata": {},
          "output_type": "display_data"
        },
        {
          "data": {
            "application/vnd.jupyter.widget-view+json": {
              "model_id": "e7fa4caa1c9542e9ae74e04c9ae150a8",
              "version_major": 2,
              "version_minor": 0
            },
            "text/plain": [
              "Loading checkpoint shards:   0%|          | 0/2 [00:00<?, ?it/s]"
            ]
          },
          "metadata": {},
          "output_type": "display_data"
        },
        {
          "data": {
            "application/vnd.jupyter.widget-view+json": {
              "model_id": "b095ee3463704689a33cf4dba08788fe",
              "version_major": 2,
              "version_minor": 0
            },
            "text/plain": [
              "generation_config.json:   0%|          | 0.00/210 [00:00<?, ?B/s]"
            ]
          },
          "metadata": {},
          "output_type": "display_data"
        },
        {
          "data": {
            "application/vnd.jupyter.widget-view+json": {
              "model_id": "580b9a85ba16426289da083ebd04350c",
              "version_major": 2,
              "version_minor": 0
            },
            "text/plain": [
              "preprocessor_config.json:   0%|          | 0.00/477 [00:00<?, ?B/s]"
            ]
          },
          "metadata": {},
          "output_type": "display_data"
        },
        {
          "data": {
            "application/vnd.jupyter.widget-view+json": {
              "model_id": "01eec8d096b44799b86f7adc8ac8b5c4",
              "version_major": 2,
              "version_minor": 0
            },
            "text/plain": [
              "Fetching 1 files:   0%|          | 0/1 [00:00<?, ?it/s]"
            ]
          },
          "metadata": {},
          "output_type": "display_data"
        },
        {
          "data": {
            "application/vnd.jupyter.widget-view+json": {
              "model_id": "e3527ddfa7db487bacb39dfd8992bab5",
              "version_major": 2,
              "version_minor": 0
            },
            "text/plain": [
              "Fetching 1 files:   0%|          | 0/1 [00:00<?, ?it/s]"
            ]
          },
          "metadata": {},
          "output_type": "display_data"
        },
        {
          "data": {
            "application/vnd.jupyter.widget-view+json": {
              "model_id": "6a960799c0f8432393a91f86532d262a",
              "version_major": 2,
              "version_minor": 0
            },
            "text/plain": [
              "tokenizer_config.json: 0.00B [00:00, ?B/s]"
            ]
          },
          "metadata": {},
          "output_type": "display_data"
        },
        {
          "data": {
            "application/vnd.jupyter.widget-view+json": {
              "model_id": "8a9b004ed66a4fb99002603e3dddedc2",
              "version_major": 2,
              "version_minor": 0
            },
            "text/plain": [
              "tokenizer.json:   0%|          | 0.00/17.2M [00:00<?, ?B/s]"
            ]
          },
          "metadata": {},
          "output_type": "display_data"
        },
        {
          "data": {
            "application/vnd.jupyter.widget-view+json": {
              "model_id": "d311d9f4c3bd456e878c322a03366b4b",
              "version_major": 2,
              "version_minor": 0
            },
            "text/plain": [
              "special_tokens_map.json:   0%|          | 0.00/454 [00:00<?, ?B/s]"
            ]
          },
          "metadata": {},
          "output_type": "display_data"
        },
        {
          "data": {
            "application/vnd.jupyter.widget-view+json": {
              "model_id": "5c33ecc4298f4584b0cd801c7d35f51e",
              "version_major": 2,
              "version_minor": 0
            },
            "text/plain": [
              "chat_template.json: 0.00B [00:00, ?B/s]"
            ]
          },
          "metadata": {},
          "output_type": "display_data"
        }
      ],
      "source": [
        "from unsloth import FastVisionModel # FastLanguageModel for LLMs\n",
        "import torch\n",
        "\n",
        "# 4bit pre quantized models we support for 4x faster downloading + no OOMs.\n",
        "fourbit_models = [\n",
        "    \"unsloth/Llama-3.2-11B-Vision-Instruct-bnb-4bit\", # Llama 3.2 vision support\n",
        "    \"unsloth/Llama-3.2-11B-Vision-bnb-4bit\",\n",
        "    \"unsloth/Llama-3.2-90B-Vision-Instruct-bnb-4bit\", # Can fit in a 80GB card!\n",
        "    \"unsloth/Llama-3.2-90B-Vision-bnb-4bit\",\n",
        "\n",
        "    \"unsloth/Pixtral-12B-2409-bnb-4bit\",              # Pixtral fits in 16GB!\n",
        "    \"unsloth/Pixtral-12B-Base-2409-bnb-4bit\",         # Pixtral base model\n",
        "\n",
        "    \"unsloth/Qwen2-VL-2B-Instruct-bnb-4bit\",          # Qwen2 VL support\n",
        "    \"unsloth/Qwen2-VL-7B-Instruct-bnb-4bit\",\n",
        "    \"unsloth/Qwen2-VL-72B-Instruct-bnb-4bit\",\n",
        "\n",
        "    \"unsloth/llava-v1.6-mistral-7b-hf-bnb-4bit\",      # Any Llava variant works!\n",
        "    \"unsloth/llava-1.5-7b-hf-bnb-4bit\",\n",
        "] # More models at https://huggingface.co/unsloth\n",
        "\n",
        "model, tokenizer = FastVisionModel.from_pretrained(\n",
        "    \"unsloth/Llama-3.2-11B-Vision-Instruct\",\n",
        "    load_in_4bit = True, # Use 4bit to reduce memory use. False for 16bit LoRA.\n",
        "    max_seq_length= 2048,\n",
        "    use_gradient_checkpointing = \"unsloth\", # True or \"unsloth\" for long context\n",
        ")"
      ]
    },
    {
      "cell_type": "markdown",
      "metadata": {
        "id": "SXd9bTZd1aaL"
      },
      "source": [
        "We now add LoRA adapters for parameter efficient finetuning - this allows us to only efficiently train 1% of all parameters."
      ]
    },
    {
      "cell_type": "code",
      "execution_count": null,
      "metadata": {
        "colab": {
          "base_uri": "https://localhost:8080/"
        },
        "id": "6bZsfBuZDeCL",
        "outputId": "c36b1850-41d0-44e0-b4b4-d55bb844a111"
      },
      "outputs": [
        {
          "name": "stderr",
          "output_type": "stream",
          "text": [
            "Unsloth: Dropout = 0 is supported for fast patching. You are using dropout = 0.1.\n",
            "Unsloth will patch all other layers, except LoRA matrices, causing a performance hit.\n"
          ]
        },
        {
          "name": "stdout",
          "output_type": "stream",
          "text": [
            "Unsloth: Making `model.base_model.model.model.language_model` require gradients\n"
          ]
        }
      ],
      "source": [
        "model = FastVisionModel.get_peft_model(\n",
        "    model,\n",
        "    finetune_vision_layers     = False, # False if not finetuning vision layers\n",
        "    finetune_language_layers   = True, # False if not finetuning language layers\n",
        "    finetune_attention_modules = True, # False if not finetuning attention layers\n",
        "    finetune_mlp_modules       = True, # False if not finetuning MLP layers\n",
        "\n",
        "    r = 32,           # The larger, the higher the accuracy, but might overfit\n",
        "    lora_alpha = 32,  # Recommended alpha == r at least\n",
        "    lora_dropout = 0.1,\n",
        "    bias = \"none\",\n",
        "    random_state = 3407,\n",
        "    use_rslora = True,  # We support rank stabilized LoRA\n",
        "    loftq_config = None, # And LoftQ\n",
        "    # target_modules = \"all-linear\", # Optional now! Can specify a list if needed\n",
        ")"
      ]
    },
    {
      "cell_type": "markdown",
      "metadata": {
        "id": "NcXXI4FfhaEa"
      },
      "source": [
        "## Load Data"
      ]
    },
    {
      "cell_type": "markdown",
      "metadata": {
        "id": "a_T4AAfQiFyr"
      },
      "source": [
        "### Create Dataloader Mminimal (MIMIC-CXR 2.1.0 + Chextpert Plus)"
      ]
    },
    {
      "cell_type": "markdown",
      "metadata": {
        "id": "dlGdNbkBniY4"
      },
      "source": [
        "Updated verion of data loader. Patient wise grouping avoiding leakage.\n",
        "\n",
        "Second Update 25 Aug: Test set from each source.\n",
        "\n",
        "Third Update: Resize image sizes to (s,m,l)\n",
        "\n",
        "Fourth Update: Add cashing image functionality"
      ]
    },
    {
      "cell_type": "markdown",
      "metadata": {
        "id": "TRGzMFIyOZOQ"
      },
      "source": [
        "New dataloder update 2 Sep 2025 (Blank crupted image files + More robustness)"
      ]
    },
    {
      "cell_type": "code",
      "execution_count": null,
      "metadata": {
        "id": "NUxdADVBOk5R"
      },
      "outputs": [],
      "source": [
        "# ============================================================\n",
        "# CombinedChestXRDataset — robust, no exists-checks in __init__\n",
        "# ============================================================\n",
        "# - CheXpert Plus + MIMIC-CXR multi-source dataset\n",
        "# - Patient-wise split with per-source test patients\n",
        "# - Optional percent slicing for incremental training (0–5%, 5–10%, …)\n",
        "# - NO os.path.exists() in __init__ (fast dataset build on huge corpora)\n",
        "# - __getitem__ is exception-safe:\n",
        "#     * unreadable/missing images -> black placeholder PIL image\n",
        "#     * missing reports -> empty string\n",
        "# - Returns Unsloth/TRL \"messages\" format for VLM training\n",
        "#\n",
        "# Notes:\n",
        "# * We try multiple filename variants on-the-fly in __getitem__ (e.g. .png/.PNG/.jpg/.JPG)\n",
        "# * If an image still can’t be opened, we return a placeholder Image.new(\"RGB\", size)\n",
        "# * You can enable a resize/crop transform for a constant size (keeps PIL; Unsloth collator will tensorize)\n",
        "#\n",
        "# Usage (example):\n",
        "#   ds = CombinedChestXRDataset(\n",
        "#       instruction=INSTRUCTION,\n",
        "#       split=\"train\",\n",
        "#       chexpert_csv_path=\"/.../df_chexpert_plus_240401.csv\",\n",
        "#       chexpert_root=\"/.../Chextpert_Plus/Extracted_data/PNG\",\n",
        "#       mimic_record_csv=\"/.../cxr-record-list.csv\",\n",
        "#       mimic_study_csv=\"/.../cxr-study-list.csv\",\n",
        "#       mimic_root=\"/.../MIMIC-CXR\",\n",
        "#       # Chunked run: take 0–5% of train split this session\n",
        "#       subset_start_pct=0, subset_end_pct=5, subset_on_split=\"train\",\n",
        "#   )\n",
        "#\n",
        "#   from unsloth.trainer import UnslothVisionDataCollator\n",
        "#   collator = UnslothVisionDataCollator(model, tokenizer)\n",
        "#   loader = DataLoader(ds, batch_size=bs, shuffle=True,\n",
        "#                       num_workers=4, pin_memory=True, collate_fn=collator)\n",
        "#\n",
        "# ============================================================\n",
        "\n",
        "import os, re, math, random, hashlib, json\n",
        "import pandas as pd\n",
        "from PIL import Image\n",
        "from torch.utils.data import Dataset\n",
        "from torchvision import transforms\n",
        "\n",
        "# ---------------- helpers: text cleaning ----------------\n",
        "def clean_text(x):\n",
        "    if x is None: return \"\"\n",
        "    if isinstance(x, float) and math.isnan(x): return \"\"\n",
        "    return str(x).strip()\n",
        "\n",
        "def normalize_report_text(s):\n",
        "    \"\"\"Drop boilerplate lines we don't want the model to learn verbatim.\"\"\"\n",
        "    s = clean_text(s)\n",
        "    if s == \"\": return s\n",
        "    patterns = [\n",
        "        r\"^\\s*SUMMARY:.*$\",\n",
        "        r\"^\\s*END OF IMPRESSION:.*$\",\n",
        "        r\"^\\s*ACCESSION NUMBER:.*$\",\n",
        "        r\"^\\s*#?\\w{6,}\\s*$\",\n",
        "        r\"^\\s*I have personally reviewed.*$\",\n",
        "        r\"^\\s*By:.*$\",\n",
        "    ]\n",
        "    kept = []\n",
        "    for ln in s.splitlines():\n",
        "        L = ln.strip()\n",
        "        if not L: continue\n",
        "        if any(re.match(p, L, flags=re.IGNORECASE) for p in patterns):\n",
        "            continue\n",
        "        kept.append(ln)\n",
        "    return \"\\n\".join(kept).strip()\n",
        "\n",
        "def build_view(frontal_lateral, ap_pa):\n",
        "    fl = clean_text(frontal_lateral).lower()\n",
        "    ap = clean_text(ap_pa)\n",
        "    if fl == \"frontal\": return f\"Frontal ({ap})\" if ap else \"Frontal\"\n",
        "    if fl == \"lateral\": return \"Lateral\"\n",
        "    return clean_text(frontal_lateral) or \"Unspecified\"\n",
        "\n",
        "# --- scrub age/gender from CheXpert history (optional fairness) ---\n",
        "_AGE_PAT = re.compile(r\"\"\"\n",
        "    (?:\n",
        "        \\b(?:age[d]?|aged)\\s*\\d{1,3}\\b            |\n",
        "        \\b\\d{1,3}\\s*(?:years?|yrs?)\\s*(?:old)?\\b  |\n",
        "        \\b\\d{1,3}\\s*[-]?\\s*year[- ]old\\b          |\n",
        "        \\b\\d{1,3}\\s*(?:yo|y/o)\\b\n",
        "    )\n",
        "\"\"\", re.IGNORECASE | re.VERBOSE)\n",
        "\n",
        "_GENDER_PAT = re.compile(r\"\"\"\n",
        "    (?:\n",
        "        \\bmale\\b|\\bfemale\\b|\\bman\\b|\\bwoman\\b|\n",
        "        \\bmales?\\b|\\bfemales?\\b|\\bm\\b|\\bf\\b\n",
        "    )\n",
        "\"\"\", re.IGNORECASE | re.VERBOSE)\n",
        "\n",
        "_SPACES_PAT = re.compile(r\"\\s{2,}\")\n",
        "\n",
        "def clean_history_demographics(text: str) -> str:\n",
        "    \"\"\"Remove age/gender tokens but keep the clinical content.\"\"\"\n",
        "    if not text: return \"\"\n",
        "    out = _AGE_PAT.sub(\" \", text)\n",
        "    out = _GENDER_PAT.sub(\" \", out)\n",
        "    out = re.sub(r\"\\s+([,.;:])\", r\"\\1\", out)\n",
        "    out = re.sub(r\"([,.;:])\\s+\", r\"\\1 \", out)\n",
        "    out = _SPACES_PAT.sub(\" \", out)\n",
        "    return out.strip()\n",
        "\n",
        "# ---------------- patient id helpers ----------------\n",
        "_PAT_IN_PATH = re.compile(r\"(?:^|/)patient([0-9]+)(?:/|$)\", re.IGNORECASE)\n",
        "def chexpert_pid(row_dict):\n",
        "    pid = clean_text(row_dict.get(\"deid_patient_id\"))\n",
        "    if pid != \"\": return f\"chexpert:{pid}\"\n",
        "    path = clean_text(row_dict.get(\"path_to_image\"))\n",
        "    m = _PAT_IN_PATH.search(path)\n",
        "    if m: return f\"chexpert:patient{m.group(1)}\"\n",
        "    return f\"chexpert:hash:{abs(hash(path)) % (10**12)}\"\n",
        "\n",
        "def mimic_pid(row_tuple):\n",
        "    return f\"mimic:{getattr(row_tuple, 'subject_id')}\"\n",
        "\n",
        "# ---------------- optional resize/crop transform (PIL->PIL) ----------------\n",
        "def make_cxr_transform(size: int = 320, crop: bool = True):\n",
        "    \"\"\"\n",
        "    Resize shorter side to `size` (keeps aspect) and (optionally) center-crop to square.\n",
        "    We return PIL Image; Unsloth's collator will tensorize later.\n",
        "    \"\"\"\n",
        "    ops = [transforms.Resize(size)]\n",
        "    if crop: ops.append(transforms.CenterCrop(size))\n",
        "    return transforms.Compose(ops)\n",
        "\n",
        "def preset_to_size(preset: str) -> int:\n",
        "    preset = (preset or \"\").lower().strip()\n",
        "    if preset in (\"s\", \"small\", \"224\"): return 224\n",
        "    if preset in (\"m\", \"medium\", \"320\"): return 320\n",
        "    if preset in (\"m384\", \"384\"): return 384\n",
        "    if preset in (\"l\", \"large\", \"512\"): return 512\n",
        "    return 320\n",
        "\n",
        "# ---------------- dataset ----------------\n",
        "class CombinedChestXRDataset(Dataset):\n",
        "    \"\"\"\n",
        "    Combined CheXpert+MIMIC dataset, designed to be robust and fast to construct.\n",
        "\n",
        "    Key robustness design choices:\n",
        "    - __init__: purely *logical* construction (no os.path.exists on any path).\n",
        "      This keeps build-time near-constant even with millions of files on network/Drive.\n",
        "    - __getitem__: try multiple image path variants (.png/.PNG/.jpg/.JPG).\n",
        "      If all variants fail to open -> return a black placeholder image.\n",
        "      If report cannot be read -> return empty string.\n",
        "    - Never throws from __getitem__ -> DataLoader won't crash -> Trainer won't restart.\n",
        "\n",
        "    Splitting logic:\n",
        "      - Pick 5% of patients per-source as \"test\" (test_chexpert, test_mimic).\n",
        "      - Remaining patients are pooled and split into train/val (default val_ratio_combined=0.001).\n",
        "      - You can slice a percentage of *train* (or another split) with subset_start_pct/end_pct.\n",
        "\n",
        "    Returns:\n",
        "      A dict with \"messages\": [\n",
        "        {\"role\":\"user\", \"content\":[{\"type\":\"text\",...}, {\"type\":\"image\",\"image\": PIL}]},\n",
        "        {\"role\":\"assistant\", \"content\":[{\"type\":\"text\", ...}]}\n",
        "      ]\n",
        "      Compatible with UnslothVisionDataCollator.\n",
        "    \"\"\"\n",
        "    def __init__(\n",
        "        self,\n",
        "        instruction,\n",
        "        split=\"train\",\n",
        "        seed=85,\n",
        "\n",
        "        # Ratios\n",
        "        test_ratio_per_source=0.05,      # 5% CheX patients and 5% MIMIC patients as per-source test\n",
        "        val_ratio_combined=0.001,        # 0.1% of remaining pooled patients -> validation\n",
        "\n",
        "        # CheXpert\n",
        "        chexpert_csv_path=None,\n",
        "        chexpert_root=None,\n",
        "        use_chexpert=True,\n",
        "\n",
        "        # MIMIC\n",
        "        mimic_record_csv=None,\n",
        "        mimic_study_csv=None,\n",
        "        mimic_root=None,\n",
        "        use_mimic=True,\n",
        "\n",
        "        # Display/progress\n",
        "        show_progress=True,\n",
        "\n",
        "        # Image transform options\n",
        "        resize_enabled=False,\n",
        "        image_size_preset=None,\n",
        "        image_size=None,\n",
        "        crop=True,\n",
        "        image_transform=None,\n",
        "\n",
        "        # Chunked training slice (percent of the chosen split)\n",
        "        subset_start_pct=None,   # e.g., 0\n",
        "        subset_end_pct=None,     # e.g., 5\n",
        "        subset_on_split=\"train\", # which split to slice\n",
        "        subset_mode=\"global\",    # \"global\" or \"per_source\"\n",
        "        subset_sort=True,        # True: deterministic hash order, False: deterministic shuffle\n",
        "        subset_shuffle_seed=None,\n",
        "\n",
        "        # Placeholder dimensions (when image fails)\n",
        "        placeholder_size=320,\n",
        "\n",
        "        # Optional demographic scrub in history\n",
        "        scrub_history_age_gender=True,\n",
        "    ):\n",
        "        assert split in {\"train\",\"val\",\"test_chexpert\",\"test_mimic\"}, \"Invalid split\"\n",
        "\n",
        "        self.instruction = instruction\n",
        "        self.placeholder_size = int(placeholder_size)\n",
        "        self.scrub_history = bool(scrub_history_age_gender)\n",
        "\n",
        "        rng = random.Random(seed)\n",
        "\n",
        "        # --------- Ingest CHEXPERT (no exists checks) ---------\n",
        "        chex_items, chex_pids = [], []\n",
        "        if use_chexpert and chexpert_csv_path and chexpert_root:\n",
        "            use_cols = [\n",
        "                \"path_to_image\",\"frontal_lateral\",\"ap_pa\",\n",
        "                \"section_history\",\"section_clinical_history\",\n",
        "                \"section_findings\",\"section_impression\",\"section_technique\",\n",
        "                \"deid_patient_id\",\n",
        "            ]\n",
        "            header = pd.read_csv(chexpert_csv_path, nrows=1).columns.tolist()\n",
        "            cols = [c for c in use_cols if c in header]\n",
        "            cdf = pd.read_csv(chexpert_csv_path, usecols=cols)\n",
        "\n",
        "            # Keep rows with a usable target (findings or impression)\n",
        "            def has_target(row):\n",
        "                return clean_text(row.get(\"section_findings\")) != \"\" or clean_text(row.get(\"section_impression\")) != \"\"\n",
        "            cdf = cdf[cdf.apply(has_target, axis=1)].reset_index(drop=True)\n",
        "\n",
        "            for r in cdf.to_dict(orient=\"records\"):\n",
        "                pid = chexpert_pid(r)\n",
        "                # Store only metadata; no path existence checks here.\n",
        "                chex_items.append({\n",
        "                    \"src\": \"chexpert\",\n",
        "                    \"pid\": pid,\n",
        "                    \"root\": chexpert_root,\n",
        "                    \"rel_csv\": clean_text(r.get(\"path_to_image\")),   # CSV path (likely *.jpg)\n",
        "                    \"frontal_lateral\": r.get(\"frontal_lateral\"),\n",
        "                    \"ap_pa\": r.get(\"ap_pa\"),\n",
        "                    \"technique\": r.get(\"section_technique\"),\n",
        "                    \"findings\": r.get(\"section_findings\"),\n",
        "                    \"impression\": r.get(\"section_impression\"),\n",
        "                    \"history\": (\n",
        "                        clean_text(r.get(\"section_history\")) or\n",
        "                        clean_text(r.get(\"section_clinical_history\")) or\n",
        "                        \"Not provided.\"\n",
        "                    ),\n",
        "                })\n",
        "                chex_pids.append(pid)\n",
        "\n",
        "        # --------- Ingest MIMIC (no exists checks) ---------\n",
        "        mimic_items, mimic_pids = [], []\n",
        "        if use_mimic and mimic_record_csv and mimic_study_csv and mimic_root:\n",
        "            rdf = pd.read_csv(mimic_record_csv)\n",
        "            sdf = pd.read_csv(mimic_study_csv)\n",
        "            mdf = pd.merge(rdf, sdf, on=['study_id', 'subject_id'])\n",
        "            mdf.rename(columns={'path_x': 'img_path', 'path_y': 'report_path'}, inplace=True)\n",
        "            for row in mdf.itertuples(index=False):\n",
        "                mimic_items.append({\n",
        "                    \"src\": \"mimic\",\n",
        "                    \"pid\": mimic_pid(row),\n",
        "                    \"root\": mimic_root,\n",
        "                    \"img_rel\": getattr(row, \"img_path\", \"\"),        # usually *.dcm (we'll try .jpg/.png variants)\n",
        "                    \"rpt_rel\": getattr(row, \"report_path\", \"\"),     # text file\n",
        "                })\n",
        "                mimic_pids.append(mimic_pid(row))\n",
        "\n",
        "        # --------- Patient-wise split ---------\n",
        "        chex_pids = sorted(set(chex_pids))\n",
        "        mimic_pids = sorted(set(mimic_pids))\n",
        "        rng.shuffle(chex_pids); rng.shuffle(mimic_pids)\n",
        "\n",
        "        n_chex_test  = max(1, int(round(test_ratio_per_source * len(chex_pids)))) if chex_pids else 0\n",
        "        n_mimic_test = max(1, int(round(test_ratio_per_source * len(mimic_pids)))) if mimic_pids else 0\n",
        "\n",
        "        chex_test_pids  = set(chex_pids[:n_chex_test])\n",
        "        mimic_test_pids = set(mimic_pids[:n_mimic_test])\n",
        "\n",
        "        chex_trainval_pids  = set(chex_pids[n_chex_test:])\n",
        "        mimic_trainval_pids = set(mimic_pids[n_mimic_test:])\n",
        "\n",
        "        test_chex_items  = [x for x in chex_items  if x[\"pid\"] in chex_test_pids]\n",
        "        test_mimic_items = [x for x in mimic_items if x[\"pid\"] in mimic_test_pids]\n",
        "\n",
        "        combined_items = (\n",
        "            [x for x in chex_items  if x[\"pid\"] in chex_trainval_pids] +\n",
        "            [x for x in mimic_items if x[\"pid\"] in mimic_trainval_pids]\n",
        "        )\n",
        "        # pool remaining patients, make tiny val set by patients\n",
        "        combined_pids = sorted(set(x[\"pid\"] for x in combined_items))\n",
        "        rng.shuffle(combined_pids)\n",
        "        n_val_patients = max(1, int(round(val_ratio_combined * len(combined_pids)))) if combined_pids else 0\n",
        "        val_pid_set = set(combined_pids[:n_val_patients])\n",
        "\n",
        "        train_items = [x for x in combined_items if x[\"pid\"] not in val_pid_set]\n",
        "        val_items   = [x for x in combined_items if x[\"pid\"] in  val_pid_set]\n",
        "\n",
        "        # --------- finalize split ---------\n",
        "        if split == \"train\":\n",
        "            items = train_items\n",
        "        elif split == \"val\":\n",
        "            items = val_items\n",
        "        elif split == \"test_chexpert\":\n",
        "            items = test_chex_items\n",
        "        elif split == \"test_mimic\":\n",
        "            items = test_mimic_items\n",
        "\n",
        "        # --------- percent slice (chunked training) ---------\n",
        "        def stable_key(x):\n",
        "            # stable ordering key; mixes source, patient, and relative path\n",
        "            s = f\"{seed}|{x['src']}|{x['pid']}|{x.get('rel_csv', x.get('img_rel',''))}\"\n",
        "            return hashlib.md5(s.encode(\"utf-8\", \"ignore\")).hexdigest()\n",
        "\n",
        "        def order_list(lst, do_sort, seed_val):\n",
        "            if do_sort:\n",
        "                return sorted(lst, key=stable_key)     # deterministic hash order (fast, mixed)\n",
        "            else:\n",
        "                lst = list(lst)\n",
        "                r2 = random.Random(seed_val if seed_val is not None else seed)\n",
        "                r2.shuffle(lst)\n",
        "                return lst\n",
        "\n",
        "        self.slice_info = None\n",
        "        if (subset_start_pct is not None) and (subset_end_pct is not None) and (split == subset_on_split):\n",
        "            start = float(subset_start_pct); end = float(subset_end_pct)\n",
        "            if not (0.0 <= start < end <= 100.0):\n",
        "                raise ValueError(\"subset_start_pct and subset_end_pct must satisfy 0 <= start < end <= 100.\")\n",
        "            if subset_mode not in (\"global\", \"per_source\"):\n",
        "                raise ValueError(\"subset_mode must be 'global' or 'per_source'\")\n",
        "\n",
        "            if subset_mode == \"global\":\n",
        "                base = order_list(items, subset_sort, subset_shuffle_seed)\n",
        "                n = len(base)\n",
        "                i0 = int(n * (start / 100.0))\n",
        "                i1 = int(n * (end   / 100.0))\n",
        "                items = base[i0:i1]\n",
        "                self.slice_info = {\"mode\":\"global\",\"start_pct\":start,\"end_pct\":end,\n",
        "                                   \"start_idx\":i0,\"end_idx\":i1,\"total\":n}\n",
        "            else:\n",
        "                base_c = order_list([x for x in items if x[\"src\"] == \"chexpert\"], subset_sort, subset_shuffle_seed)\n",
        "                base_m = order_list([x for x in items if x[\"src\"] == \"mimic\"],    subset_sort, subset_shuffle_seed)\n",
        "                n_c, n_m = len(base_c), len(base_m)\n",
        "                i0_c, i1_c = int(n_c*(start/100.0)), int(n_c*(end/100.0))\n",
        "                i0_m, i1_m = int(n_m*(start/100.0)), int(n_m*(end/100.0))\n",
        "                items = base_c[i0_c:i1_c] + base_m[i0_m:i1_m]\n",
        "                self.slice_info = {\"mode\":\"per_source\",\"start_pct\":start,\"end_pct\":end,\n",
        "                                   \"chex_idx\":[i0_c,i1_c,n_c], \"mimic_idx\":[i0_m,i1_m,n_m]}\n",
        "\n",
        "        self.items = items\n",
        "\n",
        "        # --------- report split stats ---------\n",
        "        n_chex = sum(1 for x in self.items if x[\"src\"] == \"chexpert\")\n",
        "        n_mim  = sum(1 for x in self.items if x[\"src\"] == \"mimic\")\n",
        "        slice_msg = \"\"\n",
        "        if self.slice_info:\n",
        "            s = self.slice_info\n",
        "            if s[\"mode\"] == \"global\":\n",
        "                slice_msg = f\" | slice={s['start_pct']}-{s['end_pct']}% -> [{s['start_idx']}:{s['end_idx']}]/{s['total']}\"\n",
        "            else:\n",
        "                ci = s[\"chex_idx\"]; mi = s[\"mimic_idx\"]\n",
        "                slice_msg = (f\" | slice(per_source)={s['start_pct']}-{s['end_pct']}% \"\n",
        "                             f\"CheX[{ci[0]}:{ci[1]}]/{ci[2]}  MIMIC[{mi[0]}:{mi[1]}]/{mi[2]}\")\n",
        "        print(f\"✅ Split={split} size={len(self.items)} (CheXpert={n_chex}, MIMIC={n_mim}){slice_msg}\")\n",
        "\n",
        "        # --------- decide transform (PIL->PIL) ---------\n",
        "        if image_transform is not None:\n",
        "            self.image_transform = image_transform\n",
        "        elif resize_enabled:\n",
        "            size = int(image_size) if image_size is not None else preset_to_size(image_size_preset or \"medium\")\n",
        "            self.image_transform = make_cxr_transform(size=size, crop=crop)\n",
        "        else:\n",
        "            self.image_transform = None\n",
        "\n",
        "    # ---------------- safe image utilities ----------------\n",
        "    def _blank_image(self):\n",
        "        \"\"\"Return a black placeholder image with requested size.\"\"\"\n",
        "        s = max(8, int(self.placeholder_size))  # guard tiny size\n",
        "        return Image.new(\"RGB\", (s, s), (0, 0, 0))\n",
        "\n",
        "    def _try_open(self, abs_path):\n",
        "        \"\"\"Try to open an image as RGB; return PIL image or None.\"\"\"\n",
        "        try:\n",
        "            img = Image.open(abs_path)\n",
        "            return img.convert(\"RGB\")\n",
        "        except Exception:\n",
        "            return None\n",
        "\n",
        "    def _open_chexpert_image(self, item):\n",
        "        \"\"\"\n",
        "        CheXpert CSV often lists .jpg; actual files are .png/.PNG.\n",
        "        We try several variants quickly, with no existence checks beforehand.\n",
        "        \"\"\"\n",
        "        root = item[\"root\"]\n",
        "        rel  = item[\"rel_csv\"]  # e.g., 'train/patientXXXX/studyY/view1_frontal.jpg'\n",
        "        base, ext = os.path.splitext(rel)\n",
        "        # Try the most likely, then fallbacks\n",
        "        rel_cands = [\n",
        "            base + \".png\",\n",
        "            base + \".PNG\",\n",
        "            base + \".jpg\",\n",
        "            base + \".JPG\",\n",
        "        ]\n",
        "        for rel_try in rel_cands:\n",
        "            img = self._try_open(os.path.join(root, rel_try))\n",
        "            if img is not None:\n",
        "                return img\n",
        "        return None  # caller will replace with placeholder\n",
        "\n",
        "    def _open_mimic_image(self, item):\n",
        "        \"\"\"\n",
        "        MIMIC records list '.dcm' in img_rel; training images are usually .jpg (.png in some setups).\n",
        "        We try swapping .dcm -> .jpg and .png (and their uppercase).\n",
        "        \"\"\"\n",
        "        root = item[\"root\"]\n",
        "        img_rel = item[\"img_rel\"] or \"\"\n",
        "        base, ext = os.path.splitext(img_rel)\n",
        "        # Replace .dcm with candidate raster extensions\n",
        "        rel_cands = [\n",
        "            base + \".jpg\", base + \".JPG\",\n",
        "            base + \".png\", base + \".PNG\",\n",
        "            img_rel,  # if already a raster extension or atypical\n",
        "        ]\n",
        "        for rel_try in rel_cands:\n",
        "            img = self._try_open(os.path.join(root, rel_try))\n",
        "            if img is not None:\n",
        "                return img\n",
        "        return None\n",
        "\n",
        "    def _read_text(self, abs_path):\n",
        "        \"\"\"Safe text read; return '' if not found or unreadable.\"\"\"\n",
        "        try:\n",
        "            with open(abs_path, \"r\", encoding=\"utf-8\", errors=\"ignore\") as f:\n",
        "                return f.read()\n",
        "        except Exception:\n",
        "            return \"\"\n",
        "\n",
        "    # ---------------- PyTorch Dataset API ----------------\n",
        "    def __len__(self):\n",
        "        return len(self.items)\n",
        "\n",
        "    def __getitem__(self, idx):\n",
        "        # Some loaders pass lists/tuples even for batch_size=1\n",
        "        if isinstance(idx, (list, tuple)): idx = idx[0]\n",
        "        ex = self.items[idx]\n",
        "\n",
        "        # ----- image: try open; else placeholder -----\n",
        "        if ex[\"src\"] == \"chexpert\":\n",
        "            img = self._open_chexpert_image(ex)\n",
        "        else:  # \"mimic\"\n",
        "            img = self._open_mimic_image(ex)\n",
        "\n",
        "        if img is None:\n",
        "            img = self._blank_image()\n",
        "\n",
        "        # Optional resize/crop (keeps PIL)\n",
        "        if self.image_transform is not None:\n",
        "            try:\n",
        "                img = self.image_transform(img)\n",
        "            except Exception:\n",
        "                # Transform failed (rare) -> still return placeholder\n",
        "                img = self._blank_image()\n",
        "\n",
        "        # ----- build messages -----\n",
        "        if ex[\"src\"] == \"chexpert\":\n",
        "            technique  = clean_text(ex.get(\"technique\")) or \"Chest radiograph.\"\n",
        "            view       = build_view(ex.get(\"frontal_lateral\"), ex.get(\"ap_pa\"))\n",
        "            findings   = normalize_report_text(ex.get(\"findings\"))   or \"None stated.\"\n",
        "            impression = normalize_report_text(ex.get(\"impression\")) or \"None stated.\"\n",
        "            assistant_text = (\n",
        "                f\"Technique: {technique}\\n\"\n",
        "                f\"View: {view}\\n\"\n",
        "                f\"Findings: {findings}\\n\"\n",
        "                f\"Impression: {impression}\"\n",
        "            )\n",
        "            history = clean_text(ex.get(\"history\")) or \"Not provided.\"\n",
        "            if self.scrub_history:\n",
        "                history = clean_history_demographics(history) or \"Not provided.\"\n",
        "            user_text = f\"{self.instruction}\\nClinical history: {history}\"\n",
        "\n",
        "            return {\n",
        "                \"messages\": [\n",
        "                    {\"role\": \"user\", \"content\": [\n",
        "                        {\"type\": \"text\",  \"text\": user_text},\n",
        "                        {\"type\": \"image\", \"image\": img},\n",
        "                    ]},\n",
        "                    {\"role\": \"assistant\", \"content\": [\n",
        "                        {\"type\": \"text\", \"text\": assistant_text},\n",
        "                    ]},\n",
        "                ]\n",
        "            }\n",
        "\n",
        "        # MIMIC\n",
        "        # Attempt to read the report text; if fails -> empty string\n",
        "        rpt_abs = os.path.join(ex[\"root\"], ex.get(\"rpt_rel\", \"\"))\n",
        "        report_text = self._read_text(rpt_abs)\n",
        "\n",
        "        return {\n",
        "            \"messages\": [\n",
        "                {\"role\": \"user\", \"content\": [\n",
        "                    {\"type\": \"text\",  \"text\": self.instruction},\n",
        "                    {\"type\": \"image\", \"image\": img},\n",
        "                ]},\n",
        "                {\"role\": \"assistant\", \"content\": [\n",
        "                    {\"type\": \"text\", \"text\": report_text},\n",
        "                ]},\n",
        "            ]\n",
        "        }\n"
      ]
    },
    {
      "cell_type": "code",
      "execution_count": null,
      "metadata": {
        "id": "UyMQKaaeNu1L"
      },
      "outputs": [],
      "source": [
        "# Moving some files from drive to VM avoiding getting drive quota for ready a file several times\n",
        "!cp \"/content/drive/MyDrive/RadLLaMA_Thinking/Dataset/Chextpert_Plus/Extracted_data/df_chexpert_plus_240401.csv\" \"/content/df_chexpert_plus_240401.csv\"\n",
        "!cp \"/content/drive/MyDrive/RadLLaMA_Thinking/Dataset/MIMIC-CXR/cxr-record-list.csv\" \"/content/cxr-record-list.csv\"\n",
        "!cp \"/content/drive/MyDrive/RadLLaMA_Thinking/Dataset/MIMIC-CXR/cxr-study-list.csv\" \"/content/cxr-study-list.csv\""
      ]
    },
    {
      "cell_type": "code",
      "execution_count": null,
      "metadata": {
        "id": "FfSWMz2yC2Ur"
      },
      "outputs": [],
      "source": [
        "INSTRUCTION = (\n",
        "    \"Act as a board-certified radiologist specialized in adult chest radiography.\\n\"\n",
        "    \"Base every statement only on the provided image(s). If information is missing, say so.\\n\"\n",
        "    \"Use RSNA/ACR-style reporting sections and concise clinical language. Prioritize the IMPRESSION as a short, actionable summary.\\n\"\n",
        "    \"Use standardized terms (RadLex/CheXpert lexicon) and always include location, laterality, extent, and acuity.\\n\"\n",
        "    \"Handle uncertainty explicitly and never invent comparisons.\\n\"\n",
        "    \"Comment on study quality/limitations and devices/lines/tubes.\\n\"\n",
        "    \"Use EXACTLY these headers in order: Technique, View, Findings, Impression.\\n\"\n",
        ")\n",
        "\n",
        "# --- CheXpert paths ---\n",
        "chexpert_csv  = \"/content/df_chexpert_plus_240401.csv\"\n",
        "chexpert_root = \"/content/drive/MyDrive/RadLLaMA_Thinking/Dataset/Chextpert_Plus/Extracted_data/PNG\"\n",
        "\n",
        "# --- MIMIC paths ---\n",
        "mimic_records = \"/content/cxr-record-list.csv\"\n",
        "mimic_study   = \"/content/cxr-study-list.csv\"\n",
        "mimic_root    = \"/content/drive/MyDrive/RadLLaMA_Thinking/Dataset/MIMIC-CXR\"\n",
        "\n",
        "use_chexpert = True\n",
        "use_mimic = True\n",
        "enable_cache = False\n",
        "resize_enabled = False\n",
        "image_size_preset = None\n",
        "\n",
        "# Train/Val from combined remaining patients (after removing per-source 5% test pids)\n",
        "train_ds = CombinedChestXRDataset(\n",
        "    instruction=INSTRUCTION,\n",
        "    split=\"train\",\n",
        "    seed=85,\n",
        "    test_ratio_per_source=0.1,   # 5% test per source\n",
        "    val_ratio_combined=0.1,     # 0.1% of remaining patients -> validation\n",
        "    chexpert_csv_path=chexpert_csv, chexpert_root=chexpert_root, use_chexpert=use_chexpert,\n",
        "    mimic_record_csv=mimic_records, mimic_study_csv=mimic_study, mimic_root=mimic_root, use_mimic=use_mimic,\n",
        "    show_progress=True,\n",
        "    resize_enabled=resize_enabled,\n",
        "\n",
        "    # ---- chunking ----\n",
        "    subset_start_pct = 0,        # train first 10% now...\n",
        "    subset_end_pct   = 100,\n",
        "    subset_on_split  = \"train\",\n",
        "    subset_mode      = \"global\",   # <- ensures both CheX & MIMIC appear in each chunk\n",
        "    subset_sort      = False,           # deterministic mixed order (hash-based)\n",
        "    subset_shuffle_seed = 85,        # (only used if subset_sort=False)\n",
        ")\n",
        "\n",
        "val_ds = CombinedChestXRDataset(\n",
        "    instruction=INSTRUCTION,\n",
        "    split=\"val\",\n",
        "    seed=85,\n",
        "    test_ratio_per_source=0.1,\n",
        "    val_ratio_combined=0.1,\n",
        "    chexpert_csv_path=chexpert_csv, chexpert_root=chexpert_root, use_chexpert=use_chexpert,\n",
        "    mimic_record_csv=mimic_records, mimic_study_csv=mimic_study, mimic_root=mimic_root, use_mimic=use_mimic,\n",
        "    show_progress=False,\n",
        "    # image_size_preset=\"m384\",\n",
        "    resize_enabled=resize_enabled,\n",
        ")\n",
        "\n",
        "test_chex = CombinedChestXRDataset(\n",
        "    instruction=INSTRUCTION,\n",
        "    split=\"test_chexpert\",\n",
        "    seed=85,\n",
        "    test_ratio_per_source=0.1,\n",
        "    val_ratio_combined=0.1,\n",
        "    chexpert_csv_path=chexpert_csv, chexpert_root=chexpert_root, use_chexpert=use_chexpert,\n",
        "    mimic_record_csv=mimic_records, mimic_study_csv=mimic_study, mimic_root=mimic_root, use_mimic=use_mimic,\n",
        "    show_progress=False,\n",
        "    # image_size_preset=\"m384\",\n",
        "    resize_enabled=resize_enabled,\n",
        ")\n",
        "\n",
        "test_mim = CombinedChestXRDataset(\n",
        "    instruction=INSTRUCTION,\n",
        "    split=\"test_mimic\",\n",
        "    seed=85,\n",
        "    test_ratio_per_source=0.1,\n",
        "    val_ratio_combined=0.1,\n",
        "    chexpert_csv_path=chexpert_csv, chexpert_root=chexpert_root, use_chexpert=use_chexpert,\n",
        "    mimic_record_csv=mimic_records, mimic_study_csv=mimic_study, mimic_root=mimic_root, use_mimic=use_mimic,\n",
        "    show_progress=False,\n",
        "    # image_size_preset=\"m384\",\n",
        "    resize_enabled=resize_enabled,\n",
        ")"
      ]
    },
    {
      "cell_type": "code",
      "execution_count": null,
      "metadata": {
        "colab": {
          "base_uri": "https://localhost:8080/",
          "height": 860
        },
        "id": "1E4TWBCxFkEW",
        "outputId": "029edae7-2819-4d10-ef71-9eef373c2d0c"
      },
      "outputs": [
        {
          "data": {
            "image/png": "[encoded data removed]",
            "text/plain": [
              "<Figure size 640x480 with 1 Axes>"
            ]
          },
          "metadata": {},
          "output_type": "display_data"
        },
        {
          "name": "stdout",
          "output_type": "stream",
          "text": [
            "=== USER INSTRUCTION ===\n",
            "Act as a board-certified radiologist specialized in adult chest radiography.\n",
            "Base every statement only on the provided image(s). If information is missing, say so.\n",
            "Use RSNA/ACR-style reporting sections and concise clinical language. Prioritize the IMPRESSION as a short, actionable summary.\n",
            "Use standardized terms (RadLex/CheXpert lexicon) and always include location, laterality, extent, and acuity.\n",
            "Handle uncertainty explicitly and never invent comparisons.\n",
            "Comment on study quality/limitations and devices/lines/tubes.\n",
            "Use EXACTLY these headers in order: Technique, View, Findings, Impression.\n",
            "\n",
            "\n",
            "=== ASSISTANT REPORT ===\n",
            "                                 FINAL REPORT\n",
            " EXAMINATION:  CHEST (PORTABLE AP)\n",
            " \n",
            " INDICATION:  ___ year old woman with increased DOE  // Eval for fluid overload \n",
            " Eval for fluid overload\n",
            " \n",
            " IMPRESSION: \n",
            " \n",
            " In comparison with the study of ___, the tip of the Dobhoff tube extends\n",
            " at least to the lower body of the stomach, were crosses the lower margin of\n",
            " the image.  The cardiac silhouette is more prominent and there is increasing\n",
            " indistinctness of engorged pulmonary vessels, consistent with the clinical\n",
            " diagnosis of fluid overload.\n",
            "\n"
          ]
        }
      ],
      "source": [
        "import random\n",
        "import matplotlib.pyplot as plt\n",
        "\n",
        "idx = random.randrange(len(train_ds))                           # pick a random index\n",
        "# idx = 550000                           # pick a random index\n",
        "sample = train_ds[idx]                                          # fetch (lazy-open image)\n",
        "\n",
        "img = sample[\"messages\"][0][\"content\"][1][\"image\"]        # PIL.Image\n",
        "user_text = sample[\"messages\"][0][\"content\"][0][\"text\"]   # instruction + (scrubbed) history\n",
        "report_text = sample[\"messages\"][1][\"content\"][0][\"text\"] # target report\n",
        "\n",
        "plt.imshow(img); plt.axis(\"off\");\n",
        "plt.show()\n",
        "\n",
        "print(\"=== USER INSTRUCTION ===\")\n",
        "print(user_text)\n",
        "print(\"\\n=== ASSISTANT REPORT ===\")\n",
        "print(report_text)\n"
      ]
    },
    {
      "cell_type": "markdown",
      "metadata": {
        "id": "idAEIeSQ3xdS"
      },
      "source": [
        "<a name=\"Train\"></a>\n",
        "## Train the model\n"
      ]
    },
    {
      "cell_type": "code",
      "execution_count": null,
      "metadata": {
        "id": "95_Nn-89DhsL"
      },
      "outputs": [],
      "source": [
        "from unsloth.trainer import UnslothVisionDataCollator\n",
        "from trl import SFTTrainer, SFTConfig\n",
        "from transformers import EarlyStoppingCallback\n",
        "from unsloth import is_bf16_supported\n",
        "from unsloth.trainer import UnslothVisionDataCollator\n",
        "from trl import SFTTrainer, SFTConfig\n",
        "\n",
        "FastVisionModel.for_training(model)  # Enable for training!\n",
        "\n",
        "trainer = SFTTrainer(\n",
        "    model=model,\n",
        "    tokenizer=tokenizer,\n",
        "    data_collator=UnslothVisionDataCollator(model, tokenizer),\n",
        "    train_dataset=train_ds,\n",
        "    eval_dataset=val_ds,  # Add evaluation dataset\n",
        "    compute_metrics=None,\n",
        "    args=SFTConfig(\n",
        "        num_train_epochs=1,  # 1 epoch or modify as needed\n",
        "\n",
        "        per_device_train_batch_size=28,\n",
        "        gradient_accumulation_steps=1,\n",
        "        ignore_data_skip = True,\n",
        "\n",
        "        warmup_ratio=0.03,\n",
        "        learning_rate=1e-4,\n",
        "        lr_scheduler_type=\"cosine\",\n",
        "        weight_decay=0.01,\n",
        "        max_grad_norm=1.0,\n",
        "\n",
        "        # Precision & speed\n",
        "        fp16=not is_bf16_supported(),\n",
        "        bf16=is_bf16_supported(),\n",
        "        optim=\"adamw_torch_fused\",\n",
        "        logging_steps=10,\n",
        "        gradient_checkpointing=True,\n",
        "        gradient_checkpointing_kwargs={\"use_reentrant\": False},\n",
        "\n",
        "        # Evaluate\n",
        "        eval_strategy=\"steps\",\n",
        "        eval_steps=1000,\n",
        "        per_device_eval_batch_size=28,\n",
        "        eval_accumulation_steps=4,\n",
        "        prediction_loss_only=True,\n",
        "\n",
        "        # Data loading speed-ups\n",
        "        dataloader_num_workers=8,\n",
        "        dataloader_prefetch_factor=1,\n",
        "        dataloader_pin_memory=True,\n",
        "\n",
        "        # Vision finetuning\n",
        "        remove_unused_columns=False,\n",
        "        dataset_text_field=\"\",\n",
        "        dataset_kwargs={\"skip_prepare_dataset\": True},\n",
        "        dataset_num_proc=4,\n",
        "        max_seq_length=2048,\n",
        "\n",
        "        # Save checkpoints\n",
        "        save_strategy=\"steps\",\n",
        "        save_steps=1000,\n",
        "        save_total_limit=3,\n",
        "        save_safetensors=True,  # Save checkpoints as safetensors\n",
        "\n",
        "        push_to_hub=True,\n",
        "        hub_model_id=\"parsa-mhmdi/RadLLamaThinking_Stage1_Training_2\",   # Replace with your repo path\n",
        "        hub_private_repo=False,                        # Set this to False for a public repo\n",
        "        hub_strategy=\"all_checkpoints\",                     # \"checkpoint\" or \"all_checkpoints\"\n",
        "\n",
        "\n",
        "        seed=3407,\n",
        "        output_dir=\"/content/outputs\",  # Make sure this matches the directory you're saving checkpoints\n",
        "        report_to=\"wandb\",  # For Weights and Biases\n",
        "    ),\n",
        ")\n",
        "\n"
      ]
    },
    {
      "cell_type": "code",
      "execution_count": null,
      "metadata": {
        "colab": {
          "base_uri": "https://localhost:8080/"
        },
        "id": "2ejIt2xSNKKp",
        "outputId": "d151b9a6-be37-43bd-85d7-db65259b98d6"
      },
      "outputs": [
        {
          "name": "stdout",
          "output_type": "stream",
          "text": [
            "GPU = NVIDIA A100-SXM4-40GB. Max memory = 39.557 GB.\n",
            "9.771 GB of memory reserved.\n"
          ]
        }
      ],
      "source": [
        "# @title Show current memory stats\n",
        "gpu_stats = torch.cuda.get_device_properties(0)\n",
        "start_gpu_memory = round(torch.cuda.max_memory_reserved() / 1024 / 1024 / 1024, 3)\n",
        "max_memory = round(gpu_stats.total_memory / 1024 / 1024 / 1024, 3)\n",
        "print(f\"GPU = {gpu_stats.name}. Max memory = {max_memory} GB.\")\n",
        "print(f\"{start_gpu_memory} GB of memory reserved.\")"
      ]
    },
    {
      "cell_type": "code",
      "execution_count": null,
      "metadata": {
        "id": "7h4HHiB-bwiw"
      },
      "outputs": [],
      "source": [
        "# # resume from a specific one you pushed\n",
        "trainer_stats = trainer.train()"
      ]
    },
    {
      "cell_type": "code",
      "execution_count": null,
      "metadata": {
        "colab": {
          "background_save": true
        },
        "id": "pCqnaKmlO1U9"
      },
      "outputs": [],
      "source": [
        "# @title Show final memory and time stats\n",
        "used_memory = round(torch.cuda.max_memory_reserved() / 1024 / 1024 / 1024, 3)\n",
        "used_memory_for_lora = round(used_memory - start_gpu_memory, 3)\n",
        "used_percentage = round(used_memory / max_memory * 100, 3)\n",
        "lora_percentage = round(used_memory_for_lora / max_memory * 100, 3)\n",
        "print(f\"{trainer_stats.metrics['train_runtime']} seconds used for training.\")\n",
        "print(\n",
        "    f\"{round(trainer_stats.metrics['train_runtime']/60, 2)} minutes used for training.\"\n",
        ")\n",
        "print(f\"Peak reserved memory = {used_memory} GB.\")\n",
        "print(f\"Peak reserved memory for training = {used_memory_for_lora} GB.\")\n",
        "print(f\"Peak reserved memory % of max memory = {used_percentage} %.\")\n",
        "print(f\"Peak reserved memory for training % of max memory = {lora_percentage} %.\")"
      ]
    },
    {
      "cell_type": "markdown",
      "metadata": {
        "id": "ynuTJOkCacpx"
      },
      "source": [
        "### Save the Final model"
      ]
    },
    {
      "cell_type": "code",
      "execution_count": null,
      "metadata": {
        "colab": {
          "background_save": true
        },
        "id": "V4h9tmPpacSx"
      },
      "outputs": [],
      "source": [
        "# Save model online\n",
        "from google.colab import userdata\n",
        "\n",
        "hf_token = userdata.get('HUGGINGFACE_API')\n",
        "model.save_pretrained(\"lora_model\")  # Local saving\n",
        "tokenizer.save_pretrained(\"lora_model\")\n",
        "model.push_to_hub(\"parsa-mhmdi/RadLLamaThinking_Stage1_Final\", token = hf_token) # Online saving\n",
        "tokenizer.push_to_hub(\"parsa-mhmdi/RadLLamaThinking_Stage1_Final\", token = hf_token) # Online saving\n",
        "model.push_to_hub_merged(\"parsa-mhmdi/RadLLamaThinking_Stage1_Final\", tokenizer, token = hf_token)"
      ]
    },
    {
      "cell_type": "markdown",
      "metadata": {
        "id": "ekOmTR1hSNcr"
      },
      "source": [
        "<a name=\"Inference\"></a>\n",
        "## Inference\n",
        "Let's run the model! You can change the instruction and input - leave the output blank!\n",
        "\n",
        "We use `min_p = 0.1` and `temperature = 1.5`. Read this [Tweet](https://x.com/menhguin/status/1826132708508213629) for more information on why."
      ]
    },
    {
      "cell_type": "code",
      "execution_count": null,
      "metadata": {
        "colab": {
          "base_uri": "https://localhost:8080/"
        },
        "id": "kR3gIAX-SM2q",
        "outputId": "6ca32a83-9233-4cf4-89de-84d5288de406"
      },
      "outputs": [
        {
          "name": "stdout",
          "output_type": "stream",
          "text": [
            "                                 FINAL REPORT\n",
            " HISTORY:  Hypoxia.\n",
            " \n",
            " TECHNIQUE:  PA and lateral views of the chest.\n",
            " \n",
            " COMPARISON:  ___.\n",
            " \n",
            " FINDINGS:\n",
            " \n",
            " There is unchanged prominence of the azygos contour, and bilateral diffuse\n",
            " reticulonodular opacities which may be due to patient's history of emphysema. \n",
            " No large pleural effusion is identified.  No pneumothorax is present.  The\n",
            " cardiac and mediastinal contours are stable, and aortic knob calcification is\n",
            " redemonstrated.  No acute osseous abnormality\n"
          ]
        }
      ],
      "source": [
        "# --- Inference for your CombinedChestXRDataset sample ---\n",
        "from unsloth import FastVisionModel\n",
        "from transformers import TextStreamer\n",
        "\n",
        "# 1) Put the model into inference mode (important for Unsloth vision models)\n",
        "FastVisionModel.for_inference(model)\n",
        "model.eval()\n",
        "\n",
        "# 2) Pick a sample from one of your test splits\n",
        "#    e.g., test_chex (CheXpert 5% test) or test_mim (MIMIC 5% test)\n",
        "sample = test_chex[100]   # or: sample = test_mim[100]\n",
        "\n",
        "# 3) Extract the PIL image and the user text from the dataset’s Unsloth-style messages\n",
        "#    messages structure:\n",
        "#    messages[0] == user turn -> content = [ {\"type\":\"text\",\"text\":...}, {\"type\":\"image\",\"image\": PIL.Image} ]\n",
        "user_turn    = sample[\"messages\"][0]\n",
        "user_content = user_turn[\"content\"]\n",
        "\n",
        "# The dataset guarantees order: text first, then image — but we'll be safe:\n",
        "image = None\n",
        "instruction_text = None\n",
        "for part in user_content:\n",
        "    if part.get(\"type\") == \"image\":\n",
        "        image = part.get(\"image\")           # PIL.Image (already resized by your dataset transform)\n",
        "    elif part.get(\"type\") == \"text\":\n",
        "        instruction_text = part.get(\"text\") # Full instruction text (CheXpert includes history here)\n",
        "\n",
        "assert image is not None, \"No image found in sample['messages'][0]['content']\"\n",
        "assert instruction_text is not None, \"No text instruction found in sample['messages'][0]['content']\"\n",
        "\n",
        "# 4) Build the user message for generation.\n",
        "#    Unsloth expects an image placeholder dict alongside the text.\n",
        "gen_messages = [\n",
        "    {\n",
        "        \"role\": \"user\",\n",
        "        \"content\": [\n",
        "            {\"type\": \"image\"},                          # placeholder; actual pixels are passed to tokenizer below\n",
        "            {\"type\": \"text\", \"text\": instruction_text}  # use the SAME instruction you trained with\n",
        "        ]\n",
        "    }\n",
        "]\n",
        "\n",
        "# 5) Turn the chat into a prompt string with a generation tag\n",
        "input_text = tokenizer.apply_chat_template(\n",
        "    gen_messages,\n",
        "    add_generation_prompt=True\n",
        ")\n",
        "\n",
        "# 6) Tokenize both the image and the text together for the model\n",
        "#    Note: keep add_special_tokens=False for Unsloth’s chat template\n",
        "inputs = tokenizer(\n",
        "    image,                 # PIL.Image -> vision tensors handled under the hood\n",
        "    input_text,\n",
        "    add_special_tokens=False,\n",
        "    return_tensors=\"pt\",\n",
        ").to(\"cuda\")\n",
        "\n",
        "# 7) Stream the model’s decoded text to stdout as it generates\n",
        "streamer = TextStreamer(tokenizer, skip_prompt=True)\n",
        "\n",
        "# 8) Generate!\n",
        "_ = model.generate(\n",
        "    **inputs,\n",
        "    streamer=streamer,\n",
        "    max_new_tokens=256,     # a bit more room for full reports\n",
        "    use_cache=True,\n",
        "    temperature=0.7,        # lower temp for clinical-style outputs\n",
        "    top_p=0.9,\n",
        ")\n"
      ]
    },
    {
      "cell_type": "markdown",
      "metadata": {
        "id": "uMuVrWbjAzhc"
      },
      "source": [
        "<a name=\"Save\"></a>\n",
        "### Saving, loading finetuned models\n",
        "To save the final model as LoRA adapters, either use Huggingface's `push_to_hub` for an online save or `save_pretrained` for a local save.\n",
        "\n",
        "**[NOTE]** This ONLY saves the LoRA adapters, and not the full model. To save to 16bit or GGUF, scroll down!"
      ]
    },
    {
      "cell_type": "markdown",
      "metadata": {
        "id": "AEEcJ4qfC7Lp"
      },
      "source": [
        "Now if you want to load the LoRA adapters we just saved for inference, set `False` to `True`:"
      ]
    },
    {
      "cell_type": "code",
      "execution_count": null,
      "metadata": {
        "colab": {
          "base_uri": "https://localhost:8080/"
        },
        "id": "MKX_XKs_BNZR",
        "outputId": "d9c5f139-6084-431a-acc1-62f4d5d248ad"
      },
      "outputs": [
        {
          "name": "stdout",
          "output_type": "stream",
          "text": [
            "Panoramic radiograph of the jaw showing well-defined radiolucency (arrowheads) of the right side and unerupted second permanent maxillary molar (arrow).<|eot_id|>\n"
          ]
        }
      ],
      "source": [
        "if False:\n",
        "    from unsloth import FastVisionModel\n",
        "    model, tokenizer = FastVisionModel.from_pretrained(\n",
        "        model_name = \"lora_model\", # YOUR MODEL YOU USED FOR TRAINING\n",
        "        load_in_4bit = True, # Set to False for 16bit LoRA\n",
        "    )\n",
        "    FastVisionModel.for_inference(model) # Enable for inference!\n",
        "\n",
        "image = dataset[0][\"image\"]\n",
        "instruction = \"You are an expert radiographer. Describe accurately what you see in this image.\"\n",
        "\n",
        "messages = [\n",
        "    {\"role\": \"user\", \"content\": [\n",
        "        {\"type\": \"image\"},\n",
        "        {\"type\": \"text\", \"text\": instruction}\n",
        "    ]}\n",
        "]\n",
        "input_text = tokenizer.apply_chat_template(messages, add_generation_prompt = True)\n",
        "inputs = tokenizer(\n",
        "    image,\n",
        "    input_text,\n",
        "    add_special_tokens = False,\n",
        "    return_tensors = \"pt\",\n",
        ").to(\"cuda\")\n",
        "\n",
        "from transformers import TextStreamer\n",
        "text_streamer = TextStreamer(tokenizer, skip_prompt = True)\n",
        "_ = model.generate(**inputs, streamer = text_streamer, max_new_tokens = 128,\n",
        "                   use_cache = True, temperature = 1.5, min_p = 0.1)"
      ]
    },
    {
      "cell_type": "markdown",
      "metadata": {
        "id": "BvqC426fXj8t"
      },
      "source": [
        "## Merge weights and push to huggingface"
      ]
    },
    {
      "cell_type": "code",
      "execution_count": null,
      "metadata": {
        "colab": {
          "base_uri": "https://localhost:8080/",
          "height": 1000,
          "referenced_widgets": [
            "515310bed5ca40d98082d766f8c1b423",
            "747eaab5c8fc4640880cca37e6ee7db3",
            "caa9cc8eb0014e559149fa5157848f29",
            "ed6d07739e1d45c094dd66be63dd58dc",
            "b271c2f44933481dad4d2173fe6fc26d",
            "e5d9f5d479e84a81bfcc1de3e8b39e4d",
            "fd6d1566c6e646528b4a0500cc06e926",
            "0e96f05d7dc14cd7b9d8e0b0d7515262",
            "737ead81e4d74c3687f232751b0a090c",
            "18e82490a4bc463ba3d31339903bde54",
            "230841cfb3e94e618d1fe54dbc55f15d",
            "c652c0821f40430f9a4b654b5c568b6b",
            "b682d8803fbd411ba6f41b4c47b6d80c",
            "038cc593211441c5aa6bfe42a6bc6624",
            "7a3b0f97ecca4e6b82fa3f47d094b154",
            "17916936772144b9b7ff9fd3fd9b92b2",
            "6afcb95065e142a89263f196791e10ac",
            "c8dc1153a69c475a87a40ac16e3cd3e7",
            "7189be79edf84e7a9fb7ba6e0bfe9fab",
            "72b481fd94b94d5686c29858f404cae7",
            "8dbb2c45a3cb4c49b86284e94e78cd39",
            "61573de934224c11924a1b56adec4d15",
            "36135e8f47ae46d0ab766c9537a493f7",
            "41ed4f7a36274a7682d9f89b01c1ccd9",
            "18a2dbde1e63462f9a3b16abd9676bad",
            "e5bf3122844f428aa00ea1a64a665f2c",
            "936c6c4594bb45a683efeb955a8cd562",
            "be76abc4033649f98f8d9dd4d272f0d8",
            "f9c359a0986749828ca9d6fe32a0e017",
            "263abca12a9547d0b6d345652dd76c7f",
            "820145e0a2c84eb4ac003768d4ab3ed7",
            "ae7e7b3ebf7943b39f2cb8ade0dc8846",
            "c4066ad0aabe41b18090c1864b3067be",
            "9214335ea26f452f9f56e89af268b177",
            "8f9d53fe7f89452b8ac69aa63821b9a3",
            "5b971b3147764077b8ca7b73e6db7273",
            "27ab9e25f7164215a4f737b29f544154",
            "356db4f6028e466ea0cf667c53f0994f",
            "6f474b75931b4a28ad34fc458de63f3f",
            "532e93520e694a178b56c81e19fabf14",
            "c65ea4d97fbc4492a57049866d69f682",
            "dbffded49e2f4cee8dd2a98b1a2e3e9d",
            "95acc93dc5b241e7b9fdce708746b2cb",
            "f9dba41782194c869939d4ed815589d5",
            "2c3c476f2fd24465989fba356d83d479",
            "f3f33ace93f9493c8aa3dcdd374eb393",
            "7ca6dd93f5a4401d98230d2c227dc5bd",
            "9517730a340f42bfbd3b4eb3afc7735a",
            "7d1a5a04c79a4c8997df1b3a50333ac9",
            "f22660c1244e4eee9a4625cdd7da3871",
            "4f5150c5ce2445e19f743942ffd8ae28",
            "a856a0019e134115b8fd02ba5107504d",
            "c146ab4c62dc4ccc92658b3f5ee468ea",
            "28d45476a5624918bbb14b3383bc4d97",
            "37ace787ee6846ceac0b564484c7931d",
            "4b610923937945f8bc8b3bcdd6bc6115",
            "79d8984ee29549eeb25e2bdc91ce0210",
            "f556c1fdc0d44c72be903aa14c6052a5",
            "e5c408628fdb4292ba28033c1f523f79",
            "88582b895c834ac2afbb86e88578559d",
            "7f4ed5507b82425097af6d88a5b8892f",
            "f515bb19d1da4f31803b96343bedeb9c",
            "b1193fd1d201439487904ccfc4841245",
            "2ec1b33e092045fb9ce0ca01f28287e7",
            "400d3fd670b24a39a95ddd331bd5e912",
            "aa8a1ef7306b460cb77ac5263dab80f3",
            "1d65992d94c0461d8c4f2daa17fa3ebd",
            "9827d9db8593421797ffc14ff3da5ddb",
            "d9259b41b3a74d968c35e1e1f6abf8dc",
            "8f001525a0d049048c996dea0bca2a8d",
            "01051fd6dadf440591d1831afca52e20",
            "83bcd8a01d794780adb7e51f7a8ead34",
            "70831a2fe17c4acbaa3861573c2506df",
            "fd83973d855744188839274e4a27e348",
            "1fe5c00847c3445185f04ac60db9337a",
            "a84efb3e0a14453ea8b3602bcc883102",
            "367c423de14847f58e5fca64f1a82c39",
            "4832ffd9acdc4c0296da7d789355eb6c",
            "c6b0d4b7f5114119be97a98b008a13cd",
            "e8e2068ab2a744249466d9a8acd9a7d8",
            "8dbc5b2edc234b29874d690d7de8939b",
            "f804dd7c5d2f410fae56f3238360ea2c",
            "17803c5ce6cc4d688039e7c06a7bf896",
            "d23e17dfc10642ceb93d04dc04ebe191",
            "3823f1c46f9c413bba2b507b675508c8",
            "394452eb5cf847aab648a432ebb30363",
            "5b65fc92cec14bf0a6cbaa5330bd376f",
            "051250c18a50489895e483739890487f",
            "f80ef0d5340d47a3bd7bbfae993072b2",
            "a27091eef77a44379443d6befa98fdca",
            "66a8d6cc6b7d417bb041ca2d83f5e792",
            "2e210ca77db146dc9474e8cfc0255d45",
            "bb00e802789f418cbad7fed6460e7892",
            "9d4810879b254032b8e8bc65b60a16c2",
            "b2b2849d24f649b1819749a8728e96a6",
            "cbb2ac48dd4d463caf37e7b6fa1c0b64",
            "70d00443626a43788fc540db2323cb96",
            "720d5d7c77824e49b64c32525404c89b",
            "255def4e5d144998b2df08d3faa81cb7",
            "84584027d2c14330b147c256e759cf80",
            "df3e27e8818a492e90645bcc3ba6dab3"
          ]
        },
        "id": "q__YSFia0Kwu",
        "outputId": "42449d32-c1cf-45cb-b77a-648561304da8"
      },
      "outputs": [
        {
          "data": {
            "application/vnd.jupyter.widget-view+json": {
              "model_id": "515310bed5ca40d98082d766f8c1b423",
              "version_major": 2,
              "version_minor": 0
            },
            "text/plain": [
              "Fetching 100 files:   0%|          | 0/100 [00:00<?, ?it/s]"
            ]
          },
          "metadata": {},
          "output_type": "display_data"
        },
        {
          "data": {
            "application/vnd.jupyter.widget-view+json": {
              "model_id": "747eaab5c8fc4640880cca37e6ee7db3",
              "version_major": 2,
              "version_minor": 0
            },
            "text/plain": [
              "checkpoint-1000/adapter_model.safetensor(…):   0%|          | 0.00/420M [00:00<?, ?B/s]"
            ]
          },
          "metadata": {},
          "output_type": "display_data"
        },
        {
          "data": {
            "application/vnd.jupyter.widget-view+json": {
              "model_id": "caa9cc8eb0014e559149fa5157848f29",
              "version_major": 2,
              "version_minor": 0
            },
            "text/plain": [
              "adapter_model.safetensors:   0%|          | 0.00/420M [00:00<?, ?B/s]"
            ]
          },
          "metadata": {},
          "output_type": "display_data"
        },
        {
          "data": {
            "application/vnd.jupyter.widget-view+json": {
              "model_id": "ed6d07739e1d45c094dd66be63dd58dc",
              "version_major": 2,
              "version_minor": 0
            },
            "text/plain": [
              ".gitattributes: 0.00B [00:00, ?B/s]"
            ]
          },
          "metadata": {},
          "output_type": "display_data"
        },
        {
          "data": {
            "application/vnd.jupyter.widget-view+json": {
              "model_id": "b271c2f44933481dad4d2173fe6fc26d",
              "version_major": 2,
              "version_minor": 0
            },
            "text/plain": [
              "chat_template.jinja: 0.00B [00:00, ?B/s]"
            ]
          },
          "metadata": {},
          "output_type": "display_data"
        },
        {
          "data": {
            "application/vnd.jupyter.widget-view+json": {
              "model_id": "e5d9f5d479e84a81bfcc1de3e8b39e4d",
              "version_major": 2,
              "version_minor": 0
            },
            "text/plain": [
              "adapter_config.json: 0.00B [00:00, ?B/s]"
            ]
          },
          "metadata": {},
          "output_type": "display_data"
        },
        {
          "data": {
            "application/vnd.jupyter.widget-view+json": {
              "model_id": "fd6d1566c6e646528b4a0500cc06e926",
              "version_major": 2,
              "version_minor": 0
            },
            "text/plain": [
              "adapter_config.json: 0.00B [00:00, ?B/s]"
            ]
          },
          "metadata": {},
          "output_type": "display_data"
        },
        {
          "data": {
            "application/vnd.jupyter.widget-view+json": {
              "model_id": "0e96f05d7dc14cd7b9d8e0b0d7515262",
              "version_major": 2,
              "version_minor": 0
            },
            "text/plain": [
              "README.md: 0.00B [00:00, ?B/s]"
            ]
          },
          "metadata": {},
          "output_type": "display_data"
        },
        {
          "data": {
            "application/vnd.jupyter.widget-view+json": {
              "model_id": "737ead81e4d74c3687f232751b0a090c",
              "version_major": 2,
              "version_minor": 0
            },
            "text/plain": [
              "chat_template.jinja: 0.00B [00:00, ?B/s]"
            ]
          },
          "metadata": {},
          "output_type": "display_data"
        },
        {
          "data": {
            "application/vnd.jupyter.widget-view+json": {
              "model_id": "18e82490a4bc463ba3d31339903bde54",
              "version_major": 2,
              "version_minor": 0
            },
            "text/plain": [
              "checkpoint-1000/optimizer.pt:   0%|          | 0.00/839M [00:00<?, ?B/s]"
            ]
          },
          "metadata": {},
          "output_type": "display_data"
        },
        {
          "data": {
            "application/vnd.jupyter.widget-view+json": {
              "model_id": "230841cfb3e94e618d1fe54dbc55f15d",
              "version_major": 2,
              "version_minor": 0
            },
            "text/plain": [
              "checkpoint-1000/rng_state.pth:   0%|          | 0.00/14.6k [00:00<?, ?B/s]"
            ]
          },
          "metadata": {},
          "output_type": "display_data"
        },
        {
          "data": {
            "application/vnd.jupyter.widget-view+json": {
              "model_id": "c652c0821f40430f9a4b654b5c568b6b",
              "version_major": 2,
              "version_minor": 0
            },
            "text/plain": [
              "checkpoint-1000/scheduler.pt:   0%|          | 0.00/1.47k [00:00<?, ?B/s]"
            ]
          },
          "metadata": {},
          "output_type": "display_data"
        },
        {
          "data": {
            "application/vnd.jupyter.widget-view+json": {
              "model_id": "b682d8803fbd411ba6f41b4c47b6d80c",
              "version_major": 2,
              "version_minor": 0
            },
            "text/plain": [
              "special_tokens_map.json:   0%|          | 0.00/454 [00:00<?, ?B/s]"
            ]
          },
          "metadata": {},
          "output_type": "display_data"
        },
        {
          "data": {
            "application/vnd.jupyter.widget-view+json": {
              "model_id": "038cc593211441c5aa6bfe42a6bc6624",
              "version_major": 2,
              "version_minor": 0
            },
            "text/plain": [
              "checkpoint-1000/tokenizer.json:   0%|          | 0.00/17.2M [00:00<?, ?B/s]"
            ]
          },
          "metadata": {},
          "output_type": "display_data"
        },
        {
          "data": {
            "application/vnd.jupyter.widget-view+json": {
              "model_id": "7a3b0f97ecca4e6b82fa3f47d094b154",
              "version_major": 2,
              "version_minor": 0
            },
            "text/plain": [
              "preprocessor_config.json:   0%|          | 0.00/477 [00:00<?, ?B/s]"
            ]
          },
          "metadata": {},
          "output_type": "display_data"
        },
        {
          "data": {
            "application/vnd.jupyter.widget-view+json": {
              "model_id": "17916936772144b9b7ff9fd3fd9b92b2",
              "version_major": 2,
              "version_minor": 0
            },
            "text/plain": [
              "trainer_state.json: 0.00B [00:00, ?B/s]"
            ]
          },
          "metadata": {},
          "output_type": "display_data"
        },
        {
          "data": {
            "application/vnd.jupyter.widget-view+json": {
              "model_id": "6afcb95065e142a89263f196791e10ac",
              "version_major": 2,
              "version_minor": 0
            },
            "text/plain": [
              "tokenizer_config.json: 0.00B [00:00, ?B/s]"
            ]
          },
          "metadata": {},
          "output_type": "display_data"
        },
        {
          "data": {
            "application/vnd.jupyter.widget-view+json": {
              "model_id": "c8dc1153a69c475a87a40ac16e3cd3e7",
              "version_major": 2,
              "version_minor": 0
            },
            "text/plain": [
              "checkpoint-1000/training_args.bin:   0%|          | 0.00/6.16k [00:00<?, ?B/s]"
            ]
          },
          "metadata": {},
          "output_type": "display_data"
        },
        {
          "data": {
            "application/vnd.jupyter.widget-view+json": {
              "model_id": "7189be79edf84e7a9fb7ba6e0bfe9fab",
              "version_major": 2,
              "version_minor": 0
            },
            "text/plain": [
              "README.md: 0.00B [00:00, ?B/s]"
            ]
          },
          "metadata": {},
          "output_type": "display_data"
        },
        {
          "data": {
            "application/vnd.jupyter.widget-view+json": {
              "model_id": "72b481fd94b94d5686c29858f404cae7",
              "version_major": 2,
              "version_minor": 0
            },
            "text/plain": [
              "adapter_config.json: 0.00B [00:00, ?B/s]"
            ]
          },
          "metadata": {},
          "output_type": "display_data"
        },
        {
          "data": {
            "application/vnd.jupyter.widget-view+json": {
              "model_id": "8dbb2c45a3cb4c49b86284e94e78cd39",
              "version_major": 2,
              "version_minor": 0
            },
            "text/plain": [
              "checkpoint-2000/adapter_model.safetensor(…):   0%|          | 0.00/420M [00:00<?, ?B/s]"
            ]
          },
          "metadata": {},
          "output_type": "display_data"
        },
        {
          "data": {
            "application/vnd.jupyter.widget-view+json": {
              "model_id": "61573de934224c11924a1b56adec4d15",
              "version_major": 2,
              "version_minor": 0
            },
            "text/plain": [
              "checkpoint-2000/optimizer.pt:   0%|          | 0.00/839M [00:00<?, ?B/s]"
            ]
          },
          "metadata": {},
          "output_type": "display_data"
        },
        {
          "data": {
            "application/vnd.jupyter.widget-view+json": {
              "model_id": "36135e8f47ae46d0ab766c9537a493f7",
              "version_major": 2,
              "version_minor": 0
            },
            "text/plain": [
              "chat_template.jinja: 0.00B [00:00, ?B/s]"
            ]
          },
          "metadata": {},
          "output_type": "display_data"
        },
        {
          "data": {
            "application/vnd.jupyter.widget-view+json": {
              "model_id": "41ed4f7a36274a7682d9f89b01c1ccd9",
              "version_major": 2,
              "version_minor": 0
            },
            "text/plain": [
              "checkpoint-2000/rng_state.pth:   0%|          | 0.00/14.6k [00:00<?, ?B/s]"
            ]
          },
          "metadata": {},
          "output_type": "display_data"
        },
        {
          "data": {
            "application/vnd.jupyter.widget-view+json": {
              "model_id": "18a2dbde1e63462f9a3b16abd9676bad",
              "version_major": 2,
              "version_minor": 0
            },
            "text/plain": [
              "preprocessor_config.json:   0%|          | 0.00/477 [00:00<?, ?B/s]"
            ]
          },
          "metadata": {},
          "output_type": "display_data"
        },
        {
          "data": {
            "application/vnd.jupyter.widget-view+json": {
              "model_id": "e5bf3122844f428aa00ea1a64a665f2c",
              "version_major": 2,
              "version_minor": 0
            },
            "text/plain": [
              "checkpoint-2000/scheduler.pt:   0%|          | 0.00/1.47k [00:00<?, ?B/s]"
            ]
          },
          "metadata": {},
          "output_type": "display_data"
        },
        {
          "data": {
            "application/vnd.jupyter.widget-view+json": {
              "model_id": "936c6c4594bb45a683efeb955a8cd562",
              "version_major": 2,
              "version_minor": 0
            },
            "text/plain": [
              "special_tokens_map.json:   0%|          | 0.00/454 [00:00<?, ?B/s]"
            ]
          },
          "metadata": {},
          "output_type": "display_data"
        },
        {
          "data": {
            "application/vnd.jupyter.widget-view+json": {
              "model_id": "be76abc4033649f98f8d9dd4d272f0d8",
              "version_major": 2,
              "version_minor": 0
            },
            "text/plain": [
              "checkpoint-2000/tokenizer.json:   0%|          | 0.00/17.2M [00:00<?, ?B/s]"
            ]
          },
          "metadata": {},
          "output_type": "display_data"
        },
        {
          "data": {
            "application/vnd.jupyter.widget-view+json": {
              "model_id": "f9c359a0986749828ca9d6fe32a0e017",
              "version_major": 2,
              "version_minor": 0
            },
            "text/plain": [
              "tokenizer_config.json: 0.00B [00:00, ?B/s]"
            ]
          },
          "metadata": {},
          "output_type": "display_data"
        },
        {
          "data": {
            "application/vnd.jupyter.widget-view+json": {
              "model_id": "263abca12a9547d0b6d345652dd76c7f",
              "version_major": 2,
              "version_minor": 0
            },
            "text/plain": [
              "trainer_state.json: 0.00B [00:00, ?B/s]"
            ]
          },
          "metadata": {},
          "output_type": "display_data"
        },
        {
          "data": {
            "application/vnd.jupyter.widget-view+json": {
              "model_id": "820145e0a2c84eb4ac003768d4ab3ed7",
              "version_major": 2,
              "version_minor": 0
            },
            "text/plain": [
              "checkpoint-2000/training_args.bin:   0%|          | 0.00/6.16k [00:00<?, ?B/s]"
            ]
          },
          "metadata": {},
          "output_type": "display_data"
        },
        {
          "data": {
            "application/vnd.jupyter.widget-view+json": {
              "model_id": "ae7e7b3ebf7943b39f2cb8ade0dc8846",
              "version_major": 2,
              "version_minor": 0
            },
            "text/plain": [
              "README.md: 0.00B [00:00, ?B/s]"
            ]
          },
          "metadata": {},
          "output_type": "display_data"
        },
        {
          "data": {
            "application/vnd.jupyter.widget-view+json": {
              "model_id": "c4066ad0aabe41b18090c1864b3067be",
              "version_major": 2,
              "version_minor": 0
            },
            "text/plain": [
              "adapter_config.json: 0.00B [00:00, ?B/s]"
            ]
          },
          "metadata": {},
          "output_type": "display_data"
        },
        {
          "data": {
            "application/vnd.jupyter.widget-view+json": {
              "model_id": "9214335ea26f452f9f56e89af268b177",
              "version_major": 2,
              "version_minor": 0
            },
            "text/plain": [
              "checkpoint-3000/adapter_model.safetensor(…):   0%|          | 0.00/420M [00:00<?, ?B/s]"
            ]
          },
          "metadata": {},
          "output_type": "display_data"
        },
        {
          "data": {
            "application/vnd.jupyter.widget-view+json": {
              "model_id": "8f9d53fe7f89452b8ac69aa63821b9a3",
              "version_major": 2,
              "version_minor": 0
            },
            "text/plain": [
              "checkpoint-3000/optimizer.pt:   0%|          | 0.00/839M [00:00<?, ?B/s]"
            ]
          },
          "metadata": {},
          "output_type": "display_data"
        },
        {
          "data": {
            "application/vnd.jupyter.widget-view+json": {
              "model_id": "5b971b3147764077b8ca7b73e6db7273",
              "version_major": 2,
              "version_minor": 0
            },
            "text/plain": [
              "chat_template.jinja: 0.00B [00:00, ?B/s]"
            ]
          },
          "metadata": {},
          "output_type": "display_data"
        },
        {
          "data": {
            "application/vnd.jupyter.widget-view+json": {
              "model_id": "27ab9e25f7164215a4f737b29f544154",
              "version_major": 2,
              "version_minor": 0
            },
            "text/plain": [
              "checkpoint-3000/rng_state.pth:   0%|          | 0.00/14.6k [00:00<?, ?B/s]"
            ]
          },
          "metadata": {},
          "output_type": "display_data"
        },
        {
          "data": {
            "application/vnd.jupyter.widget-view+json": {
              "model_id": "356db4f6028e466ea0cf667c53f0994f",
              "version_major": 2,
              "version_minor": 0
            },
            "text/plain": [
              "checkpoint-3000/scheduler.pt:   0%|          | 0.00/1.47k [00:00<?, ?B/s]"
            ]
          },
          "metadata": {},
          "output_type": "display_data"
        },
        {
          "data": {
            "application/vnd.jupyter.widget-view+json": {
              "model_id": "6f474b75931b4a28ad34fc458de63f3f",
              "version_major": 2,
              "version_minor": 0
            },
            "text/plain": [
              "preprocessor_config.json:   0%|          | 0.00/477 [00:00<?, ?B/s]"
            ]
          },
          "metadata": {},
          "output_type": "display_data"
        },
        {
          "data": {
            "application/vnd.jupyter.widget-view+json": {
              "model_id": "532e93520e694a178b56c81e19fabf14",
              "version_major": 2,
              "version_minor": 0
            },
            "text/plain": [
              "special_tokens_map.json:   0%|          | 0.00/454 [00:00<?, ?B/s]"
            ]
          },
          "metadata": {},
          "output_type": "display_data"
        },
        {
          "data": {
            "application/vnd.jupyter.widget-view+json": {
              "model_id": "c65ea4d97fbc4492a57049866d69f682",
              "version_major": 2,
              "version_minor": 0
            },
            "text/plain": [
              "checkpoint-3000/tokenizer.json:   0%|          | 0.00/17.2M [00:00<?, ?B/s]"
            ]
          },
          "metadata": {},
          "output_type": "display_data"
        },
        {
          "data": {
            "application/vnd.jupyter.widget-view+json": {
              "model_id": "dbffded49e2f4cee8dd2a98b1a2e3e9d",
              "version_major": 2,
              "version_minor": 0
            },
            "text/plain": [
              "checkpoint-3000/training_args.bin:   0%|          | 0.00/6.16k [00:00<?, ?B/s]"
            ]
          },
          "metadata": {},
          "output_type": "display_data"
        },
        {
          "data": {
            "application/vnd.jupyter.widget-view+json": {
              "model_id": "95acc93dc5b241e7b9fdce708746b2cb",
              "version_major": 2,
              "version_minor": 0
            },
            "text/plain": [
              "trainer_state.json: 0.00B [00:00, ?B/s]"
            ]
          },
          "metadata": {},
          "output_type": "display_data"
        },
        {
          "data": {
            "application/vnd.jupyter.widget-view+json": {
              "model_id": "f9dba41782194c869939d4ed815589d5",
              "version_major": 2,
              "version_minor": 0
            },
            "text/plain": [
              "tokenizer_config.json: 0.00B [00:00, ?B/s]"
            ]
          },
          "metadata": {},
          "output_type": "display_data"
        },
        {
          "data": {
            "application/vnd.jupyter.widget-view+json": {
              "model_id": "2c3c476f2fd24465989fba356d83d479",
              "version_major": 2,
              "version_minor": 0
            },
            "text/plain": [
              "adapter_config.json: 0.00B [00:00, ?B/s]"
            ]
          },
          "metadata": {},
          "output_type": "display_data"
        },
        {
          "data": {
            "application/vnd.jupyter.widget-view+json": {
              "model_id": "f3f33ace93f9493c8aa3dcdd374eb393",
              "version_major": 2,
              "version_minor": 0
            },
            "text/plain": [
              "README.md: 0.00B [00:00, ?B/s]"
            ]
          },
          "metadata": {},
          "output_type": "display_data"
        },
        {
          "data": {
            "application/vnd.jupyter.widget-view+json": {
              "model_id": "7ca6dd93f5a4401d98230d2c227dc5bd",
              "version_major": 2,
              "version_minor": 0
            },
            "text/plain": [
              "checkpoint-4000/adapter_model.safetensor(…):   0%|          | 0.00/420M [00:00<?, ?B/s]"
            ]
          },
          "metadata": {},
          "output_type": "display_data"
        },
        {
          "data": {
            "application/vnd.jupyter.widget-view+json": {
              "model_id": "9517730a340f42bfbd3b4eb3afc7735a",
              "version_major": 2,
              "version_minor": 0
            },
            "text/plain": [
              "chat_template.jinja: 0.00B [00:00, ?B/s]"
            ]
          },
          "metadata": {},
          "output_type": "display_data"
        },
        {
          "data": {
            "application/vnd.jupyter.widget-view+json": {
              "model_id": "7d1a5a04c79a4c8997df1b3a50333ac9",
              "version_major": 2,
              "version_minor": 0
            },
            "text/plain": [
              "checkpoint-4000/optimizer.pt:   0%|          | 0.00/839M [00:00<?, ?B/s]"
            ]
          },
          "metadata": {},
          "output_type": "display_data"
        },
        {
          "data": {
            "application/vnd.jupyter.widget-view+json": {
              "model_id": "f22660c1244e4eee9a4625cdd7da3871",
              "version_major": 2,
              "version_minor": 0
            },
            "text/plain": [
              "checkpoint-4000/scheduler.pt:   0%|          | 0.00/1.47k [00:00<?, ?B/s]"
            ]
          },
          "metadata": {},
          "output_type": "display_data"
        },
        {
          "data": {
            "application/vnd.jupyter.widget-view+json": {
              "model_id": "4f5150c5ce2445e19f743942ffd8ae28",
              "version_major": 2,
              "version_minor": 0
            },
            "text/plain": [
              "checkpoint-4000/rng_state.pth:   0%|          | 0.00/14.6k [00:00<?, ?B/s]"
            ]
          },
          "metadata": {},
          "output_type": "display_data"
        },
        {
          "data": {
            "application/vnd.jupyter.widget-view+json": {
              "model_id": "a856a0019e134115b8fd02ba5107504d",
              "version_major": 2,
              "version_minor": 0
            },
            "text/plain": [
              "preprocessor_config.json:   0%|          | 0.00/477 [00:00<?, ?B/s]"
            ]
          },
          "metadata": {},
          "output_type": "display_data"
        },
        {
          "data": {
            "application/vnd.jupyter.widget-view+json": {
              "model_id": "c146ab4c62dc4ccc92658b3f5ee468ea",
              "version_major": 2,
              "version_minor": 0
            },
            "text/plain": [
              "checkpoint-4000/tokenizer.json:   0%|          | 0.00/17.2M [00:00<?, ?B/s]"
            ]
          },
          "metadata": {},
          "output_type": "display_data"
        },
        {
          "data": {
            "application/vnd.jupyter.widget-view+json": {
              "model_id": "28d45476a5624918bbb14b3383bc4d97",
              "version_major": 2,
              "version_minor": 0
            },
            "text/plain": [
              "special_tokens_map.json:   0%|          | 0.00/454 [00:00<?, ?B/s]"
            ]
          },
          "metadata": {},
          "output_type": "display_data"
        },
        {
          "data": {
            "application/vnd.jupyter.widget-view+json": {
              "model_id": "37ace787ee6846ceac0b564484c7931d",
              "version_major": 2,
              "version_minor": 0
            },
            "text/plain": [
              "tokenizer_config.json: 0.00B [00:00, ?B/s]"
            ]
          },
          "metadata": {},
          "output_type": "display_data"
        },
        {
          "data": {
            "application/vnd.jupyter.widget-view+json": {
              "model_id": "4b610923937945f8bc8b3bcdd6bc6115",
              "version_major": 2,
              "version_minor": 0
            },
            "text/plain": [
              "trainer_state.json: 0.00B [00:00, ?B/s]"
            ]
          },
          "metadata": {},
          "output_type": "display_data"
        },
        {
          "data": {
            "application/vnd.jupyter.widget-view+json": {
              "model_id": "79d8984ee29549eeb25e2bdc91ce0210",
              "version_major": 2,
              "version_minor": 0
            },
            "text/plain": [
              "checkpoint-4000/training_args.bin:   0%|          | 0.00/6.16k [00:00<?, ?B/s]"
            ]
          },
          "metadata": {},
          "output_type": "display_data"
        },
        {
          "data": {
            "application/vnd.jupyter.widget-view+json": {
              "model_id": "f556c1fdc0d44c72be903aa14c6052a5",
              "version_major": 2,
              "version_minor": 0
            },
            "text/plain": [
              "checkpoint-5000/adapter_model.safetensor(…):   0%|          | 0.00/420M [00:00<?, ?B/s]"
            ]
          },
          "metadata": {},
          "output_type": "display_data"
        },
        {
          "data": {
            "application/vnd.jupyter.widget-view+json": {
              "model_id": "e5c408628fdb4292ba28033c1f523f79",
              "version_major": 2,
              "version_minor": 0
            },
            "text/plain": [
              "README.md: 0.00B [00:00, ?B/s]"
            ]
          },
          "metadata": {},
          "output_type": "display_data"
        },
        {
          "data": {
            "application/vnd.jupyter.widget-view+json": {
              "model_id": "88582b895c834ac2afbb86e88578559d",
              "version_major": 2,
              "version_minor": 0
            },
            "text/plain": [
              "chat_template.jinja: 0.00B [00:00, ?B/s]"
            ]
          },
          "metadata": {},
          "output_type": "display_data"
        },
        {
          "data": {
            "application/vnd.jupyter.widget-view+json": {
              "model_id": "7f4ed5507b82425097af6d88a5b8892f",
              "version_major": 2,
              "version_minor": 0
            },
            "text/plain": [
              "adapter_config.json: 0.00B [00:00, ?B/s]"
            ]
          },
          "metadata": {},
          "output_type": "display_data"
        },
        {
          "data": {
            "application/vnd.jupyter.widget-view+json": {
              "model_id": "f515bb19d1da4f31803b96343bedeb9c",
              "version_major": 2,
              "version_minor": 0
            },
            "text/plain": [
              "checkpoint-5000/optimizer.pt:   0%|          | 0.00/839M [00:00<?, ?B/s]"
            ]
          },
          "metadata": {},
          "output_type": "display_data"
        },
        {
          "data": {
            "application/vnd.jupyter.widget-view+json": {
              "model_id": "b1193fd1d201439487904ccfc4841245",
              "version_major": 2,
              "version_minor": 0
            },
            "text/plain": [
              "checkpoint-5000/rng_state.pth:   0%|          | 0.00/14.6k [00:00<?, ?B/s]"
            ]
          },
          "metadata": {},
          "output_type": "display_data"
        },
        {
          "data": {
            "application/vnd.jupyter.widget-view+json": {
              "model_id": "2ec1b33e092045fb9ce0ca01f28287e7",
              "version_major": 2,
              "version_minor": 0
            },
            "text/plain": [
              "checkpoint-5000/scheduler.pt:   0%|          | 0.00/1.47k [00:00<?, ?B/s]"
            ]
          },
          "metadata": {},
          "output_type": "display_data"
        },
        {
          "data": {
            "application/vnd.jupyter.widget-view+json": {
              "model_id": "400d3fd670b24a39a95ddd331bd5e912",
              "version_major": 2,
              "version_minor": 0
            },
            "text/plain": [
              "preprocessor_config.json:   0%|          | 0.00/477 [00:00<?, ?B/s]"
            ]
          },
          "metadata": {},
          "output_type": "display_data"
        },
        {
          "data": {
            "application/vnd.jupyter.widget-view+json": {
              "model_id": "aa8a1ef7306b460cb77ac5263dab80f3",
              "version_major": 2,
              "version_minor": 0
            },
            "text/plain": [
              "special_tokens_map.json:   0%|          | 0.00/454 [00:00<?, ?B/s]"
            ]
          },
          "metadata": {},
          "output_type": "display_data"
        },
        {
          "data": {
            "application/vnd.jupyter.widget-view+json": {
              "model_id": "1d65992d94c0461d8c4f2daa17fa3ebd",
              "version_major": 2,
              "version_minor": 0
            },
            "text/plain": [
              "checkpoint-5000/tokenizer.json:   0%|          | 0.00/17.2M [00:00<?, ?B/s]"
            ]
          },
          "metadata": {},
          "output_type": "display_data"
        },
        {
          "data": {
            "application/vnd.jupyter.widget-view+json": {
              "model_id": "9827d9db8593421797ffc14ff3da5ddb",
              "version_major": 2,
              "version_minor": 0
            },
            "text/plain": [
              "tokenizer_config.json: 0.00B [00:00, ?B/s]"
            ]
          },
          "metadata": {},
          "output_type": "display_data"
        },
        {
          "data": {
            "application/vnd.jupyter.widget-view+json": {
              "model_id": "d9259b41b3a74d968c35e1e1f6abf8dc",
              "version_major": 2,
              "version_minor": 0
            },
            "text/plain": [
              "checkpoint-5000/training_args.bin:   0%|          | 0.00/6.16k [00:00<?, ?B/s]"
            ]
          },
          "metadata": {},
          "output_type": "display_data"
        },
        {
          "data": {
            "application/vnd.jupyter.widget-view+json": {
              "model_id": "8f001525a0d049048c996dea0bca2a8d",
              "version_major": 2,
              "version_minor": 0
            },
            "text/plain": [
              "trainer_state.json: 0.00B [00:00, ?B/s]"
            ]
          },
          "metadata": {},
          "output_type": "display_data"
        },
        {
          "data": {
            "application/vnd.jupyter.widget-view+json": {
              "model_id": "01051fd6dadf440591d1831afca52e20",
              "version_major": 2,
              "version_minor": 0
            },
            "text/plain": [
              "README.md: 0.00B [00:00, ?B/s]"
            ]
          },
          "metadata": {},
          "output_type": "display_data"
        },
        {
          "data": {
            "application/vnd.jupyter.widget-view+json": {
              "model_id": "83bcd8a01d794780adb7e51f7a8ead34",
              "version_major": 2,
              "version_minor": 0
            },
            "text/plain": [
              "adapter_config.json: 0.00B [00:00, ?B/s]"
            ]
          },
          "metadata": {},
          "output_type": "display_data"
        },
        {
          "data": {
            "application/vnd.jupyter.widget-view+json": {
              "model_id": "70831a2fe17c4acbaa3861573c2506df",
              "version_major": 2,
              "version_minor": 0
            },
            "text/plain": [
              "checkpoint-6000/adapter_model.safetensor(…):   0%|          | 0.00/420M [00:00<?, ?B/s]"
            ]
          },
          "metadata": {},
          "output_type": "display_data"
        },
        {
          "data": {
            "application/vnd.jupyter.widget-view+json": {
              "model_id": "fd83973d855744188839274e4a27e348",
              "version_major": 2,
              "version_minor": 0
            },
            "text/plain": [
              "checkpoint-6000/optimizer.pt:   0%|          | 0.00/839M [00:00<?, ?B/s]"
            ]
          },
          "metadata": {},
          "output_type": "display_data"
        },
        {
          "data": {
            "application/vnd.jupyter.widget-view+json": {
              "model_id": "1fe5c00847c3445185f04ac60db9337a",
              "version_major": 2,
              "version_minor": 0
            },
            "text/plain": [
              "checkpoint-6000/rng_state.pth:   0%|          | 0.00/14.6k [00:00<?, ?B/s]"
            ]
          },
          "metadata": {},
          "output_type": "display_data"
        },
        {
          "data": {
            "application/vnd.jupyter.widget-view+json": {
              "model_id": "a84efb3e0a14453ea8b3602bcc883102",
              "version_major": 2,
              "version_minor": 0
            },
            "text/plain": [
              "checkpoint-6000/scheduler.pt:   0%|          | 0.00/1.47k [00:00<?, ?B/s]"
            ]
          },
          "metadata": {},
          "output_type": "display_data"
        },
        {
          "data": {
            "application/vnd.jupyter.widget-view+json": {
              "model_id": "367c423de14847f58e5fca64f1a82c39",
              "version_major": 2,
              "version_minor": 0
            },
            "text/plain": [
              "chat_template.jinja: 0.00B [00:00, ?B/s]"
            ]
          },
          "metadata": {},
          "output_type": "display_data"
        },
        {
          "data": {
            "application/vnd.jupyter.widget-view+json": {
              "model_id": "4832ffd9acdc4c0296da7d789355eb6c",
              "version_major": 2,
              "version_minor": 0
            },
            "text/plain": [
              "preprocessor_config.json:   0%|          | 0.00/477 [00:00<?, ?B/s]"
            ]
          },
          "metadata": {},
          "output_type": "display_data"
        },
        {
          "data": {
            "application/vnd.jupyter.widget-view+json": {
              "model_id": "c6b0d4b7f5114119be97a98b008a13cd",
              "version_major": 2,
              "version_minor": 0
            },
            "text/plain": [
              "checkpoint-6000/tokenizer.json:   0%|          | 0.00/17.2M [00:00<?, ?B/s]"
            ]
          },
          "metadata": {},
          "output_type": "display_data"
        },
        {
          "data": {
            "application/vnd.jupyter.widget-view+json": {
              "model_id": "e8e2068ab2a744249466d9a8acd9a7d8",
              "version_major": 2,
              "version_minor": 0
            },
            "text/plain": [
              "special_tokens_map.json:   0%|          | 0.00/454 [00:00<?, ?B/s]"
            ]
          },
          "metadata": {},
          "output_type": "display_data"
        },
        {
          "data": {
            "application/vnd.jupyter.widget-view+json": {
              "model_id": "8dbc5b2edc234b29874d690d7de8939b",
              "version_major": 2,
              "version_minor": 0
            },
            "text/plain": [
              "tokenizer_config.json: 0.00B [00:00, ?B/s]"
            ]
          },
          "metadata": {},
          "output_type": "display_data"
        },
        {
          "data": {
            "application/vnd.jupyter.widget-view+json": {
              "model_id": "f804dd7c5d2f410fae56f3238360ea2c",
              "version_major": 2,
              "version_minor": 0
            },
            "text/plain": [
              "checkpoint-6000/training_args.bin:   0%|          | 0.00/6.16k [00:00<?, ?B/s]"
            ]
          },
          "metadata": {},
          "output_type": "display_data"
        },
        {
          "data": {
            "application/vnd.jupyter.widget-view+json": {
              "model_id": "17803c5ce6cc4d688039e7c06a7bf896",
              "version_major": 2,
              "version_minor": 0
            },
            "text/plain": [
              "trainer_state.json: 0.00B [00:00, ?B/s]"
            ]
          },
          "metadata": {},
          "output_type": "display_data"
        },
        {
          "data": {
            "application/vnd.jupyter.widget-view+json": {
              "model_id": "d23e17dfc10642ceb93d04dc04ebe191",
              "version_major": 2,
              "version_minor": 0
            },
            "text/plain": [
              "README.md: 0.00B [00:00, ?B/s]"
            ]
          },
          "metadata": {},
          "output_type": "display_data"
        },
        {
          "data": {
            "application/vnd.jupyter.widget-view+json": {
              "model_id": "3823f1c46f9c413bba2b507b675508c8",
              "version_major": 2,
              "version_minor": 0
            },
            "text/plain": [
              "adapter_config.json: 0.00B [00:00, ?B/s]"
            ]
          },
          "metadata": {},
          "output_type": "display_data"
        },
        {
          "data": {
            "application/vnd.jupyter.widget-view+json": {
              "model_id": "394452eb5cf847aab648a432ebb30363",
              "version_major": 2,
              "version_minor": 0
            },
            "text/plain": [
              "checkpoint-7000/adapter_model.safetensor(…):   0%|          | 0.00/420M [00:00<?, ?B/s]"
            ]
          },
          "metadata": {},
          "output_type": "display_data"
        },
        {
          "data": {
            "application/vnd.jupyter.widget-view+json": {
              "model_id": "5b65fc92cec14bf0a6cbaa5330bd376f",
              "version_major": 2,
              "version_minor": 0
            },
            "text/plain": [
              "checkpoint-7000/optimizer.pt:   0%|          | 0.00/839M [00:00<?, ?B/s]"
            ]
          },
          "metadata": {},
          "output_type": "display_data"
        },
        {
          "data": {
            "application/vnd.jupyter.widget-view+json": {
              "model_id": "051250c18a50489895e483739890487f",
              "version_major": 2,
              "version_minor": 0
            },
            "text/plain": [
              "chat_template.jinja: 0.00B [00:00, ?B/s]"
            ]
          },
          "metadata": {},
          "output_type": "display_data"
        },
        {
          "data": {
            "application/vnd.jupyter.widget-view+json": {
              "model_id": "f80ef0d5340d47a3bd7bbfae993072b2",
              "version_major": 2,
              "version_minor": 0
            },
            "text/plain": [
              "preprocessor_config.json:   0%|          | 0.00/477 [00:00<?, ?B/s]"
            ]
          },
          "metadata": {},
          "output_type": "display_data"
        },
        {
          "data": {
            "application/vnd.jupyter.widget-view+json": {
              "model_id": "a27091eef77a44379443d6befa98fdca",
              "version_major": 2,
              "version_minor": 0
            },
            "text/plain": [
              "checkpoint-7000/rng_state.pth:   0%|          | 0.00/14.6k [00:00<?, ?B/s]"
            ]
          },
          "metadata": {},
          "output_type": "display_data"
        },
        {
          "data": {
            "application/vnd.jupyter.widget-view+json": {
              "model_id": "66a8d6cc6b7d417bb041ca2d83f5e792",
              "version_major": 2,
              "version_minor": 0
            },
            "text/plain": [
              "checkpoint-7000/scheduler.pt:   0%|          | 0.00/1.47k [00:00<?, ?B/s]"
            ]
          },
          "metadata": {},
          "output_type": "display_data"
        },
        {
          "data": {
            "application/vnd.jupyter.widget-view+json": {
              "model_id": "2e210ca77db146dc9474e8cfc0255d45",
              "version_major": 2,
              "version_minor": 0
            },
            "text/plain": [
              "special_tokens_map.json:   0%|          | 0.00/454 [00:00<?, ?B/s]"
            ]
          },
          "metadata": {},
          "output_type": "display_data"
        },
        {
          "data": {
            "application/vnd.jupyter.widget-view+json": {
              "model_id": "bb00e802789f418cbad7fed6460e7892",
              "version_major": 2,
              "version_minor": 0
            },
            "text/plain": [
              "checkpoint-7000/tokenizer.json:   0%|          | 0.00/17.2M [00:00<?, ?B/s]"
            ]
          },
          "metadata": {},
          "output_type": "display_data"
        },
        {
          "data": {
            "application/vnd.jupyter.widget-view+json": {
              "model_id": "9d4810879b254032b8e8bc65b60a16c2",
              "version_major": 2,
              "version_minor": 0
            },
            "text/plain": [
              "tokenizer_config.json: 0.00B [00:00, ?B/s]"
            ]
          },
          "metadata": {},
          "output_type": "display_data"
        },
        {
          "data": {
            "application/vnd.jupyter.widget-view+json": {
              "model_id": "b2b2849d24f649b1819749a8728e96a6",
              "version_major": 2,
              "version_minor": 0
            },
            "text/plain": [
              "trainer_state.json: 0.00B [00:00, ?B/s]"
            ]
          },
          "metadata": {},
          "output_type": "display_data"
        },
        {
          "data": {
            "application/vnd.jupyter.widget-view+json": {
              "model_id": "cbb2ac48dd4d463caf37e7b6fa1c0b64",
              "version_major": 2,
              "version_minor": 0
            },
            "text/plain": [
              "checkpoint-7000/training_args.bin:   0%|          | 0.00/6.16k [00:00<?, ?B/s]"
            ]
          },
          "metadata": {},
          "output_type": "display_data"
        },
        {
          "data": {
            "application/vnd.jupyter.widget-view+json": {
              "model_id": "70d00443626a43788fc540db2323cb96",
              "version_major": 2,
              "version_minor": 0
            },
            "text/plain": [
              "tokenizer.json:   0%|          | 0.00/17.2M [00:00<?, ?B/s]"
            ]
          },
          "metadata": {},
          "output_type": "display_data"
        },
        {
          "data": {
            "application/vnd.jupyter.widget-view+json": {
              "model_id": "720d5d7c77824e49b64c32525404c89b",
              "version_major": 2,
              "version_minor": 0
            },
            "text/plain": [
              "preprocessor_config.json:   0%|          | 0.00/477 [00:00<?, ?B/s]"
            ]
          },
          "metadata": {},
          "output_type": "display_data"
        },
        {
          "data": {
            "application/vnd.jupyter.widget-view+json": {
              "model_id": "255def4e5d144998b2df08d3faa81cb7",
              "version_major": 2,
              "version_minor": 0
            },
            "text/plain": [
              "special_tokens_map.json:   0%|          | 0.00/454 [00:00<?, ?B/s]"
            ]
          },
          "metadata": {},
          "output_type": "display_data"
        },
        {
          "data": {
            "application/vnd.jupyter.widget-view+json": {
              "model_id": "84584027d2c14330b147c256e759cf80",
              "version_major": 2,
              "version_minor": 0
            },
            "text/plain": [
              "tokenizer_config.json: 0.00B [00:00, ?B/s]"
            ]
          },
          "metadata": {},
          "output_type": "display_data"
        },
        {
          "data": {
            "application/vnd.jupyter.widget-view+json": {
              "model_id": "df3e27e8818a492e90645bcc3ba6dab3",
              "version_major": 2,
              "version_minor": 0
            },
            "text/plain": [
              "training_args.bin:   0%|          | 0.00/6.16k [00:00<?, ?B/s]"
            ]
          },
          "metadata": {},
          "output_type": "display_data"
        },
        {
          "data": {
            "application/vnd.google.colaboratory.intrinsic+json": {
              "type": "string"
            },
            "text/plain": [
              "'/content/parsa-mhmdi/RadLLamaThinking_Stage1_Training_2'"
            ]
          },
          "execution_count": 7,
          "metadata": {},
          "output_type": "execute_result"
        }
      ],
      "source": [
        "from huggingface_hub import snapshot_download\n",
        "\n",
        "repo_id = \"parsa-mhmdi/RadLLamaThinking_Stage1_Training_2\"\n",
        "local_checkpoint_dir = \"./parsa-mhmdi/RadLLamaThinking_Stage1_Training_2\"  # Or any local path you prefer\n",
        "\n",
        "# Download only the specific checkpoint subfolder\n",
        "snapshot_download(\n",
        "    repo_id=repo_id,\n",
        "    local_dir=local_checkpoint_dir,\n",
        "    repo_type=\"model\"  # Default, but explicit for clarity\n",
        ")"
      ]
    },
    {
      "cell_type": "code",
      "execution_count": null,
      "metadata": {
        "colab": {
          "base_uri": "https://localhost:8080/",
          "height": 1000,
          "referenced_widgets": [
            "2c629d76397b4b1ea7c4c462c96e289f",
            "106336b7dd8f4a7aa24647ab140746f7",
            "13fac185003242ee87d52751612bdd48",
            "91f360c5dca74d13b83f6bb517ce075d",
            "c6f6b0569ec0462ab2b9f967d9722751",
            "51542f6dee084d9b8af6d834b6ef2e18",
            "1f3548ffd9174f0bbb870b511447e6cc",
            "a8e02273afd0431c9166a990e60862b9",
            "ff112049d1524235bc1b4d76b6b0b9cc",
            "35deffc53bb541dea786844de82f00e8",
            "d32f1f7bced74af2ad27db0c4cd07dbc",
            "6d91aa4f08ed409d932a03c64e1be16d",
            "274693bad2e2489aab7e3d2896817a84",
            "5d9b54964755437f8d8ccaad85c65a62",
            "6f9ff897406b49f8982bb3511916e0d8",
            "28da00a68a874fadb41da5bf1b86b792",
            "ba9bc3a06f0f462183bacfaa3047f501",
            "e8f7428e9cf8405e83a769127041e067",
            "9a37d71f1e2b455e8aa81f0ca2abad43",
            "7a2cc6ab7d164569a7f6430f611c4776",
            "7966be63499245919a636f97913401c1",
            "b7a6ed0def754971b6a1645f97f16283",
            "a76349e5079143068c0ca2796fd53a29",
            "af0d472fddbf4fe187c44a35fa838e87",
            "f67b3860e9fd4c60b87f7f7e60dce4c3",
            "1c4babd243cd4687b8b7fd6e83363e7e",
            "598192a8cfa44f6ca40bfdd4197674eb",
            "d848568c869c4ccd9df7189ef6f808ff",
            "e34bc4afdcb74842a08635f57b9fc6bb",
            "251f198979a046a391cac3ab21df4f5d"
          ]
        },
        "id": "5sxsgcHxXu2W",
        "outputId": "3107b720-85b1-4285-e07f-966993601937"
      },
      "outputs": [
        {
          "name": "stdout",
          "output_type": "stream",
          "text": [
            "🦥 Unsloth: Will patch your computer to enable 2x faster free finetuning.\n",
            "🦥 Unsloth Zoo will now patch everything to make training faster!\n",
            "==((====))==  Unsloth 2025.9.4: Fast Mllama patching. Transformers: 4.56.1.\n",
            "   \\\\   /|    NVIDIA L4. Num GPUs = 1. Max memory: 22.161 GB. Platform: Linux.\n",
            "O^O/ \\_/ \\    Torch: 2.8.0+cu126. CUDA: 8.9. CUDA Toolkit: 12.6. Triton: 3.4.0\n",
            "\\        /    Bfloat16 = TRUE. FA [Xformers = 0.0.32.post2. FA2 = False]\n",
            " \"-____-\"     Free license: http://github.com/unslothai/unsloth\n",
            "Unsloth: Fast downloading is enabled - ignore downloading bars which are red colored!\n"
          ]
        },
        {
          "data": {
            "application/vnd.jupyter.widget-view+json": {
              "model_id": "2c629d76397b4b1ea7c4c462c96e289f",
              "version_major": 2,
              "version_minor": 0
            },
            "text/plain": [
              "Loading checkpoint shards:   0%|          | 0/2 [00:00<?, ?it/s]"
            ]
          },
          "metadata": {},
          "output_type": "display_data"
        },
        {
          "data": {
            "application/vnd.jupyter.widget-view+json": {
              "model_id": "106336b7dd8f4a7aa24647ab140746f7",
              "version_major": 2,
              "version_minor": 0
            },
            "text/plain": [
              "Fetching 1 files:   0%|          | 0/1 [00:00<?, ?it/s]"
            ]
          },
          "metadata": {},
          "output_type": "display_data"
        },
        {
          "data": {
            "application/vnd.jupyter.widget-view+json": {
              "model_id": "13fac185003242ee87d52751612bdd48",
              "version_major": 2,
              "version_minor": 0
            },
            "text/plain": [
              "Fetching 1 files:   0%|          | 0/1 [00:00<?, ?it/s]"
            ]
          },
          "metadata": {},
          "output_type": "display_data"
        },
        {
          "name": "stdout",
          "output_type": "stream",
          "text": [
            "==((====))==  Unsloth 2025.9.4: Fast Mllama patching. Transformers: 4.56.1.\n",
            "   \\\\   /|    NVIDIA L4. Num GPUs = 1. Max memory: 22.161 GB. Platform: Linux.\n",
            "O^O/ \\_/ \\    Torch: 2.8.0+cu126. CUDA: 8.9. CUDA Toolkit: 12.6. Triton: 3.4.0\n",
            "\\        /    Bfloat16 = TRUE. FA [Xformers = 0.0.32.post2. FA2 = False]\n",
            " \"-____-\"     Free license: http://github.com/unslothai/unsloth\n",
            "Unsloth: Fast downloading is enabled - ignore downloading bars which are red colored!\n"
          ]
        },
        {
          "data": {
            "application/vnd.jupyter.widget-view+json": {
              "model_id": "91f360c5dca74d13b83f6bb517ce075d",
              "version_major": 2,
              "version_minor": 0
            },
            "text/plain": [
              "Loading checkpoint shards:   0%|          | 0/2 [00:00<?, ?it/s]"
            ]
          },
          "metadata": {},
          "output_type": "display_data"
        },
        {
          "data": {
            "application/vnd.jupyter.widget-view+json": {
              "model_id": "c6f6b0569ec0462ab2b9f967d9722751",
              "version_major": 2,
              "version_minor": 0
            },
            "text/plain": [
              "config.json: 0.00B [00:00, ?B/s]"
            ]
          },
          "metadata": {},
          "output_type": "display_data"
        },
        {
          "name": "stdout",
          "output_type": "stream",
          "text": [
            "DEBUG: Removed incorrectly saved weight file: model-00001-of-00002.safetensors\n",
            "DEBUG: Removed incorrectly saved weight file: model-00002-of-00002.safetensors\n"
          ]
        },
        {
          "data": {
            "application/vnd.jupyter.widget-view+json": {
              "model_id": "51542f6dee084d9b8af6d834b6ef2e18",
              "version_major": 2,
              "version_minor": 0
            },
            "text/plain": [
              "Processing Files (0 / 0)                : |          |  0.00B /  0.00B            "
            ]
          },
          "metadata": {},
          "output_type": "display_data"
        },
        {
          "data": {
            "application/vnd.jupyter.widget-view+json": {
              "model_id": "1f3548ffd9174f0bbb870b511447e6cc",
              "version_major": 2,
              "version_minor": 0
            },
            "text/plain": [
              "New Data Upload                         : |          |  0.00B /  0.00B            "
            ]
          },
          "metadata": {},
          "output_type": "display_data"
        },
        {
          "data": {
            "application/vnd.jupyter.widget-view+json": {
              "model_id": "a8e02273afd0431c9166a990e60862b9",
              "version_major": 2,
              "version_minor": 0
            },
            "text/plain": [
              "  ...hinking_Stage1_Final/tokenizer.json:   2%|1         |  295kB / 17.2MB            "
            ]
          },
          "metadata": {},
          "output_type": "display_data"
        },
        {
          "name": "stdout",
          "output_type": "stream",
          "text": [
            "Found HuggingFace hub cache directory: /root/.cache/huggingface/hub\n"
          ]
        },
        {
          "data": {
            "application/vnd.jupyter.widget-view+json": {
              "model_id": "ff112049d1524235bc1b4d76b6b0b9cc",
              "version_major": 2,
              "version_minor": 0
            },
            "text/plain": [
              "Fetching 1 files:   0%|          | 0/1 [00:00<?, ?it/s]"
            ]
          },
          "metadata": {},
          "output_type": "display_data"
        },
        {
          "data": {
            "application/vnd.jupyter.widget-view+json": {
              "model_id": "35deffc53bb541dea786844de82f00e8",
              "version_major": 2,
              "version_minor": 0
            },
            "text/plain": [
              "model.safetensors.index.json: 0.00B [00:00, ?B/s]"
            ]
          },
          "metadata": {},
          "output_type": "display_data"
        },
        {
          "name": "stdout",
          "output_type": "stream",
          "text": [
            "Checking cache directory for required files...\n",
            "Cache check failed: model-00001-of-00005.safetensors not found in local cache.\n",
            "Not all required files found in cache. Will proceed with downloading.\n"
          ]
        },
        {
          "name": "stderr",
          "output_type": "stream",
          "text": [
            "\rUnsloth: Merging weights into 16bit:   0%|          | 0/5 [00:00<?, ?it/s]"
          ]
        },
        {
          "data": {
            "application/vnd.jupyter.widget-view+json": {
              "model_id": "d32f1f7bced74af2ad27db0c4cd07dbc",
              "version_major": 2,
              "version_minor": 0
            },
            "text/plain": [
              "model-00001-of-00005.safetensors:   0%|          | 0.00/4.99G [00:00<?, ?B/s]"
            ]
          },
          "metadata": {},
          "output_type": "display_data"
        },
        {
          "data": {
            "application/vnd.jupyter.widget-view+json": {
              "model_id": "6d91aa4f08ed409d932a03c64e1be16d",
              "version_major": 2,
              "version_minor": 0
            },
            "text/plain": [
              "Processing Files (0 / 0)                : |          |  0.00B /  0.00B            "
            ]
          },
          "metadata": {},
          "output_type": "display_data"
        },
        {
          "data": {
            "application/vnd.jupyter.widget-view+json": {
              "model_id": "274693bad2e2489aab7e3d2896817a84",
              "version_major": 2,
              "version_minor": 0
            },
            "text/plain": [
              "New Data Upload                         : |          |  0.00B /  0.00B            "
            ]
          },
          "metadata": {},
          "output_type": "display_data"
        },
        {
          "data": {
            "application/vnd.jupyter.widget-view+json": {
              "model_id": "5d9b54964755437f8d8ccaad85c65a62",
              "version_major": 2,
              "version_minor": 0
            },
            "text/plain": [
              "  ...al/model-00001-of-00005.safetensors:   1%|1         | 50.2MB / 4.99GB            "
            ]
          },
          "metadata": {},
          "output_type": "display_data"
        },
        {
          "name": "stderr",
          "output_type": "stream",
          "text": [
            "\rUnsloth: Merging weights into 16bit:  20%|██        | 1/5 [01:44<06:59, 104.90s/it]"
          ]
        },
        {
          "data": {
            "application/vnd.jupyter.widget-view+json": {
              "model_id": "6f9ff897406b49f8982bb3511916e0d8",
              "version_major": 2,
              "version_minor": 0
            },
            "text/plain": [
              "model-00002-of-00005.safetensors:   0%|          | 0.00/4.97G [00:00<?, ?B/s]"
            ]
          },
          "metadata": {},
          "output_type": "display_data"
        },
        {
          "data": {
            "application/vnd.jupyter.widget-view+json": {
              "model_id": "28da00a68a874fadb41da5bf1b86b792",
              "version_major": 2,
              "version_minor": 0
            },
            "text/plain": [
              "Processing Files (0 / 0)                : |          |  0.00B /  0.00B            "
            ]
          },
          "metadata": {},
          "output_type": "display_data"
        },
        {
          "data": {
            "application/vnd.jupyter.widget-view+json": {
              "model_id": "ba9bc3a06f0f462183bacfaa3047f501",
              "version_major": 2,
              "version_minor": 0
            },
            "text/plain": [
              "New Data Upload                         : |          |  0.00B /  0.00B            "
            ]
          },
          "metadata": {},
          "output_type": "display_data"
        },
        {
          "data": {
            "application/vnd.jupyter.widget-view+json": {
              "model_id": "e8f7428e9cf8405e83a769127041e067",
              "version_major": 2,
              "version_minor": 0
            },
            "text/plain": [
              "  ...al/model-00002-of-00005.safetensors:   0%|          | 4.28MB / 4.97GB            "
            ]
          },
          "metadata": {},
          "output_type": "display_data"
        },
        {
          "name": "stderr",
          "output_type": "stream",
          "text": [
            "\rUnsloth: Merging weights into 16bit:  40%|████      | 2/5 [03:54<05:58, 119.43s/it]"
          ]
        },
        {
          "data": {
            "application/vnd.jupyter.widget-view+json": {
              "model_id": "9a37d71f1e2b455e8aa81f0ca2abad43",
              "version_major": 2,
              "version_minor": 0
            },
            "text/plain": [
              "model-00003-of-00005.safetensors:   0%|          | 0.00/4.92G [00:00<?, ?B/s]"
            ]
          },
          "metadata": {},
          "output_type": "display_data"
        },
        {
          "data": {
            "application/vnd.jupyter.widget-view+json": {
              "model_id": "7a2cc6ab7d164569a7f6430f611c4776",
              "version_major": 2,
              "version_minor": 0
            },
            "text/plain": [
              "Processing Files (0 / 0)                : |          |  0.00B /  0.00B            "
            ]
          },
          "metadata": {},
          "output_type": "display_data"
        },
        {
          "data": {
            "application/vnd.jupyter.widget-view+json": {
              "model_id": "7966be63499245919a636f97913401c1",
              "version_major": 2,
              "version_minor": 0
            },
            "text/plain": [
              "New Data Upload                         : |          |  0.00B /  0.00B            "
            ]
          },
          "metadata": {},
          "output_type": "display_data"
        },
        {
          "data": {
            "application/vnd.jupyter.widget-view+json": {
              "model_id": "b7a6ed0def754971b6a1645f97f16283",
              "version_major": 2,
              "version_minor": 0
            },
            "text/plain": [
              "  ...al/model-00003-of-00005.safetensors:   0%|          | 4.28MB / 4.92GB            "
            ]
          },
          "metadata": {},
          "output_type": "display_data"
        },
        {
          "name": "stderr",
          "output_type": "stream",
          "text": [
            "\rUnsloth: Merging weights into 16bit:  60%|██████    | 3/5 [06:01<04:05, 122.74s/it]"
          ]
        },
        {
          "data": {
            "application/vnd.jupyter.widget-view+json": {
              "model_id": "a76349e5079143068c0ca2796fd53a29",
              "version_major": 2,
              "version_minor": 0
            },
            "text/plain": [
              "model-00004-of-00005.safetensors:   0%|          | 0.00/5.00G [00:00<?, ?B/s]"
            ]
          },
          "metadata": {},
          "output_type": "display_data"
        },
        {
          "data": {
            "application/vnd.jupyter.widget-view+json": {
              "model_id": "af0d472fddbf4fe187c44a35fa838e87",
              "version_major": 2,
              "version_minor": 0
            },
            "text/plain": [
              "Processing Files (0 / 0)                : |          |  0.00B /  0.00B            "
            ]
          },
          "metadata": {},
          "output_type": "display_data"
        },
        {
          "data": {
            "application/vnd.jupyter.widget-view+json": {
              "model_id": "f67b3860e9fd4c60b87f7f7e60dce4c3",
              "version_major": 2,
              "version_minor": 0
            },
            "text/plain": [
              "New Data Upload                         : |          |  0.00B /  0.00B            "
            ]
          },
          "metadata": {},
          "output_type": "display_data"
        },
        {
          "data": {
            "application/vnd.jupyter.widget-view+json": {
              "model_id": "1c4babd243cd4687b8b7fd6e83363e7e",
              "version_major": 2,
              "version_minor": 0
            },
            "text/plain": [
              "  ...al/model-00004-of-00005.safetensors:   0%|          | 4.29MB / 5.00GB            "
            ]
          },
          "metadata": {},
          "output_type": "display_data"
        },
        {
          "name": "stderr",
          "output_type": "stream",
          "text": [
            "\rUnsloth: Merging weights into 16bit:  80%|████████  | 4/5 [08:21<02:09, 129.59s/it]"
          ]
        },
        {
          "data": {
            "application/vnd.jupyter.widget-view+json": {
              "model_id": "598192a8cfa44f6ca40bfdd4197674eb",
              "version_major": 2,
              "version_minor": 0
            },
            "text/plain": [
              "model-00005-of-00005.safetensors:   0%|          | 0.00/1.47G [00:00<?, ?B/s]"
            ]
          },
          "metadata": {},
          "output_type": "display_data"
        },
        {
          "data": {
            "application/vnd.jupyter.widget-view+json": {
              "model_id": "d848568c869c4ccd9df7189ef6f808ff",
              "version_major": 2,
              "version_minor": 0
            },
            "text/plain": [
              "Processing Files (0 / 0)                : |          |  0.00B /  0.00B            "
            ]
          },
          "metadata": {},
          "output_type": "display_data"
        },
        {
          "data": {
            "application/vnd.jupyter.widget-view+json": {
              "model_id": "e34bc4afdcb74842a08635f57b9fc6bb",
              "version_major": 2,
              "version_minor": 0
            },
            "text/plain": [
              "New Data Upload                         : |          |  0.00B /  0.00B            "
            ]
          },
          "metadata": {},
          "output_type": "display_data"
        },
        {
          "data": {
            "application/vnd.jupyter.widget-view+json": {
              "model_id": "251f198979a046a391cac3ab21df4f5d",
              "version_major": 2,
              "version_minor": 0
            },
            "text/plain": [
              "  ...al/model-00005-of-00005.safetensors:   3%|3         | 50.3MB / 1.47GB            "
            ]
          },
          "metadata": {},
          "output_type": "display_data"
        },
        {
          "name": "stderr",
          "output_type": "stream",
          "text": [
            "Unsloth: Merging weights into 16bit: 100%|██████████| 5/5 [09:00<00:00, 108.20s/it]\n"
          ]
        },
        {
          "name": "stdout",
          "output_type": "stream",
          "text": [
            "✅ Merged full model uploaded to parsa-mhmdi/RadLLamaThinking_Stage1_Final\n"
          ]
        }
      ],
      "source": [
        "from google.colab import userdata\n",
        "from huggingface_hub import login\n",
        "import os\n",
        "from unsloth import FastVisionModel\n",
        "import torch\n",
        "\n",
        "hf_token = userdata.get(\"HUGGINGFACE_API\")\n",
        "login(token=hf_token)\n",
        "\n",
        "BASE_MODEL_ID   = \"unsloth/Llama-3.2-11B-Vision-Instruct\"\n",
        "LORA_REPO       = \"parsa-mhmdi/RadLLamaThinking_Stage1_Training_2\"\n",
        "LORA_CHECKPOINT = \"checkpoint-7000\" # Specify the checkpoint folder\n",
        "\n",
        "TARGET_REPO     = \"parsa-mhmdi/RadLLamaThinking_Stage1_Final\"\n",
        "\n",
        "# 1. Load base model\n",
        "model, tokenizer = FastVisionModel.from_pretrained(\n",
        "    BASE_MODEL_ID,\n",
        "    max_seq_length=2048,\n",
        "    use_gradient_checkpointing=\"unsloth\",\n",
        "    # No need to specify load_in_4bit here, it will be handled when loading the PEFT model\n",
        ")\n",
        "\n",
        "# 2. Load LoRA adapter weights from the specific checkpoint\n",
        "model, tokenizer = FastVisionModel.from_pretrained(\n",
        "    model_name = os.path.join(LORA_REPO, LORA_CHECKPOINT), # Path to the specific checkpoint folder\n",
        "    max_seq_length=2048,\n",
        "    load_in_4bit=True, # Specify load_in_4bit here if you want to load the PEFT model in 4bit\n",
        "    use_gradient_checkpointing=\"unsloth\",\n",
        "    # Make sure to pass the base model and tokenizer to from_pretrained when loading PEFT adapters\n",
        "    # This is not explicitly shown in unsloth docs, but is common practice with PEFT\n",
        "    # You might need to explicitly pass the base model and tokenizer depending on the unsloth version\n",
        ")\n",
        "\n",
        "\n",
        "# 3. Push adapter only (This is usually done from the trainer or manually after saving adapters)\n",
        "# If you want to push the adapters, you should save them first\n",
        "# model.save_pretrained(\"lora_adapters\")\n",
        "# tokenizer.save_pretrained(\"lora_adapters\")\n",
        "# model.push_to_hub(TARGET_REPO, token=hf_token)\n",
        "# tokenizer.push_to_hub(TARGET_REPO, token=hf_token)\n",
        "\n",
        "# 4. Push merged model (base ⊕ LoRA)\n",
        "# This will merge the loaded PEFT adapters with the base model and push the full model\n",
        "model.push_to_hub_merged(TARGET_REPO, tokenizer, token=hf_token)\n",
        "\n",
        "print(\"✅ Merged full model uploaded to\", TARGET_REPO)"
      ]
    },
    {
      "cell_type": "code",
      "execution_count": null,
      "metadata": {
        "colab": {
          "base_uri": "https://localhost:8080/",
          "height": 330,
          "referenced_widgets": [
            "d9ac03a743a54d7f80e41aabbb586274",
            "025d8510d9244bf6986a3482306a83ac",
            "9f890c90a37041a283b9041f2d77b331",
            "8a735faeb58d4716aaf7d1e057c4df61",
            "33014b046eaa450fa2bf4304e806c3da",
            "0ff89227c51f4222963982aad046c740",
            "f875a9a5d715424fbba4680470dc2575"
          ]
        },
        "id": "-JGZfFXG2-FU",
        "outputId": "138930c2-b6a1-496e-907c-42a501d5b6d5"
      },
      "outputs": [
        {
          "data": {
            "application/vnd.jupyter.widget-view+json": {
              "model_id": "d9ac03a743a54d7f80e41aabbb586274",
              "version_major": 2,
              "version_minor": 0
            },
            "text/plain": [
              "README.md:   0%|          | 0.00/638 [00:00<?, ?B/s]"
            ]
          },
          "metadata": {},
          "output_type": "display_data"
        },
        {
          "data": {
            "application/vnd.jupyter.widget-view+json": {
              "model_id": "025d8510d9244bf6986a3482306a83ac",
              "version_major": 2,
              "version_minor": 0
            },
            "text/plain": [
              "Processing Files (0 / 0)                : |          |  0.00B /  0.00B            "
            ]
          },
          "metadata": {},
          "output_type": "display_data"
        },
        {
          "data": {
            "application/vnd.jupyter.widget-view+json": {
              "model_id": "9f890c90a37041a283b9041f2d77b331",
              "version_major": 2,
              "version_minor": 0
            },
            "text/plain": [
              "New Data Upload                         : |          |  0.00B /  0.00B            "
            ]
          },
          "metadata": {},
          "output_type": "display_data"
        },
        {
          "data": {
            "application/vnd.jupyter.widget-view+json": {
              "model_id": "8a735faeb58d4716aaf7d1e057c4df61",
              "version_major": 2,
              "version_minor": 0
            },
            "text/plain": [
              "  ...plpi65wng/adapter_model.safetensors:  12%|#1        | 50.3MB /  420MB            "
            ]
          },
          "metadata": {},
          "output_type": "display_data"
        },
        {
          "name": "stdout",
          "output_type": "stream",
          "text": [
            "Saved model to https://huggingface.co/parsa-mhmdi/RadLLamaThinking_Stage1_Final\n"
          ]
        },
        {
          "data": {
            "application/vnd.jupyter.widget-view+json": {
              "model_id": "33014b046eaa450fa2bf4304e806c3da",
              "version_major": 2,
              "version_minor": 0
            },
            "text/plain": [
              "Processing Files (0 / 0)                : |          |  0.00B /  0.00B            "
            ]
          },
          "metadata": {},
          "output_type": "display_data"
        },
        {
          "data": {
            "application/vnd.jupyter.widget-view+json": {
              "model_id": "0ff89227c51f4222963982aad046c740",
              "version_major": 2,
              "version_minor": 0
            },
            "text/plain": [
              "New Data Upload                         : |          |  0.00B /  0.00B            "
            ]
          },
          "metadata": {},
          "output_type": "display_data"
        },
        {
          "data": {
            "application/vnd.jupyter.widget-view+json": {
              "model_id": "f875a9a5d715424fbba4680470dc2575",
              "version_major": 2,
              "version_minor": 0
            },
            "text/plain": [
              "  /tmp/tmpebr_3hfd/tokenizer.json       : 100%|##########| 17.2MB / 17.2MB            "
            ]
          },
          "metadata": {},
          "output_type": "display_data"
        },
        {
          "name": "stderr",
          "output_type": "stream",
          "text": [
            "No files have been modified since last commit. Skipping to prevent empty commit.\n",
            "WARNING:huggingface_hub.hf_api:No files have been modified since last commit. Skipping to prevent empty commit.\n"
          ]
        },
        {
          "name": "stdout",
          "output_type": "stream",
          "text": [
            "✅ model stuff uploaded\n"
          ]
        }
      ],
      "source": [
        "# 3. Push adapter only (This is usually done from the trainer or manually after saving adapters)\n",
        "# If you want to push the adapters, you should save them first\n",
        "model.save_pretrained(\"lora_adapters\")\n",
        "tokenizer.save_pretrained(\"lora_adapters\")\n",
        "model.push_to_hub(TARGET_REPO, token=hf_token)\n",
        "tokenizer.push_to_hub(TARGET_REPO, token=hf_token)\n",
        "\n",
        "# 4. Push merged model (base ⊕ LoRA)\n",
        "# This will merge the loaded PEFT adapters with the base model and push the full model\n",
        "# model.push_to_hub_merged(TARGET_REPO, tokenizer, token=hf_token)\n",
        "\n",
        "print(\"✅ model stuff uploaded\")"
      ]
    }
  ],
  "metadata": {
    "accelerator": "GPU",
    "colab": {
      "collapsed_sections": [
        "NcXXI4FfhaEa",
        "a_T4AAfQiFyr",
        "idAEIeSQ3xdS",
        "ekOmTR1hSNcr",
        "BvqC426fXj8t"
      ],
      "gpuType": "L4",
      "machine_shape": "hm",
      "provenance": []
    },
    "kernelspec": {
      "display_name": "Python 3",
      "name": "python3"
    },
    "language_info": {
      "name": "python"
    },
    "widgets": {
      "application/vnd.jupyter.widget-state+json": {
        "002bfc0051f34973822fc31b95d80975": {
          "model_module": "@jupyter-widgets/controls",
          "model_module_version": "1.5.0",
          "model_name": "ProgressStyleModel",
          "state": {
            "_model_module": "@jupyter-widgets/controls",
            "_model_module_version": "1.5.0",
            "_model_name": "ProgressStyleModel",
            "_view_count": null,
            "_view_module": "@jupyter-widgets/base",
            "_view_module_version": "1.2.0",
            "_view_name": "StyleView",
            "bar_color": null,
            "description_width": ""
          }
        },
        "00d63a04125348dd9779a94a7f2b51e9": {
          "model_module": "@jupyter-widgets/controls",
          "model_module_version": "1.5.0",
          "model_name": "HTMLModel",
          "state": {
            "_dom_classes": [],
            "_model_module": "@jupyter-widgets/controls",
            "_model_module_version": "1.5.0",
            "_model_name": "HTMLModel",
            "_view_count": null,
            "_view_module": "@jupyter-widgets/controls",
            "_view_module_version": "1.5.0",
            "_view_name": "HTMLView",
            "description": "",
            "description_tooltip": null,
            "layout": "IPY_MODEL_f4688af60ba245cabe616c8f5ebe61e8",
            "placeholder": "​",
            "style": "IPY_MODEL_2797dc1554e74b0b8b49db1dd5f8afd0",
            "value": "chat_template.json: "
          }
        },
        "01eec8d096b44799b86f7adc8ac8b5c4": {
          "model_module": "@jupyter-widgets/controls",
          "model_module_version": "1.5.0",
          "model_name": "HBoxModel",
          "state": {
            "_dom_classes": [],
            "_model_module": "@jupyter-widgets/controls",
            "_model_module_version": "1.5.0",
            "_model_name": "HBoxModel",
            "_view_count": null,
            "_view_module": "@jupyter-widgets/controls",
            "_view_module_version": "1.5.0",
            "_view_name": "HBoxView",
            "box_style": "",
            "children": [
              "IPY_MODEL_45ee28416ae5485f964b97b9d574a098",
              "IPY_MODEL_5cf3943a03d748eb8ac0d2bbaea4bd7c",
              "IPY_MODEL_8e4f695af5af456d9b5973b88766b4cc"
            ],
            "layout": "IPY_MODEL_50c3a39010e94253b28a95035e2bc0b4"
          }
        },
        "062602ceebcc4b158abbac48913fd3a1": {
          "model_module": "@jupyter-widgets/controls",
          "model_module_version": "1.5.0",
          "model_name": "DescriptionStyleModel",
          "state": {
            "_model_module": "@jupyter-widgets/controls",
            "_model_module_version": "1.5.0",
            "_model_name": "DescriptionStyleModel",
            "_view_count": null,
            "_view_module": "@jupyter-widgets/base",
            "_view_module_version": "1.2.0",
            "_view_name": "StyleView",
            "description_width": ""
          }
        },
        "081a16aba24545a4985282332e62e5b8": {
          "model_module": "@jupyter-widgets/controls",
          "model_module_version": "1.5.0",
          "model_name": "DescriptionStyleModel",
          "state": {
            "_model_module": "@jupyter-widgets/controls",
            "_model_module_version": "1.5.0",
            "_model_name": "DescriptionStyleModel",
            "_view_count": null,
            "_view_module": "@jupyter-widgets/base",
            "_view_module_version": "1.2.0",
            "_view_name": "StyleView",
            "description_width": ""
          }
        },
        "0c50d104ed7742599f3eb90bb83509e7": {
          "model_module": "@jupyter-widgets/controls",
          "model_module_version": "1.5.0",
          "model_name": "HTMLModel",
          "state": {
            "_dom_classes": [],
            "_model_module": "@jupyter-widgets/controls",
            "_model_module_version": "1.5.0",
            "_model_name": "HTMLModel",
            "_view_count": null,
            "_view_module": "@jupyter-widgets/controls",
            "_view_module_version": "1.5.0",
            "_view_name": "HTMLView",
            "description": "",
            "description_tooltip": null,
            "layout": "IPY_MODEL_5c78306f5f2d4be5a59314b8d03ba2c5",
            "placeholder": "​",
            "style": "IPY_MODEL_cc3dcf272a0540f39f136d40594bf73b",
            "value": " 55.9k/? [00:00&lt;00:00, 7.19MB/s]"
          }
        },
        "0eba68017d024e1ca927de8f897ff9d3": {
          "model_module": "@jupyter-widgets/base",
          "model_module_version": "1.2.0",
          "model_name": "LayoutModel",
          "state": {
            "_model_module": "@jupyter-widgets/base",
            "_model_module_version": "1.2.0",
            "_model_name": "LayoutModel",
            "_view_count": null,
            "_view_module": "@jupyter-widgets/base",
            "_view_module_version": "1.2.0",
            "_view_name": "LayoutView",
            "align_content": null,
            "align_items": null,
            "align_self": null,
            "border": null,
            "bottom": null,
            "display": null,
            "flex": null,
            "flex_flow": null,
            "grid_area": null,
            "grid_auto_columns": null,
            "grid_auto_flow": null,
            "grid_auto_rows": null,
            "grid_column": null,
            "grid_gap": null,
            "grid_row": null,
            "grid_template_areas": null,
            "grid_template_columns": null,
            "grid_template_rows": null,
            "height": null,
            "justify_content": null,
            "justify_items": null,
            "left": null,
            "margin": null,
            "max_height": null,
            "max_width": null,
            "min_height": null,
            "min_width": null,
            "object_fit": null,
            "object_position": null,
            "order": null,
            "overflow": null,
            "overflow_x": null,
            "overflow_y": null,
            "padding": null,
            "right": null,
            "top": null,
            "visibility": null,
            "width": null
          }
        },
        "0ed74aa8694a4f5585e09f1a75aeca58": {
          "model_module": "@jupyter-widgets/base",
          "model_module_version": "1.2.0",
          "model_name": "LayoutModel",
          "state": {
            "_model_module": "@jupyter-widgets/base",
            "_model_module_version": "1.2.0",
            "_model_name": "LayoutModel",
            "_view_count": null,
            "_view_module": "@jupyter-widgets/base",
            "_view_module_version": "1.2.0",
            "_view_name": "LayoutView",
            "align_content": null,
            "align_items": null,
            "align_self": null,
            "border": null,
            "bottom": null,
            "display": null,
            "flex": null,
            "flex_flow": null,
            "grid_area": null,
            "grid_auto_columns": null,
            "grid_auto_flow": null,
            "grid_auto_rows": null,
            "grid_column": null,
            "grid_gap": null,
            "grid_row": null,
            "grid_template_areas": null,
            "grid_template_columns": null,
            "grid_template_rows": null,
            "height": null,
            "justify_content": null,
            "justify_items": null,
            "left": null,
            "margin": null,
            "max_height": null,
            "max_width": null,
            "min_height": null,
            "min_width": null,
            "object_fit": null,
            "object_position": null,
            "order": null,
            "overflow": null,
            "overflow_x": null,
            "overflow_y": null,
            "padding": null,
            "right": null,
            "top": null,
            "visibility": null,
            "width": null
          }
        },
        "10575aae7ac64a6d9c93483487457a9b": {
          "model_module": "@jupyter-widgets/base",
          "model_module_version": "1.2.0",
          "model_name": "LayoutModel",
          "state": {
            "_model_module": "@jupyter-widgets/base",
            "_model_module_version": "1.2.0",
            "_model_name": "LayoutModel",
            "_view_count": null,
            "_view_module": "@jupyter-widgets/base",
            "_view_module_version": "1.2.0",
            "_view_name": "LayoutView",
            "align_content": null,
            "align_items": null,
            "align_self": null,
            "border": null,
            "bottom": null,
            "display": null,
            "flex": null,
            "flex_flow": null,
            "grid_area": null,
            "grid_auto_columns": null,
            "grid_auto_flow": null,
            "grid_auto_rows": null,
            "grid_column": null,
            "grid_gap": null,
            "grid_row": null,
            "grid_template_areas": null,
            "grid_template_columns": null,
            "grid_template_rows": null,
            "height": null,
            "justify_content": null,
            "justify_items": null,
            "left": null,
            "margin": null,
            "max_height": null,
            "max_width": null,
            "min_height": null,
            "min_width": null,
            "object_fit": null,
            "object_position": null,
            "order": null,
            "overflow": null,
            "overflow_x": null,
            "overflow_y": null,
            "padding": null,
            "right": null,
            "top": null,
            "visibility": null,
            "width": null
          }
        },
        "10ea4b2169474310a3db0d415e0d1447": {
          "model_module": "@jupyter-widgets/base",
          "model_module_version": "1.2.0",
          "model_name": "LayoutModel",
          "state": {
            "_model_module": "@jupyter-widgets/base",
            "_model_module_version": "1.2.0",
            "_model_name": "LayoutModel",
            "_view_count": null,
            "_view_module": "@jupyter-widgets/base",
            "_view_module_version": "1.2.0",
            "_view_name": "LayoutView",
            "align_content": null,
            "align_items": null,
            "align_self": null,
            "border": null,
            "bottom": null,
            "display": null,
            "flex": null,
            "flex_flow": null,
            "grid_area": null,
            "grid_auto_columns": null,
            "grid_auto_flow": null,
            "grid_auto_rows": null,
            "grid_column": null,
            "grid_gap": null,
            "grid_row": null,
            "grid_template_areas": null,
            "grid_template_columns": null,
            "grid_template_rows": null,
            "height": null,
            "justify_content": null,
            "justify_items": null,
            "left": null,
            "margin": null,
            "max_height": null,
            "max_width": null,
            "min_height": null,
            "min_width": null,
            "object_fit": null,
            "object_position": null,
            "order": null,
            "overflow": null,
            "overflow_x": null,
            "overflow_y": null,
            "padding": null,
            "right": null,
            "top": null,
            "visibility": null,
            "width": "20px"
          }
        },
        "133c81a466ab44b1b093c7216d5c09e4": {
          "model_module": "@jupyter-widgets/controls",
          "model_module_version": "1.5.0",
          "model_name": "HTMLModel",
          "state": {
            "_dom_classes": [],
            "_model_module": "@jupyter-widgets/controls",
            "_model_module_version": "1.5.0",
            "_model_name": "HTMLModel",
            "_view_count": null,
            "_view_module": "@jupyter-widgets/controls",
            "_view_module_version": "1.5.0",
            "_view_name": "HTMLView",
            "description": "",
            "description_tooltip": null,
            "layout": "IPY_MODEL_505fd6fc43e94642b143a137972eef49",
            "placeholder": "​",
            "style": "IPY_MODEL_4a8fdf3274bc468296a43bcc15e129af",
            "value": " 5.15k/? [00:00&lt;00:00, 434kB/s]"
          }
        },
        "14574a5795f24e98ab50e57b7b7dc870": {
          "model_module": "@jupyter-widgets/controls",
          "model_module_version": "1.5.0",
          "model_name": "ProgressStyleModel",
          "state": {
            "_model_module": "@jupyter-widgets/controls",
            "_model_module_version": "1.5.0",
            "_model_name": "ProgressStyleModel",
            "_view_count": null,
            "_view_module": "@jupyter-widgets/base",
            "_view_module_version": "1.2.0",
            "_view_name": "StyleView",
            "bar_color": null,
            "description_width": ""
          }
        },
        "1734432046d0452bb6e254671b91443a": {
          "model_module": "@jupyter-widgets/controls",
          "model_module_version": "1.5.0",
          "model_name": "FloatProgressModel",
          "state": {
            "_dom_classes": [],
            "_model_module": "@jupyter-widgets/controls",
            "_model_module_version": "1.5.0",
            "_model_name": "FloatProgressModel",
            "_view_count": null,
            "_view_module": "@jupyter-widgets/controls",
            "_view_module_version": "1.5.0",
            "_view_name": "ProgressView",
            "bar_style": "success",
            "description": "",
            "description_tooltip": null,
            "layout": "IPY_MODEL_4b66353808b148f8a60f7fae0c7b3c0a",
            "max": 1,
            "min": 0,
            "orientation": "horizontal",
            "style": "IPY_MODEL_8c5e10ebfaac418bbee085114d4cc119",
            "value": 1
          }
        },
        "189389d0d3e746fa90bf54b95e21f3f2": {
          "model_module": "@jupyter-widgets/base",
          "model_module_version": "1.2.0",
          "model_name": "LayoutModel",
          "state": {
            "_model_module": "@jupyter-widgets/base",
            "_model_module_version": "1.2.0",
            "_model_name": "LayoutModel",
            "_view_count": null,
            "_view_module": "@jupyter-widgets/base",
            "_view_module_version": "1.2.0",
            "_view_name": "LayoutView",
            "align_content": null,
            "align_items": null,
            "align_self": null,
            "border": null,
            "bottom": null,
            "display": null,
            "flex": null,
            "flex_flow": null,
            "grid_area": null,
            "grid_auto_columns": null,
            "grid_auto_flow": null,
            "grid_auto_rows": null,
            "grid_column": null,
            "grid_gap": null,
            "grid_row": null,
            "grid_template_areas": null,
            "grid_template_columns": null,
            "grid_template_rows": null,
            "height": null,
            "justify_content": null,
            "justify_items": null,
            "left": null,
            "margin": null,
            "max_height": null,
            "max_width": null,
            "min_height": null,
            "min_width": null,
            "object_fit": null,
            "object_position": null,
            "order": null,
            "overflow": null,
            "overflow_x": null,
            "overflow_y": null,
            "padding": null,
            "right": null,
            "top": null,
            "visibility": null,
            "width": null
          }
        },
        "19a2099faccb4e1386d9cb9b80b1796a": {
          "model_module": "@jupyter-widgets/base",
          "model_module_version": "1.2.0",
          "model_name": "LayoutModel",
          "state": {
            "_model_module": "@jupyter-widgets/base",
            "_model_module_version": "1.2.0",
            "_model_name": "LayoutModel",
            "_view_count": null,
            "_view_module": "@jupyter-widgets/base",
            "_view_module_version": "1.2.0",
            "_view_name": "LayoutView",
            "align_content": null,
            "align_items": null,
            "align_self": null,
            "border": null,
            "bottom": null,
            "display": null,
            "flex": null,
            "flex_flow": null,
            "grid_area": null,
            "grid_auto_columns": null,
            "grid_auto_flow": null,
            "grid_auto_rows": null,
            "grid_column": null,
            "grid_gap": null,
            "grid_row": null,
            "grid_template_areas": null,
            "grid_template_columns": null,
            "grid_template_rows": null,
            "height": null,
            "justify_content": null,
            "justify_items": null,
            "left": null,
            "margin": null,
            "max_height": null,
            "max_width": null,
            "min_height": null,
            "min_width": null,
            "object_fit": null,
            "object_position": null,
            "order": null,
            "overflow": null,
            "overflow_x": null,
            "overflow_y": null,
            "padding": null,
            "right": null,
            "top": null,
            "visibility": null,
            "width": null
          }
        },
        "1a064f55a6f842aca4af9ba27cdbb958": {
          "model_module": "@jupyter-widgets/controls",
          "model_module_version": "1.5.0",
          "model_name": "FloatProgressModel",
          "state": {
            "_dom_classes": [],
            "_model_module": "@jupyter-widgets/controls",
            "_model_module_version": "1.5.0",
            "_model_name": "FloatProgressModel",
            "_view_count": null,
            "_view_module": "@jupyter-widgets/controls",
            "_view_module_version": "1.5.0",
            "_view_name": "ProgressView",
            "bar_style": "success",
            "description": "",
            "description_tooltip": null,
            "layout": "IPY_MODEL_873073370ba94a30a35e837101ea722d",
            "max": 477,
            "min": 0,
            "orientation": "horizontal",
            "style": "IPY_MODEL_6245041e5c034e57901818a431a42a33",
            "value": 477
          }
        },
        "1b5562265de24eb5af137003e26ab4ff": {
          "model_module": "@jupyter-widgets/controls",
          "model_module_version": "1.5.0",
          "model_name": "DescriptionStyleModel",
          "state": {
            "_model_module": "@jupyter-widgets/controls",
            "_model_module_version": "1.5.0",
            "_model_name": "DescriptionStyleModel",
            "_view_count": null,
            "_view_module": "@jupyter-widgets/base",
            "_view_module_version": "1.2.0",
            "_view_name": "StyleView",
            "description_width": ""
          }
        },
        "1c17fbaf025840a39249c91544c0ac42": {
          "model_module": "@jupyter-widgets/base",
          "model_module_version": "1.2.0",
          "model_name": "LayoutModel",
          "state": {
            "_model_module": "@jupyter-widgets/base",
            "_model_module_version": "1.2.0",
            "_model_name": "LayoutModel",
            "_view_count": null,
            "_view_module": "@jupyter-widgets/base",
            "_view_module_version": "1.2.0",
            "_view_name": "LayoutView",
            "align_content": null,
            "align_items": null,
            "align_self": null,
            "border": null,
            "bottom": null,
            "display": null,
            "flex": null,
            "flex_flow": null,
            "grid_area": null,
            "grid_auto_columns": null,
            "grid_auto_flow": null,
            "grid_auto_rows": null,
            "grid_column": null,
            "grid_gap": null,
            "grid_row": null,
            "grid_template_areas": null,
            "grid_template_columns": null,
            "grid_template_rows": null,
            "height": null,
            "justify_content": null,
            "justify_items": null,
            "left": null,
            "margin": null,
            "max_height": null,
            "max_width": null,
            "min_height": null,
            "min_width": null,
            "object_fit": null,
            "object_position": null,
            "order": null,
            "overflow": null,
            "overflow_x": null,
            "overflow_y": null,
            "padding": null,
            "right": null,
            "top": null,
            "visibility": null,
            "width": null
          }
        },
        "1cb0e51d14064321a269c2743fc630ae": {
          "model_module": "@jupyter-widgets/controls",
          "model_module_version": "1.5.0",
          "model_name": "HTMLModel",
          "state": {
            "_dom_classes": [],
            "_model_module": "@jupyter-widgets/controls",
            "_model_module_version": "1.5.0",
            "_model_name": "HTMLModel",
            "_view_count": null,
            "_view_module": "@jupyter-widgets/controls",
            "_view_module_version": "1.5.0",
            "_view_name": "HTMLView",
            "description": "",
            "description_tooltip": null,
            "layout": "IPY_MODEL_f31bdf55b1a147c9ac24c019e8a2f876",
            "placeholder": "​",
            "style": "IPY_MODEL_062602ceebcc4b158abbac48913fd3a1",
            "value": "tokenizer_config.json: "
          }
        },
        "1e9c5979947c4fe48e0eb4a5d498bc85": {
          "model_module": "@jupyter-widgets/controls",
          "model_module_version": "1.5.0",
          "model_name": "DescriptionStyleModel",
          "state": {
            "_model_module": "@jupyter-widgets/controls",
            "_model_module_version": "1.5.0",
            "_model_name": "DescriptionStyleModel",
            "_view_count": null,
            "_view_module": "@jupyter-widgets/base",
            "_view_module_version": "1.2.0",
            "_view_name": "StyleView",
            "description_width": ""
          }
        },
        "246cf9bdaee14c05903b8613a5dc04d9": {
          "model_module": "@jupyter-widgets/base",
          "model_module_version": "1.2.0",
          "model_name": "LayoutModel",
          "state": {
            "_model_module": "@jupyter-widgets/base",
            "_model_module_version": "1.2.0",
            "_model_name": "LayoutModel",
            "_view_count": null,
            "_view_module": "@jupyter-widgets/base",
            "_view_module_version": "1.2.0",
            "_view_name": "LayoutView",
            "align_content": null,
            "align_items": null,
            "align_self": null,
            "border": null,
            "bottom": null,
            "display": null,
            "flex": null,
            "flex_flow": null,
            "grid_area": null,
            "grid_auto_columns": null,
            "grid_auto_flow": null,
            "grid_auto_rows": null,
            "grid_column": null,
            "grid_gap": null,
            "grid_row": null,
            "grid_template_areas": null,
            "grid_template_columns": null,
            "grid_template_rows": null,
            "height": null,
            "justify_content": null,
            "justify_items": null,
            "left": null,
            "margin": null,
            "max_height": null,
            "max_width": null,
            "min_height": null,
            "min_width": null,
            "object_fit": null,
            "object_position": null,
            "order": null,
            "overflow": null,
            "overflow_x": null,
            "overflow_y": null,
            "padding": null,
            "right": null,
            "top": null,
            "visibility": null,
            "width": null
          }
        },
        "2505a4e97a5e419bb1b3e179be6b6b8b": {
          "model_module": "@jupyter-widgets/base",
          "model_module_version": "1.2.0",
          "model_name": "LayoutModel",
          "state": {
            "_model_module": "@jupyter-widgets/base",
            "_model_module_version": "1.2.0",
            "_model_name": "LayoutModel",
            "_view_count": null,
            "_view_module": "@jupyter-widgets/base",
            "_view_module_version": "1.2.0",
            "_view_name": "LayoutView",
            "align_content": null,
            "align_items": null,
            "align_self": null,
            "border": null,
            "bottom": null,
            "display": null,
            "flex": null,
            "flex_flow": null,
            "grid_area": null,
            "grid_auto_columns": null,
            "grid_auto_flow": null,
            "grid_auto_rows": null,
            "grid_column": null,
            "grid_gap": null,
            "grid_row": null,
            "grid_template_areas": null,
            "grid_template_columns": null,
            "grid_template_rows": null,
            "height": null,
            "justify_content": null,
            "justify_items": null,
            "left": null,
            "margin": null,
            "max_height": null,
            "max_width": null,
            "min_height": null,
            "min_width": null,
            "object_fit": null,
            "object_position": null,
            "order": null,
            "overflow": null,
            "overflow_x": null,
            "overflow_y": null,
            "padding": null,
            "right": null,
            "top": null,
            "visibility": null,
            "width": null
          }
        },
        "252cdae0a62947e18dc6b31846c221c6": {
          "model_module": "@jupyter-widgets/controls",
          "model_module_version": "1.5.0",
          "model_name": "DescriptionStyleModel",
          "state": {
            "_model_module": "@jupyter-widgets/controls",
            "_model_module_version": "1.5.0",
            "_model_name": "DescriptionStyleModel",
            "_view_count": null,
            "_view_module": "@jupyter-widgets/base",
            "_view_module_version": "1.2.0",
            "_view_name": "StyleView",
            "description_width": ""
          }
        },
        "2797dc1554e74b0b8b49db1dd5f8afd0": {
          "model_module": "@jupyter-widgets/controls",
          "model_module_version": "1.5.0",
          "model_name": "DescriptionStyleModel",
          "state": {
            "_model_module": "@jupyter-widgets/controls",
            "_model_module_version": "1.5.0",
            "_model_name": "DescriptionStyleModel",
            "_view_count": null,
            "_view_module": "@jupyter-widgets/base",
            "_view_module_version": "1.2.0",
            "_view_name": "StyleView",
            "description_width": ""
          }
        },
        "2f999cfa8cce493c8614fa43069f2fcf": {
          "model_module": "@jupyter-widgets/controls",
          "model_module_version": "1.5.0",
          "model_name": "HTMLModel",
          "state": {
            "_dom_classes": [],
            "_model_module": "@jupyter-widgets/controls",
            "_model_module_version": "1.5.0",
            "_model_name": "HTMLModel",
            "_view_count": null,
            "_view_module": "@jupyter-widgets/controls",
            "_view_module_version": "1.5.0",
            "_view_name": "HTMLView",
            "description": "",
            "description_tooltip": null,
            "layout": "IPY_MODEL_b2a7e9187c5d4258a70562421df2bd00",
            "placeholder": "​",
            "style": "IPY_MODEL_081a16aba24545a4985282332e62e5b8",
            "value": " 2/2 [00:02&lt;00:00,  1.36s/it]"
          }
        },
        "3085d9da30ce4c25bf9a99f276212f92": {
          "model_module": "@jupyter-widgets/controls",
          "model_module_version": "1.5.0",
          "model_name": "DescriptionStyleModel",
          "state": {
            "_model_module": "@jupyter-widgets/controls",
            "_model_module_version": "1.5.0",
            "_model_name": "DescriptionStyleModel",
            "_view_count": null,
            "_view_module": "@jupyter-widgets/base",
            "_view_module_version": "1.2.0",
            "_view_name": "StyleView",
            "description_width": ""
          }
        },
        "35aeb9449c374c98baa3d3540bc4c244": {
          "model_module": "@jupyter-widgets/base",
          "model_module_version": "1.2.0",
          "model_name": "LayoutModel",
          "state": {
            "_model_module": "@jupyter-widgets/base",
            "_model_module_version": "1.2.0",
            "_model_name": "LayoutModel",
            "_view_count": null,
            "_view_module": "@jupyter-widgets/base",
            "_view_module_version": "1.2.0",
            "_view_name": "LayoutView",
            "align_content": null,
            "align_items": null,
            "align_self": null,
            "border": null,
            "bottom": null,
            "display": null,
            "flex": null,
            "flex_flow": null,
            "grid_area": null,
            "grid_auto_columns": null,
            "grid_auto_flow": null,
            "grid_auto_rows": null,
            "grid_column": null,
            "grid_gap": null,
            "grid_row": null,
            "grid_template_areas": null,
            "grid_template_columns": null,
            "grid_template_rows": null,
            "height": null,
            "justify_content": null,
            "justify_items": null,
            "left": null,
            "margin": null,
            "max_height": null,
            "max_width": null,
            "min_height": null,
            "min_width": null,
            "object_fit": null,
            "object_position": null,
            "order": null,
            "overflow": null,
            "overflow_x": null,
            "overflow_y": null,
            "padding": null,
            "right": null,
            "top": null,
            "visibility": null,
            "width": "20px"
          }
        },
        "365b92030cdc41d3abb416f523a68eb4": {
          "model_module": "@jupyter-widgets/controls",
          "model_module_version": "1.5.0",
          "model_name": "HBoxModel",
          "state": {
            "_dom_classes": [],
            "_model_module": "@jupyter-widgets/controls",
            "_model_module_version": "1.5.0",
            "_model_name": "HBoxModel",
            "_view_count": null,
            "_view_module": "@jupyter-widgets/controls",
            "_view_module_version": "1.5.0",
            "_view_name": "HBoxView",
            "box_style": "",
            "children": [
              "IPY_MODEL_ea842be7a1b44190b850d299e2469815",
              "IPY_MODEL_c485e335b4f34735a41f4c38f376677a",
              "IPY_MODEL_792199612faf47e5afa09ff1fa94e386"
            ],
            "layout": "IPY_MODEL_5bf21f60add444fcbd6828c8603cb2ea"
          }
        },
        "3a73927cd78b46a487c5f819e4d7a822": {
          "model_module": "@jupyter-widgets/controls",
          "model_module_version": "1.5.0",
          "model_name": "DescriptionStyleModel",
          "state": {
            "_model_module": "@jupyter-widgets/controls",
            "_model_module_version": "1.5.0",
            "_model_name": "DescriptionStyleModel",
            "_view_count": null,
            "_view_module": "@jupyter-widgets/base",
            "_view_module_version": "1.2.0",
            "_view_name": "StyleView",
            "description_width": ""
          }
        },
        "3e442a2845ff4003a01f09b1b4a96628": {
          "model_module": "@jupyter-widgets/base",
          "model_module_version": "1.2.0",
          "model_name": "LayoutModel",
          "state": {
            "_model_module": "@jupyter-widgets/base",
            "_model_module_version": "1.2.0",
            "_model_name": "LayoutModel",
            "_view_count": null,
            "_view_module": "@jupyter-widgets/base",
            "_view_module_version": "1.2.0",
            "_view_name": "LayoutView",
            "align_content": null,
            "align_items": null,
            "align_self": null,
            "border": null,
            "bottom": null,
            "display": null,
            "flex": null,
            "flex_flow": null,
            "grid_area": null,
            "grid_auto_columns": null,
            "grid_auto_flow": null,
            "grid_auto_rows": null,
            "grid_column": null,
            "grid_gap": null,
            "grid_row": null,
            "grid_template_areas": null,
            "grid_template_columns": null,
            "grid_template_rows": null,
            "height": null,
            "justify_content": null,
            "justify_items": null,
            "left": null,
            "margin": null,
            "max_height": null,
            "max_width": null,
            "min_height": null,
            "min_width": null,
            "object_fit": null,
            "object_position": null,
            "order": null,
            "overflow": null,
            "overflow_x": null,
            "overflow_y": null,
            "padding": null,
            "right": null,
            "top": null,
            "visibility": null,
            "width": null
          }
        },
        "3fe9fd29ac8c4c36910dc6e8332a1d6c": {
          "model_module": "@jupyter-widgets/controls",
          "model_module_version": "1.5.0",
          "model_name": "HTMLModel",
          "state": {
            "_dom_classes": [],
            "_model_module": "@jupyter-widgets/controls",
            "_model_module_version": "1.5.0",
            "_model_name": "HTMLModel",
            "_view_count": null,
            "_view_module": "@jupyter-widgets/controls",
            "_view_module_version": "1.5.0",
            "_view_name": "HTMLView",
            "description": "",
            "description_tooltip": null,
            "layout": "IPY_MODEL_10575aae7ac64a6d9c93483487457a9b",
            "placeholder": "​",
            "style": "IPY_MODEL_595aba69c3414cdaa86e19d78539a886",
            "value": "preprocessor_config.json: 100%"
          }
        },
        "43122ba45c2e4c67a00d659dc4c07010": {
          "model_module": "@jupyter-widgets/controls",
          "model_module_version": "1.5.0",
          "model_name": "HTMLModel",
          "state": {
            "_dom_classes": [],
            "_model_module": "@jupyter-widgets/controls",
            "_model_module_version": "1.5.0",
            "_model_name": "HTMLModel",
            "_view_count": null,
            "_view_module": "@jupyter-widgets/controls",
            "_view_module_version": "1.5.0",
            "_view_name": "HTMLView",
            "description": "",
            "description_tooltip": null,
            "layout": "IPY_MODEL_6834863a664e4897bd28ffec55dd689b",
            "placeholder": "​",
            "style": "IPY_MODEL_46be933912dd48d1a5ba351a1c8a4441",
            "value": "model-00001-of-00002.safetensors: 100%"
          }
        },
        "44126070a27b4388b50d45db17040b69": {
          "model_module": "@jupyter-widgets/controls",
          "model_module_version": "1.5.0",
          "model_name": "FloatProgressModel",
          "state": {
            "_dom_classes": [],
            "_model_module": "@jupyter-widgets/controls",
            "_model_module_version": "1.5.0",
            "_model_name": "FloatProgressModel",
            "_view_count": null,
            "_view_module": "@jupyter-widgets/controls",
            "_view_module_version": "1.5.0",
            "_view_name": "ProgressView",
            "bar_style": "success",
            "description": "",
            "description_tooltip": null,
            "layout": "IPY_MODEL_55da3b2f078c4f7c8f3550c30924d816",
            "max": 4971535505,
            "min": 0,
            "orientation": "horizontal",
            "style": "IPY_MODEL_71493655d71f4cb8bc46b91f37d1acf8",
            "value": 4971535505
          }
        },
        "45ee28416ae5485f964b97b9d574a098": {
          "model_module": "@jupyter-widgets/controls",
          "model_module_version": "1.5.0",
          "model_name": "HTMLModel",
          "state": {
            "_dom_classes": [],
            "_model_module": "@jupyter-widgets/controls",
            "_model_module_version": "1.5.0",
            "_model_name": "HTMLModel",
            "_view_count": null,
            "_view_module": "@jupyter-widgets/controls",
            "_view_module_version": "1.5.0",
            "_view_name": "HTMLView",
            "description": "",
            "description_tooltip": null,
            "layout": "IPY_MODEL_e907b276b7da45e6994168916d26a09f",
            "placeholder": "​",
            "style": "IPY_MODEL_eff6b8354c274dfba5ad781e3219a6d8",
            "value": "Fetching 1 files: 100%"
          }
        },
        "46be933912dd48d1a5ba351a1c8a4441": {
          "model_module": "@jupyter-widgets/controls",
          "model_module_version": "1.5.0",
          "model_name": "DescriptionStyleModel",
          "state": {
            "_model_module": "@jupyter-widgets/controls",
            "_model_module_version": "1.5.0",
            "_model_name": "DescriptionStyleModel",
            "_view_count": null,
            "_view_module": "@jupyter-widgets/base",
            "_view_module_version": "1.2.0",
            "_view_name": "StyleView",
            "description_width": ""
          }
        },
        "48a07b0a87ee45aea556d86e25438693": {
          "model_module": "@jupyter-widgets/controls",
          "model_module_version": "1.5.0",
          "model_name": "HTMLModel",
          "state": {
            "_dom_classes": [],
            "_model_module": "@jupyter-widgets/controls",
            "_model_module_version": "1.5.0",
            "_model_name": "HTMLModel",
            "_view_count": null,
            "_view_module": "@jupyter-widgets/controls",
            "_view_module_version": "1.5.0",
            "_view_name": "HTMLView",
            "description": "",
            "description_tooltip": null,
            "layout": "IPY_MODEL_87cafd789d834d0c87e354b7a179b8f4",
            "placeholder": "​",
            "style": "IPY_MODEL_a8fd6244ee594c43b5c09865d99299cc",
            "value": "Fetching 1 files: 100%"
          }
        },
        "4975eadffea343f8805c03c1d81f93c4": {
          "model_module": "@jupyter-widgets/controls",
          "model_module_version": "1.5.0",
          "model_name": "FloatProgressModel",
          "state": {
            "_dom_classes": [],
            "_model_module": "@jupyter-widgets/controls",
            "_model_module_version": "1.5.0",
            "_model_name": "FloatProgressModel",
            "_view_count": null,
            "_view_module": "@jupyter-widgets/controls",
            "_view_module_version": "1.5.0",
            "_view_name": "ProgressView",
            "bar_style": "success",
            "description": "",
            "description_tooltip": null,
            "layout": "IPY_MODEL_10ea4b2169474310a3db0d415e0d1447",
            "max": 1,
            "min": 0,
            "orientation": "horizontal",
            "style": "IPY_MODEL_50ffaeb5bcf5450cabfba26fbc8a289c",
            "value": 1
          }
        },
        "4a8fdf3274bc468296a43bcc15e129af": {
          "model_module": "@jupyter-widgets/controls",
          "model_module_version": "1.5.0",
          "model_name": "DescriptionStyleModel",
          "state": {
            "_model_module": "@jupyter-widgets/controls",
            "_model_module_version": "1.5.0",
            "_model_name": "DescriptionStyleModel",
            "_view_count": null,
            "_view_module": "@jupyter-widgets/base",
            "_view_module_version": "1.2.0",
            "_view_name": "StyleView",
            "description_width": ""
          }
        },
        "4aef6c4926af412cbe11c3cf02822846": {
          "model_module": "@jupyter-widgets/controls",
          "model_module_version": "1.5.0",
          "model_name": "FloatProgressModel",
          "state": {
            "_dom_classes": [],
            "_model_module": "@jupyter-widgets/controls",
            "_model_module_version": "1.5.0",
            "_model_name": "FloatProgressModel",
            "_view_count": null,
            "_view_module": "@jupyter-widgets/controls",
            "_view_module_version": "1.5.0",
            "_view_name": "ProgressView",
            "bar_style": "success",
            "description": "",
            "description_tooltip": null,
            "layout": "IPY_MODEL_963b8f5ab44548728ac785ab4e61eaeb",
            "max": 17210088,
            "min": 0,
            "orientation": "horizontal",
            "style": "IPY_MODEL_e8d8b538bea14d39b3168230512e2345",
            "value": 17210088
          }
        },
        "4b66353808b148f8a60f7fae0c7b3c0a": {
          "model_module": "@jupyter-widgets/base",
          "model_module_version": "1.2.0",
          "model_name": "LayoutModel",
          "state": {
            "_model_module": "@jupyter-widgets/base",
            "_model_module_version": "1.2.0",
            "_model_name": "LayoutModel",
            "_view_count": null,
            "_view_module": "@jupyter-widgets/base",
            "_view_module_version": "1.2.0",
            "_view_name": "LayoutView",
            "align_content": null,
            "align_items": null,
            "align_self": null,
            "border": null,
            "bottom": null,
            "display": null,
            "flex": null,
            "flex_flow": null,
            "grid_area": null,
            "grid_auto_columns": null,
            "grid_auto_flow": null,
            "grid_auto_rows": null,
            "grid_column": null,
            "grid_gap": null,
            "grid_row": null,
            "grid_template_areas": null,
            "grid_template_columns": null,
            "grid_template_rows": null,
            "height": null,
            "justify_content": null,
            "justify_items": null,
            "left": null,
            "margin": null,
            "max_height": null,
            "max_width": null,
            "min_height": null,
            "min_width": null,
            "object_fit": null,
            "object_position": null,
            "order": null,
            "overflow": null,
            "overflow_x": null,
            "overflow_y": null,
            "padding": null,
            "right": null,
            "top": null,
            "visibility": null,
            "width": null
          }
        },
        "503a07b0886c4e2cb218070fbaa72f86": {
          "model_module": "@jupyter-widgets/controls",
          "model_module_version": "1.5.0",
          "model_name": "FloatProgressModel",
          "state": {
            "_dom_classes": [],
            "_model_module": "@jupyter-widgets/controls",
            "_model_module_version": "1.5.0",
            "_model_name": "FloatProgressModel",
            "_view_count": null,
            "_view_module": "@jupyter-widgets/controls",
            "_view_module_version": "1.5.0",
            "_view_name": "ProgressView",
            "bar_style": "success",
            "description": "",
            "description_tooltip": null,
            "layout": "IPY_MODEL_aefa93acf9f248f9b8c5138fd77a5cb7",
            "max": 454,
            "min": 0,
            "orientation": "horizontal",
            "style": "IPY_MODEL_7ecbc599a8154b2a86a04d57ff04f513",
            "value": 454
          }
        },
        "505fd6fc43e94642b143a137972eef49": {
          "model_module": "@jupyter-widgets/base",
          "model_module_version": "1.2.0",
          "model_name": "LayoutModel",
          "state": {
            "_model_module": "@jupyter-widgets/base",
            "_model_module_version": "1.2.0",
            "_model_name": "LayoutModel",
            "_view_count": null,
            "_view_module": "@jupyter-widgets/base",
            "_view_module_version": "1.2.0",
            "_view_name": "LayoutView",
            "align_content": null,
            "align_items": null,
            "align_self": null,
            "border": null,
            "bottom": null,
            "display": null,
            "flex": null,
            "flex_flow": null,
            "grid_area": null,
            "grid_auto_columns": null,
            "grid_auto_flow": null,
            "grid_auto_rows": null,
            "grid_column": null,
            "grid_gap": null,
            "grid_row": null,
            "grid_template_areas": null,
            "grid_template_columns": null,
            "grid_template_rows": null,
            "height": null,
            "justify_content": null,
            "justify_items": null,
            "left": null,
            "margin": null,
            "max_height": null,
            "max_width": null,
            "min_height": null,
            "min_width": null,
            "object_fit": null,
            "object_position": null,
            "order": null,
            "overflow": null,
            "overflow_x": null,
            "overflow_y": null,
            "padding": null,
            "right": null,
            "top": null,
            "visibility": null,
            "width": null
          }
        },
        "50726bcc0d9d4d68b1eff2fa9d6ad124": {
          "model_module": "@jupyter-widgets/controls",
          "model_module_version": "1.5.0",
          "model_name": "HTMLModel",
          "state": {
            "_dom_classes": [],
            "_model_module": "@jupyter-widgets/controls",
            "_model_module_version": "1.5.0",
            "_model_name": "HTMLModel",
            "_view_count": null,
            "_view_module": "@jupyter-widgets/controls",
            "_view_module_version": "1.5.0",
            "_view_name": "HTMLView",
            "description": "",
            "description_tooltip": null,
            "layout": "IPY_MODEL_f3a3734b4b9741aea85b711739073c81",
            "placeholder": "​",
            "style": "IPY_MODEL_63079ae0dd83498aa4d37a0263235276",
            "value": "tokenizer.json: 100%"
          }
        },
        "50c3a39010e94253b28a95035e2bc0b4": {
          "model_module": "@jupyter-widgets/base",
          "model_module_version": "1.2.0",
          "model_name": "LayoutModel",
          "state": {
            "_model_module": "@jupyter-widgets/base",
            "_model_module_version": "1.2.0",
            "_model_name": "LayoutModel",
            "_view_count": null,
            "_view_module": "@jupyter-widgets/base",
            "_view_module_version": "1.2.0",
            "_view_name": "LayoutView",
            "align_content": null,
            "align_items": null,
            "align_self": null,
            "border": null,
            "bottom": null,
            "display": null,
            "flex": null,
            "flex_flow": null,
            "grid_area": null,
            "grid_auto_columns": null,
            "grid_auto_flow": null,
            "grid_auto_rows": null,
            "grid_column": null,
            "grid_gap": null,
            "grid_row": null,
            "grid_template_areas": null,
            "grid_template_columns": null,
            "grid_template_rows": null,
            "height": null,
            "justify_content": null,
            "justify_items": null,
            "left": null,
            "margin": null,
            "max_height": null,
            "max_width": null,
            "min_height": null,
            "min_width": null,
            "object_fit": null,
            "object_position": null,
            "order": null,
            "overflow": null,
            "overflow_x": null,
            "overflow_y": null,
            "padding": null,
            "right": null,
            "top": null,
            "visibility": null,
            "width": null
          }
        },
        "50ffaeb5bcf5450cabfba26fbc8a289c": {
          "model_module": "@jupyter-widgets/controls",
          "model_module_version": "1.5.0",
          "model_name": "ProgressStyleModel",
          "state": {
            "_model_module": "@jupyter-widgets/controls",
            "_model_module_version": "1.5.0",
            "_model_name": "ProgressStyleModel",
            "_view_count": null,
            "_view_module": "@jupyter-widgets/base",
            "_view_module_version": "1.2.0",
            "_view_name": "StyleView",
            "bar_color": null,
            "description_width": ""
          }
        },
        "55da3b2f078c4f7c8f3550c30924d816": {
          "model_module": "@jupyter-widgets/base",
          "model_module_version": "1.2.0",
          "model_name": "LayoutModel",
          "state": {
            "_model_module": "@jupyter-widgets/base",
            "_model_module_version": "1.2.0",
            "_model_name": "LayoutModel",
            "_view_count": null,
            "_view_module": "@jupyter-widgets/base",
            "_view_module_version": "1.2.0",
            "_view_name": "LayoutView",
            "align_content": null,
            "align_items": null,
            "align_self": null,
            "border": null,
            "bottom": null,
            "display": null,
            "flex": null,
            "flex_flow": null,
            "grid_area": null,
            "grid_auto_columns": null,
            "grid_auto_flow": null,
            "grid_auto_rows": null,
            "grid_column": null,
            "grid_gap": null,
            "grid_row": null,
            "grid_template_areas": null,
            "grid_template_columns": null,
            "grid_template_rows": null,
            "height": null,
            "justify_content": null,
            "justify_items": null,
            "left": null,
            "margin": null,
            "max_height": null,
            "max_width": null,
            "min_height": null,
            "min_width": null,
            "object_fit": null,
            "object_position": null,
            "order": null,
            "overflow": null,
            "overflow_x": null,
            "overflow_y": null,
            "padding": null,
            "right": null,
            "top": null,
            "visibility": null,
            "width": null
          }
        },
        "580b9a85ba16426289da083ebd04350c": {
          "model_module": "@jupyter-widgets/controls",
          "model_module_version": "1.5.0",
          "model_name": "HBoxModel",
          "state": {
            "_dom_classes": [],
            "_model_module": "@jupyter-widgets/controls",
            "_model_module_version": "1.5.0",
            "_model_name": "HBoxModel",
            "_view_count": null,
            "_view_module": "@jupyter-widgets/controls",
            "_view_module_version": "1.5.0",
            "_view_name": "HBoxView",
            "box_style": "",
            "children": [
              "IPY_MODEL_3fe9fd29ac8c4c36910dc6e8332a1d6c",
              "IPY_MODEL_1a064f55a6f842aca4af9ba27cdbb958",
              "IPY_MODEL_58cc1d773b9a4d6cb3c3edfd0fa2b770"
            ],
            "layout": "IPY_MODEL_748f0e21f2004feba0a5e8407e9b405c"
          }
        },
        "58cc1d773b9a4d6cb3c3edfd0fa2b770": {
          "model_module": "@jupyter-widgets/controls",
          "model_module_version": "1.5.0",
          "model_name": "HTMLModel",
          "state": {
            "_dom_classes": [],
            "_model_module": "@jupyter-widgets/controls",
            "_model_module_version": "1.5.0",
            "_model_name": "HTMLModel",
            "_view_count": null,
            "_view_module": "@jupyter-widgets/controls",
            "_view_module_version": "1.5.0",
            "_view_name": "HTMLView",
            "description": "",
            "description_tooltip": null,
            "layout": "IPY_MODEL_e8aca8456e5346f994819477af7d1975",
            "placeholder": "​",
            "style": "IPY_MODEL_e045600ff133427998e275575009c624",
            "value": " 477/477 [00:00&lt;00:00, 65.5kB/s]"
          }
        },
        "58ee0838846d4b219683ecb97f371be5": {
          "model_module": "@jupyter-widgets/controls",
          "model_module_version": "1.5.0",
          "model_name": "HBoxModel",
          "state": {
            "_dom_classes": [],
            "_model_module": "@jupyter-widgets/controls",
            "_model_module_version": "1.5.0",
            "_model_name": "HBoxModel",
            "_view_count": null,
            "_view_module": "@jupyter-widgets/controls",
            "_view_module_version": "1.5.0",
            "_view_name": "HBoxView",
            "box_style": "",
            "children": [
              "IPY_MODEL_a19d839d848a47c682347955e1bc138c",
              "IPY_MODEL_a9c5a3edf4c14da2a4197b90dda6dfc4",
              "IPY_MODEL_771fbd68dd77417b9ef53acef382a579"
            ],
            "layout": "IPY_MODEL_f33a97bac08f4bd68318b5cdfe58e613"
          }
        },
        "595aba69c3414cdaa86e19d78539a886": {
          "model_module": "@jupyter-widgets/controls",
          "model_module_version": "1.5.0",
          "model_name": "DescriptionStyleModel",
          "state": {
            "_model_module": "@jupyter-widgets/controls",
            "_model_module_version": "1.5.0",
            "_model_name": "DescriptionStyleModel",
            "_view_count": null,
            "_view_module": "@jupyter-widgets/base",
            "_view_module_version": "1.2.0",
            "_view_name": "StyleView",
            "description_width": ""
          }
        },
        "5bf21f60add444fcbd6828c8603cb2ea": {
          "model_module": "@jupyter-widgets/base",
          "model_module_version": "1.2.0",
          "model_name": "LayoutModel",
          "state": {
            "_model_module": "@jupyter-widgets/base",
            "_model_module_version": "1.2.0",
            "_model_name": "LayoutModel",
            "_view_count": null,
            "_view_module": "@jupyter-widgets/base",
            "_view_module_version": "1.2.0",
            "_view_name": "LayoutView",
            "align_content": null,
            "align_items": null,
            "align_self": null,
            "border": null,
            "bottom": null,
            "display": null,
            "flex": null,
            "flex_flow": null,
            "grid_area": null,
            "grid_auto_columns": null,
            "grid_auto_flow": null,
            "grid_auto_rows": null,
            "grid_column": null,
            "grid_gap": null,
            "grid_row": null,
            "grid_template_areas": null,
            "grid_template_columns": null,
            "grid_template_rows": null,
            "height": null,
            "justify_content": null,
            "justify_items": null,
            "left": null,
            "margin": null,
            "max_height": null,
            "max_width": null,
            "min_height": null,
            "min_width": null,
            "object_fit": null,
            "object_position": null,
            "order": null,
            "overflow": null,
            "overflow_x": null,
            "overflow_y": null,
            "padding": null,
            "right": null,
            "top": null,
            "visibility": null,
            "width": null
          }
        },
        "5c33ecc4298f4584b0cd801c7d35f51e": {
          "model_module": "@jupyter-widgets/controls",
          "model_module_version": "1.5.0",
          "model_name": "HBoxModel",
          "state": {
            "_dom_classes": [],
            "_model_module": "@jupyter-widgets/controls",
            "_model_module_version": "1.5.0",
            "_model_name": "HBoxModel",
            "_view_count": null,
            "_view_module": "@jupyter-widgets/controls",
            "_view_module_version": "1.5.0",
            "_view_name": "HBoxView",
            "box_style": "",
            "children": [
              "IPY_MODEL_00d63a04125348dd9779a94a7f2b51e9",
              "IPY_MODEL_ba4afee35f6e4c7fa09fd38063d0758b",
              "IPY_MODEL_133c81a466ab44b1b093c7216d5c09e4"
            ],
            "layout": "IPY_MODEL_d2c4bee845664166ab426da30b38db77"
          }
        },
        "5c78306f5f2d4be5a59314b8d03ba2c5": {
          "model_module": "@jupyter-widgets/base",
          "model_module_version": "1.2.0",
          "model_name": "LayoutModel",
          "state": {
            "_model_module": "@jupyter-widgets/base",
            "_model_module_version": "1.2.0",
            "_model_name": "LayoutModel",
            "_view_count": null,
            "_view_module": "@jupyter-widgets/base",
            "_view_module_version": "1.2.0",
            "_view_name": "LayoutView",
            "align_content": null,
            "align_items": null,
            "align_self": null,
            "border": null,
            "bottom": null,
            "display": null,
            "flex": null,
            "flex_flow": null,
            "grid_area": null,
            "grid_auto_columns": null,
            "grid_auto_flow": null,
            "grid_auto_rows": null,
            "grid_column": null,
            "grid_gap": null,
            "grid_row": null,
            "grid_template_areas": null,
            "grid_template_columns": null,
            "grid_template_rows": null,
            "height": null,
            "justify_content": null,
            "justify_items": null,
            "left": null,
            "margin": null,
            "max_height": null,
            "max_width": null,
            "min_height": null,
            "min_width": null,
            "object_fit": null,
            "object_position": null,
            "order": null,
            "overflow": null,
            "overflow_x": null,
            "overflow_y": null,
            "padding": null,
            "right": null,
            "top": null,
            "visibility": null,
            "width": null
          }
        },
        "5c9d6caa11e143e596234e9233d670ae": {
          "model_module": "@jupyter-widgets/controls",
          "model_module_version": "1.5.0",
          "model_name": "HTMLModel",
          "state": {
            "_dom_classes": [],
            "_model_module": "@jupyter-widgets/controls",
            "_model_module_version": "1.5.0",
            "_model_name": "HTMLModel",
            "_view_count": null,
            "_view_module": "@jupyter-widgets/controls",
            "_view_module_version": "1.5.0",
            "_view_name": "HTMLView",
            "description": "",
            "description_tooltip": null,
            "layout": "IPY_MODEL_b5392b6da6a3413481e57a3c136d85ab",
            "placeholder": "​",
            "style": "IPY_MODEL_c52f693e0eb74c4b856712aa17e06560",
            "value": "generation_config.json: 100%"
          }
        },
        "5cf3943a03d748eb8ac0d2bbaea4bd7c": {
          "model_module": "@jupyter-widgets/controls",
          "model_module_version": "1.5.0",
          "model_name": "FloatProgressModel",
          "state": {
            "_dom_classes": [],
            "_model_module": "@jupyter-widgets/controls",
            "_model_module_version": "1.5.0",
            "_model_name": "FloatProgressModel",
            "_view_count": null,
            "_view_module": "@jupyter-widgets/controls",
            "_view_module_version": "1.5.0",
            "_view_name": "ProgressView",
            "bar_style": "success",
            "description": "",
            "description_tooltip": null,
            "layout": "IPY_MODEL_cdb40625037849cf8959ac0de4204daa",
            "max": 1,
            "min": 0,
            "orientation": "horizontal",
            "style": "IPY_MODEL_c21a044e2769461891c45e94869cbc45",
            "value": 1
          }
        },
        "5f21d6fd926547fb9884c4eaaddbc586": {
          "model_module": "@jupyter-widgets/controls",
          "model_module_version": "1.5.0",
          "model_name": "DescriptionStyleModel",
          "state": {
            "_model_module": "@jupyter-widgets/controls",
            "_model_module_version": "1.5.0",
            "_model_name": "DescriptionStyleModel",
            "_view_count": null,
            "_view_module": "@jupyter-widgets/base",
            "_view_module_version": "1.2.0",
            "_view_name": "StyleView",
            "description_width": ""
          }
        },
        "60149ff301274b888d38c153286d96c3": {
          "model_module": "@jupyter-widgets/controls",
          "model_module_version": "1.5.0",
          "model_name": "FloatProgressModel",
          "state": {
            "_dom_classes": [],
            "_model_module": "@jupyter-widgets/controls",
            "_model_module_version": "1.5.0",
            "_model_name": "FloatProgressModel",
            "_view_count": null,
            "_view_module": "@jupyter-widgets/controls",
            "_view_module_version": "1.5.0",
            "_view_name": "ProgressView",
            "bar_style": "success",
            "description": "",
            "description_tooltip": null,
            "layout": "IPY_MODEL_d3d300e11e414e498fb528f544aea9bc",
            "max": 1,
            "min": 0,
            "orientation": "horizontal",
            "style": "IPY_MODEL_d1f68e3c7a3043ab8a490a3eb2e89b70",
            "value": 1
          }
        },
        "6245041e5c034e57901818a431a42a33": {
          "model_module": "@jupyter-widgets/controls",
          "model_module_version": "1.5.0",
          "model_name": "ProgressStyleModel",
          "state": {
            "_model_module": "@jupyter-widgets/controls",
            "_model_module_version": "1.5.0",
            "_model_name": "ProgressStyleModel",
            "_view_count": null,
            "_view_module": "@jupyter-widgets/base",
            "_view_module_version": "1.2.0",
            "_view_name": "StyleView",
            "bar_color": null,
            "description_width": ""
          }
        },
        "63079ae0dd83498aa4d37a0263235276": {
          "model_module": "@jupyter-widgets/controls",
          "model_module_version": "1.5.0",
          "model_name": "DescriptionStyleModel",
          "state": {
            "_model_module": "@jupyter-widgets/controls",
            "_model_module_version": "1.5.0",
            "_model_name": "DescriptionStyleModel",
            "_view_count": null,
            "_view_module": "@jupyter-widgets/base",
            "_view_module_version": "1.2.0",
            "_view_name": "StyleView",
            "description_width": ""
          }
        },
        "6834863a664e4897bd28ffec55dd689b": {
          "model_module": "@jupyter-widgets/base",
          "model_module_version": "1.2.0",
          "model_name": "LayoutModel",
          "state": {
            "_model_module": "@jupyter-widgets/base",
            "_model_module_version": "1.2.0",
            "_model_name": "LayoutModel",
            "_view_count": null,
            "_view_module": "@jupyter-widgets/base",
            "_view_module_version": "1.2.0",
            "_view_name": "LayoutView",
            "align_content": null,
            "align_items": null,
            "align_self": null,
            "border": null,
            "bottom": null,
            "display": null,
            "flex": null,
            "flex_flow": null,
            "grid_area": null,
            "grid_auto_columns": null,
            "grid_auto_flow": null,
            "grid_auto_rows": null,
            "grid_column": null,
            "grid_gap": null,
            "grid_row": null,
            "grid_template_areas": null,
            "grid_template_columns": null,
            "grid_template_rows": null,
            "height": null,
            "justify_content": null,
            "justify_items": null,
            "left": null,
            "margin": null,
            "max_height": null,
            "max_width": null,
            "min_height": null,
            "min_width": null,
            "object_fit": null,
            "object_position": null,
            "order": null,
            "overflow": null,
            "overflow_x": null,
            "overflow_y": null,
            "padding": null,
            "right": null,
            "top": null,
            "visibility": null,
            "width": null
          }
        },
        "6a960799c0f8432393a91f86532d262a": {
          "model_module": "@jupyter-widgets/controls",
          "model_module_version": "1.5.0",
          "model_name": "HBoxModel",
          "state": {
            "_dom_classes": [],
            "_model_module": "@jupyter-widgets/controls",
            "_model_module_version": "1.5.0",
            "_model_name": "HBoxModel",
            "_view_count": null,
            "_view_module": "@jupyter-widgets/controls",
            "_view_module_version": "1.5.0",
            "_view_name": "HBoxView",
            "box_style": "",
            "children": [
              "IPY_MODEL_1cb0e51d14064321a269c2743fc630ae",
              "IPY_MODEL_4975eadffea343f8805c03c1d81f93c4",
              "IPY_MODEL_0c50d104ed7742599f3eb90bb83509e7"
            ],
            "layout": "IPY_MODEL_7ca2c2fbfd0540d8a0829df085196fec"
          }
        },
        "6f6cf3ae045c451fb2046c9083139778": {
          "model_module": "@jupyter-widgets/controls",
          "model_module_version": "1.5.0",
          "model_name": "HTMLModel",
          "state": {
            "_dom_classes": [],
            "_model_module": "@jupyter-widgets/controls",
            "_model_module_version": "1.5.0",
            "_model_name": "HTMLModel",
            "_view_count": null,
            "_view_module": "@jupyter-widgets/controls",
            "_view_module_version": "1.5.0",
            "_view_name": "HTMLView",
            "description": "",
            "description_tooltip": null,
            "layout": "IPY_MODEL_c655f1c69a6440349474707a794b4507",
            "placeholder": "​",
            "style": "IPY_MODEL_dce4891a52684c3bb19b84656064298d",
            "value": " 4.97G/4.97G [00:22&lt;00:00, 551MB/s]"
          }
        },
        "71493655d71f4cb8bc46b91f37d1acf8": {
          "model_module": "@jupyter-widgets/controls",
          "model_module_version": "1.5.0",
          "model_name": "ProgressStyleModel",
          "state": {
            "_model_module": "@jupyter-widgets/controls",
            "_model_module_version": "1.5.0",
            "_model_name": "ProgressStyleModel",
            "_view_count": null,
            "_view_module": "@jupyter-widgets/base",
            "_view_module_version": "1.2.0",
            "_view_name": "StyleView",
            "bar_color": null,
            "description_width": ""
          }
        },
        "748f0e21f2004feba0a5e8407e9b405c": {
          "model_module": "@jupyter-widgets/base",
          "model_module_version": "1.2.0",
          "model_name": "LayoutModel",
          "state": {
            "_model_module": "@jupyter-widgets/base",
            "_model_module_version": "1.2.0",
            "_model_name": "LayoutModel",
            "_view_count": null,
            "_view_module": "@jupyter-widgets/base",
            "_view_module_version": "1.2.0",
            "_view_name": "LayoutView",
            "align_content": null,
            "align_items": null,
            "align_self": null,
            "border": null,
            "bottom": null,
            "display": null,
            "flex": null,
            "flex_flow": null,
            "grid_area": null,
            "grid_auto_columns": null,
            "grid_auto_flow": null,
            "grid_auto_rows": null,
            "grid_column": null,
            "grid_gap": null,
            "grid_row": null,
            "grid_template_areas": null,
            "grid_template_columns": null,
            "grid_template_rows": null,
            "height": null,
            "justify_content": null,
            "justify_items": null,
            "left": null,
            "margin": null,
            "max_height": null,
            "max_width": null,
            "min_height": null,
            "min_width": null,
            "object_fit": null,
            "object_position": null,
            "order": null,
            "overflow": null,
            "overflow_x": null,
            "overflow_y": null,
            "padding": null,
            "right": null,
            "top": null,
            "visibility": null,
            "width": null
          }
        },
        "763c9c23184645d1a73f4fb66c15ebc0": {
          "model_module": "@jupyter-widgets/controls",
          "model_module_version": "1.5.0",
          "model_name": "HTMLModel",
          "state": {
            "_dom_classes": [],
            "_model_module": "@jupyter-widgets/controls",
            "_model_module_version": "1.5.0",
            "_model_name": "HTMLModel",
            "_view_count": null,
            "_view_module": "@jupyter-widgets/controls",
            "_view_module_version": "1.5.0",
            "_view_name": "HTMLView",
            "description": "",
            "description_tooltip": null,
            "layout": "IPY_MODEL_a7c4b1c00f964aeeadf5a39b2a8040cb",
            "placeholder": "​",
            "style": "IPY_MODEL_1b5562265de24eb5af137003e26ab4ff",
            "value": " 454/454 [00:00&lt;00:00, 64.2kB/s]"
          }
        },
        "77053dbc0472472ab66000decd925f66": {
          "model_module": "@jupyter-widgets/base",
          "model_module_version": "1.2.0",
          "model_name": "LayoutModel",
          "state": {
            "_model_module": "@jupyter-widgets/base",
            "_model_module_version": "1.2.0",
            "_model_name": "LayoutModel",
            "_view_count": null,
            "_view_module": "@jupyter-widgets/base",
            "_view_module_version": "1.2.0",
            "_view_name": "LayoutView",
            "align_content": null,
            "align_items": null,
            "align_self": null,
            "border": null,
            "bottom": null,
            "display": null,
            "flex": null,
            "flex_flow": null,
            "grid_area": null,
            "grid_auto_columns": null,
            "grid_auto_flow": null,
            "grid_auto_rows": null,
            "grid_column": null,
            "grid_gap": null,
            "grid_row": null,
            "grid_template_areas": null,
            "grid_template_columns": null,
            "grid_template_rows": null,
            "height": null,
            "justify_content": null,
            "justify_items": null,
            "left": null,
            "margin": null,
            "max_height": null,
            "max_width": null,
            "min_height": null,
            "min_width": null,
            "object_fit": null,
            "object_position": null,
            "order": null,
            "overflow": null,
            "overflow_x": null,
            "overflow_y": null,
            "padding": null,
            "right": null,
            "top": null,
            "visibility": null,
            "width": null
          }
        },
        "771fbd68dd77417b9ef53acef382a579": {
          "model_module": "@jupyter-widgets/controls",
          "model_module_version": "1.5.0",
          "model_name": "HTMLModel",
          "state": {
            "_dom_classes": [],
            "_model_module": "@jupyter-widgets/controls",
            "_model_module_version": "1.5.0",
            "_model_name": "HTMLModel",
            "_view_count": null,
            "_view_module": "@jupyter-widgets/controls",
            "_view_module_version": "1.5.0",
            "_view_name": "HTMLView",
            "description": "",
            "description_tooltip": null,
            "layout": "IPY_MODEL_246cf9bdaee14c05903b8613a5dc04d9",
            "placeholder": "​",
            "style": "IPY_MODEL_edc926dc80ce4f569a695dc516e90aaa",
            "value": " 2.94G/2.94G [00:17&lt;00:00, 100MB/s]"
          }
        },
        "792199612faf47e5afa09ff1fa94e386": {
          "model_module": "@jupyter-widgets/controls",
          "model_module_version": "1.5.0",
          "model_name": "HTMLModel",
          "state": {
            "_dom_classes": [],
            "_model_module": "@jupyter-widgets/controls",
            "_model_module_version": "1.5.0",
            "_model_name": "HTMLModel",
            "_view_count": null,
            "_view_module": "@jupyter-widgets/controls",
            "_view_module_version": "1.5.0",
            "_view_name": "HTMLView",
            "description": "",
            "description_tooltip": null,
            "layout": "IPY_MODEL_77053dbc0472472ab66000decd925f66",
            "placeholder": "​",
            "style": "IPY_MODEL_5f21d6fd926547fb9884c4eaaddbc586",
            "value": " 2/2 [00:23&lt;00:00, 23.14s/it]"
          }
        },
        "7c0fd6b8cdec4b3195bd021ea5dca5f3": {
          "model_module": "@jupyter-widgets/controls",
          "model_module_version": "1.5.0",
          "model_name": "HTMLModel",
          "state": {
            "_dom_classes": [],
            "_model_module": "@jupyter-widgets/controls",
            "_model_module_version": "1.5.0",
            "_model_name": "HTMLModel",
            "_view_count": null,
            "_view_module": "@jupyter-widgets/controls",
            "_view_module_version": "1.5.0",
            "_view_name": "HTMLView",
            "description": "",
            "description_tooltip": null,
            "layout": "IPY_MODEL_866019437a4e48ada13428d7a3299c51",
            "placeholder": "​",
            "style": "IPY_MODEL_252cdae0a62947e18dc6b31846c221c6",
            "value": " 1/1 [00:00&lt;00:00, 105.86it/s]"
          }
        },
        "7ca2c2fbfd0540d8a0829df085196fec": {
          "model_module": "@jupyter-widgets/base",
          "model_module_version": "1.2.0",
          "model_name": "LayoutModel",
          "state": {
            "_model_module": "@jupyter-widgets/base",
            "_model_module_version": "1.2.0",
            "_model_name": "LayoutModel",
            "_view_count": null,
            "_view_module": "@jupyter-widgets/base",
            "_view_module_version": "1.2.0",
            "_view_name": "LayoutView",
            "align_content": null,
            "align_items": null,
            "align_self": null,
            "border": null,
            "bottom": null,
            "display": null,
            "flex": null,
            "flex_flow": null,
            "grid_area": null,
            "grid_auto_columns": null,
            "grid_auto_flow": null,
            "grid_auto_rows": null,
            "grid_column": null,
            "grid_gap": null,
            "grid_row": null,
            "grid_template_areas": null,
            "grid_template_columns": null,
            "grid_template_rows": null,
            "height": null,
            "justify_content": null,
            "justify_items": null,
            "left": null,
            "margin": null,
            "max_height": null,
            "max_width": null,
            "min_height": null,
            "min_width": null,
            "object_fit": null,
            "object_position": null,
            "order": null,
            "overflow": null,
            "overflow_x": null,
            "overflow_y": null,
            "padding": null,
            "right": null,
            "top": null,
            "visibility": null,
            "width": null
          }
        },
        "7ecbc599a8154b2a86a04d57ff04f513": {
          "model_module": "@jupyter-widgets/controls",
          "model_module_version": "1.5.0",
          "model_name": "ProgressStyleModel",
          "state": {
            "_model_module": "@jupyter-widgets/controls",
            "_model_module_version": "1.5.0",
            "_model_name": "ProgressStyleModel",
            "_view_count": null,
            "_view_module": "@jupyter-widgets/base",
            "_view_module_version": "1.2.0",
            "_view_name": "StyleView",
            "bar_color": null,
            "description_width": ""
          }
        },
        "80c3036d1ea243df81af97e33672ba87": {
          "model_module": "@jupyter-widgets/controls",
          "model_module_version": "1.5.0",
          "model_name": "DescriptionStyleModel",
          "state": {
            "_model_module": "@jupyter-widgets/controls",
            "_model_module_version": "1.5.0",
            "_model_name": "DescriptionStyleModel",
            "_view_count": null,
            "_view_module": "@jupyter-widgets/base",
            "_view_module_version": "1.2.0",
            "_view_name": "StyleView",
            "description_width": ""
          }
        },
        "866019437a4e48ada13428d7a3299c51": {
          "model_module": "@jupyter-widgets/base",
          "model_module_version": "1.2.0",
          "model_name": "LayoutModel",
          "state": {
            "_model_module": "@jupyter-widgets/base",
            "_model_module_version": "1.2.0",
            "_model_name": "LayoutModel",
            "_view_count": null,
            "_view_module": "@jupyter-widgets/base",
            "_view_module_version": "1.2.0",
            "_view_name": "LayoutView",
            "align_content": null,
            "align_items": null,
            "align_self": null,
            "border": null,
            "bottom": null,
            "display": null,
            "flex": null,
            "flex_flow": null,
            "grid_area": null,
            "grid_auto_columns": null,
            "grid_auto_flow": null,
            "grid_auto_rows": null,
            "grid_column": null,
            "grid_gap": null,
            "grid_row": null,
            "grid_template_areas": null,
            "grid_template_columns": null,
            "grid_template_rows": null,
            "height": null,
            "justify_content": null,
            "justify_items": null,
            "left": null,
            "margin": null,
            "max_height": null,
            "max_width": null,
            "min_height": null,
            "min_width": null,
            "object_fit": null,
            "object_position": null,
            "order": null,
            "overflow": null,
            "overflow_x": null,
            "overflow_y": null,
            "padding": null,
            "right": null,
            "top": null,
            "visibility": null,
            "width": null
          }
        },
        "873073370ba94a30a35e837101ea722d": {
          "model_module": "@jupyter-widgets/base",
          "model_module_version": "1.2.0",
          "model_name": "LayoutModel",
          "state": {
            "_model_module": "@jupyter-widgets/base",
            "_model_module_version": "1.2.0",
            "_model_name": "LayoutModel",
            "_view_count": null,
            "_view_module": "@jupyter-widgets/base",
            "_view_module_version": "1.2.0",
            "_view_name": "LayoutView",
            "align_content": null,
            "align_items": null,
            "align_self": null,
            "border": null,
            "bottom": null,
            "display": null,
            "flex": null,
            "flex_flow": null,
            "grid_area": null,
            "grid_auto_columns": null,
            "grid_auto_flow": null,
            "grid_auto_rows": null,
            "grid_column": null,
            "grid_gap": null,
            "grid_row": null,
            "grid_template_areas": null,
            "grid_template_columns": null,
            "grid_template_rows": null,
            "height": null,
            "justify_content": null,
            "justify_items": null,
            "left": null,
            "margin": null,
            "max_height": null,
            "max_width": null,
            "min_height": null,
            "min_width": null,
            "object_fit": null,
            "object_position": null,
            "order": null,
            "overflow": null,
            "overflow_x": null,
            "overflow_y": null,
            "padding": null,
            "right": null,
            "top": null,
            "visibility": null,
            "width": null
          }
        },
        "87cafd789d834d0c87e354b7a179b8f4": {
          "model_module": "@jupyter-widgets/base",
          "model_module_version": "1.2.0",
          "model_name": "LayoutModel",
          "state": {
            "_model_module": "@jupyter-widgets/base",
            "_model_module_version": "1.2.0",
            "_model_name": "LayoutModel",
            "_view_count": null,
            "_view_module": "@jupyter-widgets/base",
            "_view_module_version": "1.2.0",
            "_view_name": "LayoutView",
            "align_content": null,
            "align_items": null,
            "align_self": null,
            "border": null,
            "bottom": null,
            "display": null,
            "flex": null,
            "flex_flow": null,
            "grid_area": null,
            "grid_auto_columns": null,
            "grid_auto_flow": null,
            "grid_auto_rows": null,
            "grid_column": null,
            "grid_gap": null,
            "grid_row": null,
            "grid_template_areas": null,
            "grid_template_columns": null,
            "grid_template_rows": null,
            "height": null,
            "justify_content": null,
            "justify_items": null,
            "left": null,
            "margin": null,
            "max_height": null,
            "max_width": null,
            "min_height": null,
            "min_width": null,
            "object_fit": null,
            "object_position": null,
            "order": null,
            "overflow": null,
            "overflow_x": null,
            "overflow_y": null,
            "padding": null,
            "right": null,
            "top": null,
            "visibility": null,
            "width": null
          }
        },
        "8a9b004ed66a4fb99002603e3dddedc2": {
          "model_module": "@jupyter-widgets/controls",
          "model_module_version": "1.5.0",
          "model_name": "HBoxModel",
          "state": {
            "_dom_classes": [],
            "_model_module": "@jupyter-widgets/controls",
            "_model_module_version": "1.5.0",
            "_model_name": "HBoxModel",
            "_view_count": null,
            "_view_module": "@jupyter-widgets/controls",
            "_view_module_version": "1.5.0",
            "_view_name": "HBoxView",
            "box_style": "",
            "children": [
              "IPY_MODEL_50726bcc0d9d4d68b1eff2fa9d6ad124",
              "IPY_MODEL_4aef6c4926af412cbe11c3cf02822846",
              "IPY_MODEL_c63f5609ba364aa894e7a2334c05fe84"
            ],
            "layout": "IPY_MODEL_19a2099faccb4e1386d9cb9b80b1796a"
          }
        },
        "8c5e10ebfaac418bbee085114d4cc119": {
          "model_module": "@jupyter-widgets/controls",
          "model_module_version": "1.5.0",
          "model_name": "ProgressStyleModel",
          "state": {
            "_model_module": "@jupyter-widgets/controls",
            "_model_module_version": "1.5.0",
            "_model_name": "ProgressStyleModel",
            "_view_count": null,
            "_view_module": "@jupyter-widgets/base",
            "_view_module_version": "1.2.0",
            "_view_name": "StyleView",
            "bar_color": null,
            "description_width": ""
          }
        },
        "8e4f695af5af456d9b5973b88766b4cc": {
          "model_module": "@jupyter-widgets/controls",
          "model_module_version": "1.5.0",
          "model_name": "HTMLModel",
          "state": {
            "_dom_classes": [],
            "_model_module": "@jupyter-widgets/controls",
            "_model_module_version": "1.5.0",
            "_model_name": "HTMLModel",
            "_view_count": null,
            "_view_module": "@jupyter-widgets/controls",
            "_view_module_version": "1.5.0",
            "_view_name": "HTMLView",
            "description": "",
            "description_tooltip": null,
            "layout": "IPY_MODEL_b4f39024eae24951a7e69dec901036f3",
            "placeholder": "​",
            "style": "IPY_MODEL_deb73ad8d1114575a0e40633256dc917",
            "value": " 1/1 [00:00&lt;00:00, 136.73it/s]"
          }
        },
        "8ef21dd1cb20420f85cfbb19a6d0bc00": {
          "model_module": "@jupyter-widgets/controls",
          "model_module_version": "1.5.0",
          "model_name": "HTMLModel",
          "state": {
            "_dom_classes": [],
            "_model_module": "@jupyter-widgets/controls",
            "_model_module_version": "1.5.0",
            "_model_name": "HTMLModel",
            "_view_count": null,
            "_view_module": "@jupyter-widgets/controls",
            "_view_module_version": "1.5.0",
            "_view_name": "HTMLView",
            "description": "",
            "description_tooltip": null,
            "layout": "IPY_MODEL_ccef5bcec4ca4ef4a715e4d044b676b9",
            "placeholder": "​",
            "style": "IPY_MODEL_ab7d3aec6d904d958048214e060bc9d8",
            "value": "model.safetensors.index.json: "
          }
        },
        "963b8f5ab44548728ac785ab4e61eaeb": {
          "model_module": "@jupyter-widgets/base",
          "model_module_version": "1.2.0",
          "model_name": "LayoutModel",
          "state": {
            "_model_module": "@jupyter-widgets/base",
            "_model_module_version": "1.2.0",
            "_model_name": "LayoutModel",
            "_view_count": null,
            "_view_module": "@jupyter-widgets/base",
            "_view_module_version": "1.2.0",
            "_view_name": "LayoutView",
            "align_content": null,
            "align_items": null,
            "align_self": null,
            "border": null,
            "bottom": null,
            "display": null,
            "flex": null,
            "flex_flow": null,
            "grid_area": null,
            "grid_auto_columns": null,
            "grid_auto_flow": null,
            "grid_auto_rows": null,
            "grid_column": null,
            "grid_gap": null,
            "grid_row": null,
            "grid_template_areas": null,
            "grid_template_columns": null,
            "grid_template_rows": null,
            "height": null,
            "justify_content": null,
            "justify_items": null,
            "left": null,
            "margin": null,
            "max_height": null,
            "max_width": null,
            "min_height": null,
            "min_width": null,
            "object_fit": null,
            "object_position": null,
            "order": null,
            "overflow": null,
            "overflow_x": null,
            "overflow_y": null,
            "padding": null,
            "right": null,
            "top": null,
            "visibility": null,
            "width": null
          }
        },
        "9c41b268b82c4e7baf76304b9a247b70": {
          "model_module": "@jupyter-widgets/base",
          "model_module_version": "1.2.0",
          "model_name": "LayoutModel",
          "state": {
            "_model_module": "@jupyter-widgets/base",
            "_model_module_version": "1.2.0",
            "_model_name": "LayoutModel",
            "_view_count": null,
            "_view_module": "@jupyter-widgets/base",
            "_view_module_version": "1.2.0",
            "_view_name": "LayoutView",
            "align_content": null,
            "align_items": null,
            "align_self": null,
            "border": null,
            "bottom": null,
            "display": null,
            "flex": null,
            "flex_flow": null,
            "grid_area": null,
            "grid_auto_columns": null,
            "grid_auto_flow": null,
            "grid_auto_rows": null,
            "grid_column": null,
            "grid_gap": null,
            "grid_row": null,
            "grid_template_areas": null,
            "grid_template_columns": null,
            "grid_template_rows": null,
            "height": null,
            "justify_content": null,
            "justify_items": null,
            "left": null,
            "margin": null,
            "max_height": null,
            "max_width": null,
            "min_height": null,
            "min_width": null,
            "object_fit": null,
            "object_position": null,
            "order": null,
            "overflow": null,
            "overflow_x": null,
            "overflow_y": null,
            "padding": null,
            "right": null,
            "top": null,
            "visibility": null,
            "width": null
          }
        },
        "9deb64e700be45078ccc3f1f34f4ba76": {
          "model_module": "@jupyter-widgets/base",
          "model_module_version": "1.2.0",
          "model_name": "LayoutModel",
          "state": {
            "_model_module": "@jupyter-widgets/base",
            "_model_module_version": "1.2.0",
            "_model_name": "LayoutModel",
            "_view_count": null,
            "_view_module": "@jupyter-widgets/base",
            "_view_module_version": "1.2.0",
            "_view_name": "LayoutView",
            "align_content": null,
            "align_items": null,
            "align_self": null,
            "border": null,
            "bottom": null,
            "display": null,
            "flex": null,
            "flex_flow": null,
            "grid_area": null,
            "grid_auto_columns": null,
            "grid_auto_flow": null,
            "grid_auto_rows": null,
            "grid_column": null,
            "grid_gap": null,
            "grid_row": null,
            "grid_template_areas": null,
            "grid_template_columns": null,
            "grid_template_rows": null,
            "height": null,
            "justify_content": null,
            "justify_items": null,
            "left": null,
            "margin": null,
            "max_height": null,
            "max_width": null,
            "min_height": null,
            "min_width": null,
            "object_fit": null,
            "object_position": null,
            "order": null,
            "overflow": null,
            "overflow_x": null,
            "overflow_y": null,
            "padding": null,
            "right": null,
            "top": null,
            "visibility": null,
            "width": null
          }
        },
        "a19d839d848a47c682347955e1bc138c": {
          "model_module": "@jupyter-widgets/controls",
          "model_module_version": "1.5.0",
          "model_name": "HTMLModel",
          "state": {
            "_dom_classes": [],
            "_model_module": "@jupyter-widgets/controls",
            "_model_module_version": "1.5.0",
            "_model_name": "HTMLModel",
            "_view_count": null,
            "_view_module": "@jupyter-widgets/controls",
            "_view_module_version": "1.5.0",
            "_view_name": "HTMLView",
            "description": "",
            "description_tooltip": null,
            "layout": "IPY_MODEL_0eba68017d024e1ca927de8f897ff9d3",
            "placeholder": "​",
            "style": "IPY_MODEL_ff9ef486d9b94006995c246ae4ee4358",
            "value": "model-00002-of-00002.safetensors: 100%"
          }
        },
        "a28f1a50e85a4e94b94b286b7892a720": {
          "model_module": "@jupyter-widgets/controls",
          "model_module_version": "1.5.0",
          "model_name": "ProgressStyleModel",
          "state": {
            "_model_module": "@jupyter-widgets/controls",
            "_model_module_version": "1.5.0",
            "_model_name": "ProgressStyleModel",
            "_view_count": null,
            "_view_module": "@jupyter-widgets/base",
            "_view_module_version": "1.2.0",
            "_view_name": "StyleView",
            "bar_color": null,
            "description_width": ""
          }
        },
        "a5f95b621beb4604800920a468e13989": {
          "model_module": "@jupyter-widgets/base",
          "model_module_version": "1.2.0",
          "model_name": "LayoutModel",
          "state": {
            "_model_module": "@jupyter-widgets/base",
            "_model_module_version": "1.2.0",
            "_model_name": "LayoutModel",
            "_view_count": null,
            "_view_module": "@jupyter-widgets/base",
            "_view_module_version": "1.2.0",
            "_view_name": "LayoutView",
            "align_content": null,
            "align_items": null,
            "align_self": null,
            "border": null,
            "bottom": null,
            "display": null,
            "flex": null,
            "flex_flow": null,
            "grid_area": null,
            "grid_auto_columns": null,
            "grid_auto_flow": null,
            "grid_auto_rows": null,
            "grid_column": null,
            "grid_gap": null,
            "grid_row": null,
            "grid_template_areas": null,
            "grid_template_columns": null,
            "grid_template_rows": null,
            "height": null,
            "justify_content": null,
            "justify_items": null,
            "left": null,
            "margin": null,
            "max_height": null,
            "max_width": null,
            "min_height": null,
            "min_width": null,
            "object_fit": null,
            "object_position": null,
            "order": null,
            "overflow": null,
            "overflow_x": null,
            "overflow_y": null,
            "padding": null,
            "right": null,
            "top": null,
            "visibility": null,
            "width": null
          }
        },
        "a6cfb7cabb9041a8b115fd97f7e2097d": {
          "model_module": "@jupyter-widgets/base",
          "model_module_version": "1.2.0",
          "model_name": "LayoutModel",
          "state": {
            "_model_module": "@jupyter-widgets/base",
            "_model_module_version": "1.2.0",
            "_model_name": "LayoutModel",
            "_view_count": null,
            "_view_module": "@jupyter-widgets/base",
            "_view_module_version": "1.2.0",
            "_view_name": "LayoutView",
            "align_content": null,
            "align_items": null,
            "align_self": null,
            "border": null,
            "bottom": null,
            "display": null,
            "flex": null,
            "flex_flow": null,
            "grid_area": null,
            "grid_auto_columns": null,
            "grid_auto_flow": null,
            "grid_auto_rows": null,
            "grid_column": null,
            "grid_gap": null,
            "grid_row": null,
            "grid_template_areas": null,
            "grid_template_columns": null,
            "grid_template_rows": null,
            "height": null,
            "justify_content": null,
            "justify_items": null,
            "left": null,
            "margin": null,
            "max_height": null,
            "max_width": null,
            "min_height": null,
            "min_width": null,
            "object_fit": null,
            "object_position": null,
            "order": null,
            "overflow": null,
            "overflow_x": null,
            "overflow_y": null,
            "padding": null,
            "right": null,
            "top": null,
            "visibility": null,
            "width": null
          }
        },
        "a7c4b1c00f964aeeadf5a39b2a8040cb": {
          "model_module": "@jupyter-widgets/base",
          "model_module_version": "1.2.0",
          "model_name": "LayoutModel",
          "state": {
            "_model_module": "@jupyter-widgets/base",
            "_model_module_version": "1.2.0",
            "_model_name": "LayoutModel",
            "_view_count": null,
            "_view_module": "@jupyter-widgets/base",
            "_view_module_version": "1.2.0",
            "_view_name": "LayoutView",
            "align_content": null,
            "align_items": null,
            "align_self": null,
            "border": null,
            "bottom": null,
            "display": null,
            "flex": null,
            "flex_flow": null,
            "grid_area": null,
            "grid_auto_columns": null,
            "grid_auto_flow": null,
            "grid_auto_rows": null,
            "grid_column": null,
            "grid_gap": null,
            "grid_row": null,
            "grid_template_areas": null,
            "grid_template_columns": null,
            "grid_template_rows": null,
            "height": null,
            "justify_content": null,
            "justify_items": null,
            "left": null,
            "margin": null,
            "max_height": null,
            "max_width": null,
            "min_height": null,
            "min_width": null,
            "object_fit": null,
            "object_position": null,
            "order": null,
            "overflow": null,
            "overflow_x": null,
            "overflow_y": null,
            "padding": null,
            "right": null,
            "top": null,
            "visibility": null,
            "width": null
          }
        },
        "a8fd6244ee594c43b5c09865d99299cc": {
          "model_module": "@jupyter-widgets/controls",
          "model_module_version": "1.5.0",
          "model_name": "DescriptionStyleModel",
          "state": {
            "_model_module": "@jupyter-widgets/controls",
            "_model_module_version": "1.5.0",
            "_model_name": "DescriptionStyleModel",
            "_view_count": null,
            "_view_module": "@jupyter-widgets/base",
            "_view_module_version": "1.2.0",
            "_view_name": "StyleView",
            "description_width": ""
          }
        },
        "a9c5a3edf4c14da2a4197b90dda6dfc4": {
          "model_module": "@jupyter-widgets/controls",
          "model_module_version": "1.5.0",
          "model_name": "FloatProgressModel",
          "state": {
            "_dom_classes": [],
            "_model_module": "@jupyter-widgets/controls",
            "_model_module_version": "1.5.0",
            "_model_name": "FloatProgressModel",
            "_view_count": null,
            "_view_module": "@jupyter-widgets/controls",
            "_view_module_version": "1.5.0",
            "_view_name": "ProgressView",
            "bar_style": "success",
            "description": "",
            "description_tooltip": null,
            "layout": "IPY_MODEL_9deb64e700be45078ccc3f1f34f4ba76",
            "max": 2937067316,
            "min": 0,
            "orientation": "horizontal",
            "style": "IPY_MODEL_edd42304456249bea8fb68a305e8961a",
            "value": 2937067316
          }
        },
        "aae5c8928f214c1f84431c91e312056a": {
          "model_module": "@jupyter-widgets/controls",
          "model_module_version": "1.5.0",
          "model_name": "DescriptionStyleModel",
          "state": {
            "_model_module": "@jupyter-widgets/controls",
            "_model_module_version": "1.5.0",
            "_model_name": "DescriptionStyleModel",
            "_view_count": null,
            "_view_module": "@jupyter-widgets/base",
            "_view_module_version": "1.2.0",
            "_view_name": "StyleView",
            "description_width": ""
          }
        },
        "ab7d3aec6d904d958048214e060bc9d8": {
          "model_module": "@jupyter-widgets/controls",
          "model_module_version": "1.5.0",
          "model_name": "DescriptionStyleModel",
          "state": {
            "_model_module": "@jupyter-widgets/controls",
            "_model_module_version": "1.5.0",
            "_model_name": "DescriptionStyleModel",
            "_view_count": null,
            "_view_module": "@jupyter-widgets/base",
            "_view_module_version": "1.2.0",
            "_view_name": "StyleView",
            "description_width": ""
          }
        },
        "ade3fc5b08e74568873925dc6d49c359": {
          "model_module": "@jupyter-widgets/controls",
          "model_module_version": "1.5.0",
          "model_name": "HTMLModel",
          "state": {
            "_dom_classes": [],
            "_model_module": "@jupyter-widgets/controls",
            "_model_module_version": "1.5.0",
            "_model_name": "HTMLModel",
            "_view_count": null,
            "_view_module": "@jupyter-widgets/controls",
            "_view_module_version": "1.5.0",
            "_view_name": "HTMLView",
            "description": "",
            "description_tooltip": null,
            "layout": "IPY_MODEL_a5f95b621beb4604800920a468e13989",
            "placeholder": "​",
            "style": "IPY_MODEL_3085d9da30ce4c25bf9a99f276212f92",
            "value": " 375k/? [00:00&lt;00:00, 40.3MB/s]"
          }
        },
        "aefa93acf9f248f9b8c5138fd77a5cb7": {
          "model_module": "@jupyter-widgets/base",
          "model_module_version": "1.2.0",
          "model_name": "LayoutModel",
          "state": {
            "_model_module": "@jupyter-widgets/base",
            "_model_module_version": "1.2.0",
            "_model_name": "LayoutModel",
            "_view_count": null,
            "_view_module": "@jupyter-widgets/base",
            "_view_module_version": "1.2.0",
            "_view_name": "LayoutView",
            "align_content": null,
            "align_items": null,
            "align_self": null,
            "border": null,
            "bottom": null,
            "display": null,
            "flex": null,
            "flex_flow": null,
            "grid_area": null,
            "grid_auto_columns": null,
            "grid_auto_flow": null,
            "grid_auto_rows": null,
            "grid_column": null,
            "grid_gap": null,
            "grid_row": null,
            "grid_template_areas": null,
            "grid_template_columns": null,
            "grid_template_rows": null,
            "height": null,
            "justify_content": null,
            "justify_items": null,
            "left": null,
            "margin": null,
            "max_height": null,
            "max_width": null,
            "min_height": null,
            "min_width": null,
            "object_fit": null,
            "object_position": null,
            "order": null,
            "overflow": null,
            "overflow_x": null,
            "overflow_y": null,
            "padding": null,
            "right": null,
            "top": null,
            "visibility": null,
            "width": null
          }
        },
        "b095ee3463704689a33cf4dba08788fe": {
          "model_module": "@jupyter-widgets/controls",
          "model_module_version": "1.5.0",
          "model_name": "HBoxModel",
          "state": {
            "_dom_classes": [],
            "_model_module": "@jupyter-widgets/controls",
            "_model_module_version": "1.5.0",
            "_model_name": "HBoxModel",
            "_view_count": null,
            "_view_module": "@jupyter-widgets/controls",
            "_view_module_version": "1.5.0",
            "_view_name": "HBoxView",
            "box_style": "",
            "children": [
              "IPY_MODEL_5c9d6caa11e143e596234e9233d670ae",
              "IPY_MODEL_c4d7b607f0c94359885dc0708e7a1f29",
              "IPY_MODEL_d1b5b38428254f439935fcf859c41d84"
            ],
            "layout": "IPY_MODEL_1c17fbaf025840a39249c91544c0ac42"
          }
        },
        "b2a7e9187c5d4258a70562421df2bd00": {
          "model_module": "@jupyter-widgets/base",
          "model_module_version": "1.2.0",
          "model_name": "LayoutModel",
          "state": {
            "_model_module": "@jupyter-widgets/base",
            "_model_module_version": "1.2.0",
            "_model_name": "LayoutModel",
            "_view_count": null,
            "_view_module": "@jupyter-widgets/base",
            "_view_module_version": "1.2.0",
            "_view_name": "LayoutView",
            "align_content": null,
            "align_items": null,
            "align_self": null,
            "border": null,
            "bottom": null,
            "display": null,
            "flex": null,
            "flex_flow": null,
            "grid_area": null,
            "grid_auto_columns": null,
            "grid_auto_flow": null,
            "grid_auto_rows": null,
            "grid_column": null,
            "grid_gap": null,
            "grid_row": null,
            "grid_template_areas": null,
            "grid_template_columns": null,
            "grid_template_rows": null,
            "height": null,
            "justify_content": null,
            "justify_items": null,
            "left": null,
            "margin": null,
            "max_height": null,
            "max_width": null,
            "min_height": null,
            "min_width": null,
            "object_fit": null,
            "object_position": null,
            "order": null,
            "overflow": null,
            "overflow_x": null,
            "overflow_y": null,
            "padding": null,
            "right": null,
            "top": null,
            "visibility": null,
            "width": null
          }
        },
        "b4f39024eae24951a7e69dec901036f3": {
          "model_module": "@jupyter-widgets/base",
          "model_module_version": "1.2.0",
          "model_name": "LayoutModel",
          "state": {
            "_model_module": "@jupyter-widgets/base",
            "_model_module_version": "1.2.0",
            "_model_name": "LayoutModel",
            "_view_count": null,
            "_view_module": "@jupyter-widgets/base",
            "_view_module_version": "1.2.0",
            "_view_name": "LayoutView",
            "align_content": null,
            "align_items": null,
            "align_self": null,
            "border": null,
            "bottom": null,
            "display": null,
            "flex": null,
            "flex_flow": null,
            "grid_area": null,
            "grid_auto_columns": null,
            "grid_auto_flow": null,
            "grid_auto_rows": null,
            "grid_column": null,
            "grid_gap": null,
            "grid_row": null,
            "grid_template_areas": null,
            "grid_template_columns": null,
            "grid_template_rows": null,
            "height": null,
            "justify_content": null,
            "justify_items": null,
            "left": null,
            "margin": null,
            "max_height": null,
            "max_width": null,
            "min_height": null,
            "min_width": null,
            "object_fit": null,
            "object_position": null,
            "order": null,
            "overflow": null,
            "overflow_x": null,
            "overflow_y": null,
            "padding": null,
            "right": null,
            "top": null,
            "visibility": null,
            "width": null
          }
        },
        "b5392b6da6a3413481e57a3c136d85ab": {
          "model_module": "@jupyter-widgets/base",
          "model_module_version": "1.2.0",
          "model_name": "LayoutModel",
          "state": {
            "_model_module": "@jupyter-widgets/base",
            "_model_module_version": "1.2.0",
            "_model_name": "LayoutModel",
            "_view_count": null,
            "_view_module": "@jupyter-widgets/base",
            "_view_module_version": "1.2.0",
            "_view_name": "LayoutView",
            "align_content": null,
            "align_items": null,
            "align_self": null,
            "border": null,
            "bottom": null,
            "display": null,
            "flex": null,
            "flex_flow": null,
            "grid_area": null,
            "grid_auto_columns": null,
            "grid_auto_flow": null,
            "grid_auto_rows": null,
            "grid_column": null,
            "grid_gap": null,
            "grid_row": null,
            "grid_template_areas": null,
            "grid_template_columns": null,
            "grid_template_rows": null,
            "height": null,
            "justify_content": null,
            "justify_items": null,
            "left": null,
            "margin": null,
            "max_height": null,
            "max_width": null,
            "min_height": null,
            "min_width": null,
            "object_fit": null,
            "object_position": null,
            "order": null,
            "overflow": null,
            "overflow_x": null,
            "overflow_y": null,
            "padding": null,
            "right": null,
            "top": null,
            "visibility": null,
            "width": null
          }
        },
        "ba4afee35f6e4c7fa09fd38063d0758b": {
          "model_module": "@jupyter-widgets/controls",
          "model_module_version": "1.5.0",
          "model_name": "FloatProgressModel",
          "state": {
            "_dom_classes": [],
            "_model_module": "@jupyter-widgets/controls",
            "_model_module_version": "1.5.0",
            "_model_name": "FloatProgressModel",
            "_view_count": null,
            "_view_module": "@jupyter-widgets/controls",
            "_view_module_version": "1.5.0",
            "_view_name": "ProgressView",
            "bar_style": "success",
            "description": "",
            "description_tooltip": null,
            "layout": "IPY_MODEL_35aeb9449c374c98baa3d3540bc4c244",
            "max": 1,
            "min": 0,
            "orientation": "horizontal",
            "style": "IPY_MODEL_a28f1a50e85a4e94b94b286b7892a720",
            "value": 1
          }
        },
        "bebae9e8e6e0475898a59f20a04c981e": {
          "model_module": "@jupyter-widgets/controls",
          "model_module_version": "1.5.0",
          "model_name": "FloatProgressModel",
          "state": {
            "_dom_classes": [],
            "_model_module": "@jupyter-widgets/controls",
            "_model_module_version": "1.5.0",
            "_model_name": "FloatProgressModel",
            "_view_count": null,
            "_view_module": "@jupyter-widgets/controls",
            "_view_module_version": "1.5.0",
            "_view_name": "ProgressView",
            "bar_style": "success",
            "description": "",
            "description_tooltip": null,
            "layout": "IPY_MODEL_f35b82b5ee4e499daa1ee1a3e6ab0907",
            "max": 2,
            "min": 0,
            "orientation": "horizontal",
            "style": "IPY_MODEL_14574a5795f24e98ab50e57b7b7dc870",
            "value": 2
          }
        },
        "c21a044e2769461891c45e94869cbc45": {
          "model_module": "@jupyter-widgets/controls",
          "model_module_version": "1.5.0",
          "model_name": "ProgressStyleModel",
          "state": {
            "_model_module": "@jupyter-widgets/controls",
            "_model_module_version": "1.5.0",
            "_model_name": "ProgressStyleModel",
            "_view_count": null,
            "_view_module": "@jupyter-widgets/base",
            "_view_module_version": "1.2.0",
            "_view_name": "StyleView",
            "bar_color": null,
            "description_width": ""
          }
        },
        "c485e335b4f34735a41f4c38f376677a": {
          "model_module": "@jupyter-widgets/controls",
          "model_module_version": "1.5.0",
          "model_name": "FloatProgressModel",
          "state": {
            "_dom_classes": [],
            "_model_module": "@jupyter-widgets/controls",
            "_model_module_version": "1.5.0",
            "_model_name": "FloatProgressModel",
            "_view_count": null,
            "_view_module": "@jupyter-widgets/controls",
            "_view_module_version": "1.5.0",
            "_view_name": "ProgressView",
            "bar_style": "success",
            "description": "",
            "description_tooltip": null,
            "layout": "IPY_MODEL_fdbcdd59b71a4a4eaed37124e0b2cbfb",
            "max": 2,
            "min": 0,
            "orientation": "horizontal",
            "style": "IPY_MODEL_dd48c6d92cfe433a881d247f82f8782f",
            "value": 2
          }
        },
        "c4d7b607f0c94359885dc0708e7a1f29": {
          "model_module": "@jupyter-widgets/controls",
          "model_module_version": "1.5.0",
          "model_name": "FloatProgressModel",
          "state": {
            "_dom_classes": [],
            "_model_module": "@jupyter-widgets/controls",
            "_model_module_version": "1.5.0",
            "_model_name": "FloatProgressModel",
            "_view_count": null,
            "_view_module": "@jupyter-widgets/controls",
            "_view_module_version": "1.5.0",
            "_view_name": "ProgressView",
            "bar_style": "success",
            "description": "",
            "description_tooltip": null,
            "layout": "IPY_MODEL_e13d4a4157b946509b2b68f1436761bf",
            "max": 210,
            "min": 0,
            "orientation": "horizontal",
            "style": "IPY_MODEL_002bfc0051f34973822fc31b95d80975",
            "value": 210
          }
        },
        "c52f693e0eb74c4b856712aa17e06560": {
          "model_module": "@jupyter-widgets/controls",
          "model_module_version": "1.5.0",
          "model_name": "DescriptionStyleModel",
          "state": {
            "_model_module": "@jupyter-widgets/controls",
            "_model_module_version": "1.5.0",
            "_model_name": "DescriptionStyleModel",
            "_view_count": null,
            "_view_module": "@jupyter-widgets/base",
            "_view_module_version": "1.2.0",
            "_view_name": "StyleView",
            "description_width": ""
          }
        },
        "c63f5609ba364aa894e7a2334c05fe84": {
          "model_module": "@jupyter-widgets/controls",
          "model_module_version": "1.5.0",
          "model_name": "HTMLModel",
          "state": {
            "_dom_classes": [],
            "_model_module": "@jupyter-widgets/controls",
            "_model_module_version": "1.5.0",
            "_model_name": "HTMLModel",
            "_view_count": null,
            "_view_module": "@jupyter-widgets/controls",
            "_view_module_version": "1.5.0",
            "_view_name": "HTMLView",
            "description": "",
            "description_tooltip": null,
            "layout": "IPY_MODEL_2505a4e97a5e419bb1b3e179be6b6b8b",
            "placeholder": "​",
            "style": "IPY_MODEL_aae5c8928f214c1f84431c91e312056a",
            "value": " 17.2M/17.2M [00:00&lt;00:00, 28.6MB/s]"
          }
        },
        "c655f1c69a6440349474707a794b4507": {
          "model_module": "@jupyter-widgets/base",
          "model_module_version": "1.2.0",
          "model_name": "LayoutModel",
          "state": {
            "_model_module": "@jupyter-widgets/base",
            "_model_module_version": "1.2.0",
            "_model_name": "LayoutModel",
            "_view_count": null,
            "_view_module": "@jupyter-widgets/base",
            "_view_module_version": "1.2.0",
            "_view_name": "LayoutView",
            "align_content": null,
            "align_items": null,
            "align_self": null,
            "border": null,
            "bottom": null,
            "display": null,
            "flex": null,
            "flex_flow": null,
            "grid_area": null,
            "grid_auto_columns": null,
            "grid_auto_flow": null,
            "grid_auto_rows": null,
            "grid_column": null,
            "grid_gap": null,
            "grid_row": null,
            "grid_template_areas": null,
            "grid_template_columns": null,
            "grid_template_rows": null,
            "height": null,
            "justify_content": null,
            "justify_items": null,
            "left": null,
            "margin": null,
            "max_height": null,
            "max_width": null,
            "min_height": null,
            "min_width": null,
            "object_fit": null,
            "object_position": null,
            "order": null,
            "overflow": null,
            "overflow_x": null,
            "overflow_y": null,
            "padding": null,
            "right": null,
            "top": null,
            "visibility": null,
            "width": null
          }
        },
        "c74cb6229c784a9bb2c1982db6165d11": {
          "model_module": "@jupyter-widgets/base",
          "model_module_version": "1.2.0",
          "model_name": "LayoutModel",
          "state": {
            "_model_module": "@jupyter-widgets/base",
            "_model_module_version": "1.2.0",
            "_model_name": "LayoutModel",
            "_view_count": null,
            "_view_module": "@jupyter-widgets/base",
            "_view_module_version": "1.2.0",
            "_view_name": "LayoutView",
            "align_content": null,
            "align_items": null,
            "align_self": null,
            "border": null,
            "bottom": null,
            "display": null,
            "flex": null,
            "flex_flow": null,
            "grid_area": null,
            "grid_auto_columns": null,
            "grid_auto_flow": null,
            "grid_auto_rows": null,
            "grid_column": null,
            "grid_gap": null,
            "grid_row": null,
            "grid_template_areas": null,
            "grid_template_columns": null,
            "grid_template_rows": null,
            "height": null,
            "justify_content": null,
            "justify_items": null,
            "left": null,
            "margin": null,
            "max_height": null,
            "max_width": null,
            "min_height": null,
            "min_width": null,
            "object_fit": null,
            "object_position": null,
            "order": null,
            "overflow": null,
            "overflow_x": null,
            "overflow_y": null,
            "padding": null,
            "right": null,
            "top": null,
            "visibility": null,
            "width": null
          }
        },
        "cc3dcf272a0540f39f136d40594bf73b": {
          "model_module": "@jupyter-widgets/controls",
          "model_module_version": "1.5.0",
          "model_name": "DescriptionStyleModel",
          "state": {
            "_model_module": "@jupyter-widgets/controls",
            "_model_module_version": "1.5.0",
            "_model_name": "DescriptionStyleModel",
            "_view_count": null,
            "_view_module": "@jupyter-widgets/base",
            "_view_module_version": "1.2.0",
            "_view_name": "StyleView",
            "description_width": ""
          }
        },
        "ccef5bcec4ca4ef4a715e4d044b676b9": {
          "model_module": "@jupyter-widgets/base",
          "model_module_version": "1.2.0",
          "model_name": "LayoutModel",
          "state": {
            "_model_module": "@jupyter-widgets/base",
            "_model_module_version": "1.2.0",
            "_model_name": "LayoutModel",
            "_view_count": null,
            "_view_module": "@jupyter-widgets/base",
            "_view_module_version": "1.2.0",
            "_view_name": "LayoutView",
            "align_content": null,
            "align_items": null,
            "align_self": null,
            "border": null,
            "bottom": null,
            "display": null,
            "flex": null,
            "flex_flow": null,
            "grid_area": null,
            "grid_auto_columns": null,
            "grid_auto_flow": null,
            "grid_auto_rows": null,
            "grid_column": null,
            "grid_gap": null,
            "grid_row": null,
            "grid_template_areas": null,
            "grid_template_columns": null,
            "grid_template_rows": null,
            "height": null,
            "justify_content": null,
            "justify_items": null,
            "left": null,
            "margin": null,
            "max_height": null,
            "max_width": null,
            "min_height": null,
            "min_width": null,
            "object_fit": null,
            "object_position": null,
            "order": null,
            "overflow": null,
            "overflow_x": null,
            "overflow_y": null,
            "padding": null,
            "right": null,
            "top": null,
            "visibility": null,
            "width": null
          }
        },
        "cd46d4cd69f34351a7b25560ed799b3e": {
          "model_module": "@jupyter-widgets/base",
          "model_module_version": "1.2.0",
          "model_name": "LayoutModel",
          "state": {
            "_model_module": "@jupyter-widgets/base",
            "_model_module_version": "1.2.0",
            "_model_name": "LayoutModel",
            "_view_count": null,
            "_view_module": "@jupyter-widgets/base",
            "_view_module_version": "1.2.0",
            "_view_name": "LayoutView",
            "align_content": null,
            "align_items": null,
            "align_self": null,
            "border": null,
            "bottom": null,
            "display": null,
            "flex": null,
            "flex_flow": null,
            "grid_area": null,
            "grid_auto_columns": null,
            "grid_auto_flow": null,
            "grid_auto_rows": null,
            "grid_column": null,
            "grid_gap": null,
            "grid_row": null,
            "grid_template_areas": null,
            "grid_template_columns": null,
            "grid_template_rows": null,
            "height": null,
            "justify_content": null,
            "justify_items": null,
            "left": null,
            "margin": null,
            "max_height": null,
            "max_width": null,
            "min_height": null,
            "min_width": null,
            "object_fit": null,
            "object_position": null,
            "order": null,
            "overflow": null,
            "overflow_x": null,
            "overflow_y": null,
            "padding": null,
            "right": null,
            "top": null,
            "visibility": null,
            "width": null
          }
        },
        "cdb40625037849cf8959ac0de4204daa": {
          "model_module": "@jupyter-widgets/base",
          "model_module_version": "1.2.0",
          "model_name": "LayoutModel",
          "state": {
            "_model_module": "@jupyter-widgets/base",
            "_model_module_version": "1.2.0",
            "_model_name": "LayoutModel",
            "_view_count": null,
            "_view_module": "@jupyter-widgets/base",
            "_view_module_version": "1.2.0",
            "_view_name": "LayoutView",
            "align_content": null,
            "align_items": null,
            "align_self": null,
            "border": null,
            "bottom": null,
            "display": null,
            "flex": null,
            "flex_flow": null,
            "grid_area": null,
            "grid_auto_columns": null,
            "grid_auto_flow": null,
            "grid_auto_rows": null,
            "grid_column": null,
            "grid_gap": null,
            "grid_row": null,
            "grid_template_areas": null,
            "grid_template_columns": null,
            "grid_template_rows": null,
            "height": null,
            "justify_content": null,
            "justify_items": null,
            "left": null,
            "margin": null,
            "max_height": null,
            "max_width": null,
            "min_height": null,
            "min_width": null,
            "object_fit": null,
            "object_position": null,
            "order": null,
            "overflow": null,
            "overflow_x": null,
            "overflow_y": null,
            "padding": null,
            "right": null,
            "top": null,
            "visibility": null,
            "width": null
          }
        },
        "d16818345542417cb438343e437444bf": {
          "model_module": "@jupyter-widgets/controls",
          "model_module_version": "1.5.0",
          "model_name": "DescriptionStyleModel",
          "state": {
            "_model_module": "@jupyter-widgets/controls",
            "_model_module_version": "1.5.0",
            "_model_name": "DescriptionStyleModel",
            "_view_count": null,
            "_view_module": "@jupyter-widgets/base",
            "_view_module_version": "1.2.0",
            "_view_name": "StyleView",
            "description_width": ""
          }
        },
        "d1b5b38428254f439935fcf859c41d84": {
          "model_module": "@jupyter-widgets/controls",
          "model_module_version": "1.5.0",
          "model_name": "HTMLModel",
          "state": {
            "_dom_classes": [],
            "_model_module": "@jupyter-widgets/controls",
            "_model_module_version": "1.5.0",
            "_model_name": "HTMLModel",
            "_view_count": null,
            "_view_module": "@jupyter-widgets/controls",
            "_view_module_version": "1.5.0",
            "_view_name": "HTMLView",
            "description": "",
            "description_tooltip": null,
            "layout": "IPY_MODEL_c74cb6229c784a9bb2c1982db6165d11",
            "placeholder": "​",
            "style": "IPY_MODEL_d16818345542417cb438343e437444bf",
            "value": " 210/210 [00:00&lt;00:00, 30.7kB/s]"
          }
        },
        "d1f68e3c7a3043ab8a490a3eb2e89b70": {
          "model_module": "@jupyter-widgets/controls",
          "model_module_version": "1.5.0",
          "model_name": "ProgressStyleModel",
          "state": {
            "_model_module": "@jupyter-widgets/controls",
            "_model_module_version": "1.5.0",
            "_model_name": "ProgressStyleModel",
            "_view_count": null,
            "_view_module": "@jupyter-widgets/base",
            "_view_module_version": "1.2.0",
            "_view_name": "StyleView",
            "bar_color": null,
            "description_width": ""
          }
        },
        "d2c4bee845664166ab426da30b38db77": {
          "model_module": "@jupyter-widgets/base",
          "model_module_version": "1.2.0",
          "model_name": "LayoutModel",
          "state": {
            "_model_module": "@jupyter-widgets/base",
            "_model_module_version": "1.2.0",
            "_model_name": "LayoutModel",
            "_view_count": null,
            "_view_module": "@jupyter-widgets/base",
            "_view_module_version": "1.2.0",
            "_view_name": "LayoutView",
            "align_content": null,
            "align_items": null,
            "align_self": null,
            "border": null,
            "bottom": null,
            "display": null,
            "flex": null,
            "flex_flow": null,
            "grid_area": null,
            "grid_auto_columns": null,
            "grid_auto_flow": null,
            "grid_auto_rows": null,
            "grid_column": null,
            "grid_gap": null,
            "grid_row": null,
            "grid_template_areas": null,
            "grid_template_columns": null,
            "grid_template_rows": null,
            "height": null,
            "justify_content": null,
            "justify_items": null,
            "left": null,
            "margin": null,
            "max_height": null,
            "max_width": null,
            "min_height": null,
            "min_width": null,
            "object_fit": null,
            "object_position": null,
            "order": null,
            "overflow": null,
            "overflow_x": null,
            "overflow_y": null,
            "padding": null,
            "right": null,
            "top": null,
            "visibility": null,
            "width": null
          }
        },
        "d311d9f4c3bd456e878c322a03366b4b": {
          "model_module": "@jupyter-widgets/controls",
          "model_module_version": "1.5.0",
          "model_name": "HBoxModel",
          "state": {
            "_dom_classes": [],
            "_model_module": "@jupyter-widgets/controls",
            "_model_module_version": "1.5.0",
            "_model_name": "HBoxModel",
            "_view_count": null,
            "_view_module": "@jupyter-widgets/controls",
            "_view_module_version": "1.5.0",
            "_view_name": "HBoxView",
            "box_style": "",
            "children": [
              "IPY_MODEL_eccc4f8364fa47c6a870dbe27e244c78",
              "IPY_MODEL_503a07b0886c4e2cb218070fbaa72f86",
              "IPY_MODEL_763c9c23184645d1a73f4fb66c15ebc0"
            ],
            "layout": "IPY_MODEL_0ed74aa8694a4f5585e09f1a75aeca58"
          }
        },
        "d3d300e11e414e498fb528f544aea9bc": {
          "model_module": "@jupyter-widgets/base",
          "model_module_version": "1.2.0",
          "model_name": "LayoutModel",
          "state": {
            "_model_module": "@jupyter-widgets/base",
            "_model_module_version": "1.2.0",
            "_model_name": "LayoutModel",
            "_view_count": null,
            "_view_module": "@jupyter-widgets/base",
            "_view_module_version": "1.2.0",
            "_view_name": "LayoutView",
            "align_content": null,
            "align_items": null,
            "align_self": null,
            "border": null,
            "bottom": null,
            "display": null,
            "flex": null,
            "flex_flow": null,
            "grid_area": null,
            "grid_auto_columns": null,
            "grid_auto_flow": null,
            "grid_auto_rows": null,
            "grid_column": null,
            "grid_gap": null,
            "grid_row": null,
            "grid_template_areas": null,
            "grid_template_columns": null,
            "grid_template_rows": null,
            "height": null,
            "justify_content": null,
            "justify_items": null,
            "left": null,
            "margin": null,
            "max_height": null,
            "max_width": null,
            "min_height": null,
            "min_width": null,
            "object_fit": null,
            "object_position": null,
            "order": null,
            "overflow": null,
            "overflow_x": null,
            "overflow_y": null,
            "padding": null,
            "right": null,
            "top": null,
            "visibility": null,
            "width": "20px"
          }
        },
        "d3e369715d184677ab3c3fa94820eaf1": {
          "model_module": "@jupyter-widgets/controls",
          "model_module_version": "1.5.0",
          "model_name": "HBoxModel",
          "state": {
            "_dom_classes": [],
            "_model_module": "@jupyter-widgets/controls",
            "_model_module_version": "1.5.0",
            "_model_name": "HBoxModel",
            "_view_count": null,
            "_view_module": "@jupyter-widgets/controls",
            "_view_module_version": "1.5.0",
            "_view_name": "HBoxView",
            "box_style": "",
            "children": [
              "IPY_MODEL_43122ba45c2e4c67a00d659dc4c07010",
              "IPY_MODEL_44126070a27b4388b50d45db17040b69",
              "IPY_MODEL_6f6cf3ae045c451fb2046c9083139778"
            ],
            "layout": "IPY_MODEL_cd46d4cd69f34351a7b25560ed799b3e"
          }
        },
        "d4ac3bd46e594ff88edab458ecddb71c": {
          "model_module": "@jupyter-widgets/controls",
          "model_module_version": "1.5.0",
          "model_name": "HTMLModel",
          "state": {
            "_dom_classes": [],
            "_model_module": "@jupyter-widgets/controls",
            "_model_module_version": "1.5.0",
            "_model_name": "HTMLModel",
            "_view_count": null,
            "_view_module": "@jupyter-widgets/controls",
            "_view_module_version": "1.5.0",
            "_view_name": "HTMLView",
            "description": "",
            "description_tooltip": null,
            "layout": "IPY_MODEL_9c41b268b82c4e7baf76304b9a247b70",
            "placeholder": "​",
            "style": "IPY_MODEL_80c3036d1ea243df81af97e33672ba87",
            "value": "Loading checkpoint shards: 100%"
          }
        },
        "d601d04ff0c84f378c6c1817d7ece44d": {
          "model_module": "@jupyter-widgets/controls",
          "model_module_version": "1.5.0",
          "model_name": "HBoxModel",
          "state": {
            "_dom_classes": [],
            "_model_module": "@jupyter-widgets/controls",
            "_model_module_version": "1.5.0",
            "_model_name": "HBoxModel",
            "_view_count": null,
            "_view_module": "@jupyter-widgets/controls",
            "_view_module_version": "1.5.0",
            "_view_name": "HBoxView",
            "box_style": "",
            "children": [
              "IPY_MODEL_8ef21dd1cb20420f85cfbb19a6d0bc00",
              "IPY_MODEL_60149ff301274b888d38c153286d96c3",
              "IPY_MODEL_ade3fc5b08e74568873925dc6d49c359"
            ],
            "layout": "IPY_MODEL_3e442a2845ff4003a01f09b1b4a96628"
          }
        },
        "dce4891a52684c3bb19b84656064298d": {
          "model_module": "@jupyter-widgets/controls",
          "model_module_version": "1.5.0",
          "model_name": "DescriptionStyleModel",
          "state": {
            "_model_module": "@jupyter-widgets/controls",
            "_model_module_version": "1.5.0",
            "_model_name": "DescriptionStyleModel",
            "_view_count": null,
            "_view_module": "@jupyter-widgets/base",
            "_view_module_version": "1.2.0",
            "_view_name": "StyleView",
            "description_width": ""
          }
        },
        "dd48c6d92cfe433a881d247f82f8782f": {
          "model_module": "@jupyter-widgets/controls",
          "model_module_version": "1.5.0",
          "model_name": "ProgressStyleModel",
          "state": {
            "_model_module": "@jupyter-widgets/controls",
            "_model_module_version": "1.5.0",
            "_model_name": "ProgressStyleModel",
            "_view_count": null,
            "_view_module": "@jupyter-widgets/base",
            "_view_module_version": "1.2.0",
            "_view_name": "StyleView",
            "bar_color": null,
            "description_width": ""
          }
        },
        "deb73ad8d1114575a0e40633256dc917": {
          "model_module": "@jupyter-widgets/controls",
          "model_module_version": "1.5.0",
          "model_name": "DescriptionStyleModel",
          "state": {
            "_model_module": "@jupyter-widgets/controls",
            "_model_module_version": "1.5.0",
            "_model_name": "DescriptionStyleModel",
            "_view_count": null,
            "_view_module": "@jupyter-widgets/base",
            "_view_module_version": "1.2.0",
            "_view_name": "StyleView",
            "description_width": ""
          }
        },
        "e045600ff133427998e275575009c624": {
          "model_module": "@jupyter-widgets/controls",
          "model_module_version": "1.5.0",
          "model_name": "DescriptionStyleModel",
          "state": {
            "_model_module": "@jupyter-widgets/controls",
            "_model_module_version": "1.5.0",
            "_model_name": "DescriptionStyleModel",
            "_view_count": null,
            "_view_module": "@jupyter-widgets/base",
            "_view_module_version": "1.2.0",
            "_view_name": "StyleView",
            "description_width": ""
          }
        },
        "e13d4a4157b946509b2b68f1436761bf": {
          "model_module": "@jupyter-widgets/base",
          "model_module_version": "1.2.0",
          "model_name": "LayoutModel",
          "state": {
            "_model_module": "@jupyter-widgets/base",
            "_model_module_version": "1.2.0",
            "_model_name": "LayoutModel",
            "_view_count": null,
            "_view_module": "@jupyter-widgets/base",
            "_view_module_version": "1.2.0",
            "_view_name": "LayoutView",
            "align_content": null,
            "align_items": null,
            "align_self": null,
            "border": null,
            "bottom": null,
            "display": null,
            "flex": null,
            "flex_flow": null,
            "grid_area": null,
            "grid_auto_columns": null,
            "grid_auto_flow": null,
            "grid_auto_rows": null,
            "grid_column": null,
            "grid_gap": null,
            "grid_row": null,
            "grid_template_areas": null,
            "grid_template_columns": null,
            "grid_template_rows": null,
            "height": null,
            "justify_content": null,
            "justify_items": null,
            "left": null,
            "margin": null,
            "max_height": null,
            "max_width": null,
            "min_height": null,
            "min_width": null,
            "object_fit": null,
            "object_position": null,
            "order": null,
            "overflow": null,
            "overflow_x": null,
            "overflow_y": null,
            "padding": null,
            "right": null,
            "top": null,
            "visibility": null,
            "width": null
          }
        },
        "e3527ddfa7db487bacb39dfd8992bab5": {
          "model_module": "@jupyter-widgets/controls",
          "model_module_version": "1.5.0",
          "model_name": "HBoxModel",
          "state": {
            "_dom_classes": [],
            "_model_module": "@jupyter-widgets/controls",
            "_model_module_version": "1.5.0",
            "_model_name": "HBoxModel",
            "_view_count": null,
            "_view_module": "@jupyter-widgets/controls",
            "_view_module_version": "1.5.0",
            "_view_name": "HBoxView",
            "box_style": "",
            "children": [
              "IPY_MODEL_48a07b0a87ee45aea556d86e25438693",
              "IPY_MODEL_1734432046d0452bb6e254671b91443a",
              "IPY_MODEL_7c0fd6b8cdec4b3195bd021ea5dca5f3"
            ],
            "layout": "IPY_MODEL_189389d0d3e746fa90bf54b95e21f3f2"
          }
        },
        "e7fa4caa1c9542e9ae74e04c9ae150a8": {
          "model_module": "@jupyter-widgets/controls",
          "model_module_version": "1.5.0",
          "model_name": "HBoxModel",
          "state": {
            "_dom_classes": [],
            "_model_module": "@jupyter-widgets/controls",
            "_model_module_version": "1.5.0",
            "_model_name": "HBoxModel",
            "_view_count": null,
            "_view_module": "@jupyter-widgets/controls",
            "_view_module_version": "1.5.0",
            "_view_name": "HBoxView",
            "box_style": "",
            "children": [
              "IPY_MODEL_d4ac3bd46e594ff88edab458ecddb71c",
              "IPY_MODEL_bebae9e8e6e0475898a59f20a04c981e",
              "IPY_MODEL_2f999cfa8cce493c8614fa43069f2fcf"
            ],
            "layout": "IPY_MODEL_f86981a359884232aaf00fb702789a94"
          }
        },
        "e8aca8456e5346f994819477af7d1975": {
          "model_module": "@jupyter-widgets/base",
          "model_module_version": "1.2.0",
          "model_name": "LayoutModel",
          "state": {
            "_model_module": "@jupyter-widgets/base",
            "_model_module_version": "1.2.0",
            "_model_name": "LayoutModel",
            "_view_count": null,
            "_view_module": "@jupyter-widgets/base",
            "_view_module_version": "1.2.0",
            "_view_name": "LayoutView",
            "align_content": null,
            "align_items": null,
            "align_self": null,
            "border": null,
            "bottom": null,
            "display": null,
            "flex": null,
            "flex_flow": null,
            "grid_area": null,
            "grid_auto_columns": null,
            "grid_auto_flow": null,
            "grid_auto_rows": null,
            "grid_column": null,
            "grid_gap": null,
            "grid_row": null,
            "grid_template_areas": null,
            "grid_template_columns": null,
            "grid_template_rows": null,
            "height": null,
            "justify_content": null,
            "justify_items": null,
            "left": null,
            "margin": null,
            "max_height": null,
            "max_width": null,
            "min_height": null,
            "min_width": null,
            "object_fit": null,
            "object_position": null,
            "order": null,
            "overflow": null,
            "overflow_x": null,
            "overflow_y": null,
            "padding": null,
            "right": null,
            "top": null,
            "visibility": null,
            "width": null
          }
        },
        "e8d8b538bea14d39b3168230512e2345": {
          "model_module": "@jupyter-widgets/controls",
          "model_module_version": "1.5.0",
          "model_name": "ProgressStyleModel",
          "state": {
            "_model_module": "@jupyter-widgets/controls",
            "_model_module_version": "1.5.0",
            "_model_name": "ProgressStyleModel",
            "_view_count": null,
            "_view_module": "@jupyter-widgets/base",
            "_view_module_version": "1.2.0",
            "_view_name": "StyleView",
            "bar_color": null,
            "description_width": ""
          }
        },
        "e907b276b7da45e6994168916d26a09f": {
          "model_module": "@jupyter-widgets/base",
          "model_module_version": "1.2.0",
          "model_name": "LayoutModel",
          "state": {
            "_model_module": "@jupyter-widgets/base",
            "_model_module_version": "1.2.0",
            "_model_name": "LayoutModel",
            "_view_count": null,
            "_view_module": "@jupyter-widgets/base",
            "_view_module_version": "1.2.0",
            "_view_name": "LayoutView",
            "align_content": null,
            "align_items": null,
            "align_self": null,
            "border": null,
            "bottom": null,
            "display": null,
            "flex": null,
            "flex_flow": null,
            "grid_area": null,
            "grid_auto_columns": null,
            "grid_auto_flow": null,
            "grid_auto_rows": null,
            "grid_column": null,
            "grid_gap": null,
            "grid_row": null,
            "grid_template_areas": null,
            "grid_template_columns": null,
            "grid_template_rows": null,
            "height": null,
            "justify_content": null,
            "justify_items": null,
            "left": null,
            "margin": null,
            "max_height": null,
            "max_width": null,
            "min_height": null,
            "min_width": null,
            "object_fit": null,
            "object_position": null,
            "order": null,
            "overflow": null,
            "overflow_x": null,
            "overflow_y": null,
            "padding": null,
            "right": null,
            "top": null,
            "visibility": null,
            "width": null
          }
        },
        "ea842be7a1b44190b850d299e2469815": {
          "model_module": "@jupyter-widgets/controls",
          "model_module_version": "1.5.0",
          "model_name": "HTMLModel",
          "state": {
            "_dom_classes": [],
            "_model_module": "@jupyter-widgets/controls",
            "_model_module_version": "1.5.0",
            "_model_name": "HTMLModel",
            "_view_count": null,
            "_view_module": "@jupyter-widgets/controls",
            "_view_module_version": "1.5.0",
            "_view_name": "HTMLView",
            "description": "",
            "description_tooltip": null,
            "layout": "IPY_MODEL_a6cfb7cabb9041a8b115fd97f7e2097d",
            "placeholder": "​",
            "style": "IPY_MODEL_1e9c5979947c4fe48e0eb4a5d498bc85",
            "value": "Fetching 2 files: 100%"
          }
        },
        "eccc4f8364fa47c6a870dbe27e244c78": {
          "model_module": "@jupyter-widgets/controls",
          "model_module_version": "1.5.0",
          "model_name": "HTMLModel",
          "state": {
            "_dom_classes": [],
            "_model_module": "@jupyter-widgets/controls",
            "_model_module_version": "1.5.0",
            "_model_name": "HTMLModel",
            "_view_count": null,
            "_view_module": "@jupyter-widgets/controls",
            "_view_module_version": "1.5.0",
            "_view_name": "HTMLView",
            "description": "",
            "description_tooltip": null,
            "layout": "IPY_MODEL_f8e8b7c117524da1a53f0d0881ed741a",
            "placeholder": "​",
            "style": "IPY_MODEL_3a73927cd78b46a487c5f819e4d7a822",
            "value": "special_tokens_map.json: 100%"
          }
        },
        "edc926dc80ce4f569a695dc516e90aaa": {
          "model_module": "@jupyter-widgets/controls",
          "model_module_version": "1.5.0",
          "model_name": "DescriptionStyleModel",
          "state": {
            "_model_module": "@jupyter-widgets/controls",
            "_model_module_version": "1.5.0",
            "_model_name": "DescriptionStyleModel",
            "_view_count": null,
            "_view_module": "@jupyter-widgets/base",
            "_view_module_version": "1.2.0",
            "_view_name": "StyleView",
            "description_width": ""
          }
        },
        "edd42304456249bea8fb68a305e8961a": {
          "model_module": "@jupyter-widgets/controls",
          "model_module_version": "1.5.0",
          "model_name": "ProgressStyleModel",
          "state": {
            "_model_module": "@jupyter-widgets/controls",
            "_model_module_version": "1.5.0",
            "_model_name": "ProgressStyleModel",
            "_view_count": null,
            "_view_module": "@jupyter-widgets/base",
            "_view_module_version": "1.2.0",
            "_view_name": "StyleView",
            "bar_color": null,
            "description_width": ""
          }
        },
        "eff6b8354c274dfba5ad781e3219a6d8": {
          "model_module": "@jupyter-widgets/controls",
          "model_module_version": "1.5.0",
          "model_name": "DescriptionStyleModel",
          "state": {
            "_model_module": "@jupyter-widgets/controls",
            "_model_module_version": "1.5.0",
            "_model_name": "DescriptionStyleModel",
            "_view_count": null,
            "_view_module": "@jupyter-widgets/base",
            "_view_module_version": "1.2.0",
            "_view_name": "StyleView",
            "description_width": ""
          }
        },
        "f31bdf55b1a147c9ac24c019e8a2f876": {
          "model_module": "@jupyter-widgets/base",
          "model_module_version": "1.2.0",
          "model_name": "LayoutModel",
          "state": {
            "_model_module": "@jupyter-widgets/base",
            "_model_module_version": "1.2.0",
            "_model_name": "LayoutModel",
            "_view_count": null,
            "_view_module": "@jupyter-widgets/base",
            "_view_module_version": "1.2.0",
            "_view_name": "LayoutView",
            "align_content": null,
            "align_items": null,
            "align_self": null,
            "border": null,
            "bottom": null,
            "display": null,
            "flex": null,
            "flex_flow": null,
            "grid_area": null,
            "grid_auto_columns": null,
            "grid_auto_flow": null,
            "grid_auto_rows": null,
            "grid_column": null,
            "grid_gap": null,
            "grid_row": null,
            "grid_template_areas": null,
            "grid_template_columns": null,
            "grid_template_rows": null,
            "height": null,
            "justify_content": null,
            "justify_items": null,
            "left": null,
            "margin": null,
            "max_height": null,
            "max_width": null,
            "min_height": null,
            "min_width": null,
            "object_fit": null,
            "object_position": null,
            "order": null,
            "overflow": null,
            "overflow_x": null,
            "overflow_y": null,
            "padding": null,
            "right": null,
            "top": null,
            "visibility": null,
            "width": null
          }
        },
        "f33a97bac08f4bd68318b5cdfe58e613": {
          "model_module": "@jupyter-widgets/base",
          "model_module_version": "1.2.0",
          "model_name": "LayoutModel",
          "state": {
            "_model_module": "@jupyter-widgets/base",
            "_model_module_version": "1.2.0",
            "_model_name": "LayoutModel",
            "_view_count": null,
            "_view_module": "@jupyter-widgets/base",
            "_view_module_version": "1.2.0",
            "_view_name": "LayoutView",
            "align_content": null,
            "align_items": null,
            "align_self": null,
            "border": null,
            "bottom": null,
            "display": null,
            "flex": null,
            "flex_flow": null,
            "grid_area": null,
            "grid_auto_columns": null,
            "grid_auto_flow": null,
            "grid_auto_rows": null,
            "grid_column": null,
            "grid_gap": null,
            "grid_row": null,
            "grid_template_areas": null,
            "grid_template_columns": null,
            "grid_template_rows": null,
            "height": null,
            "justify_content": null,
            "justify_items": null,
            "left": null,
            "margin": null,
            "max_height": null,
            "max_width": null,
            "min_height": null,
            "min_width": null,
            "object_fit": null,
            "object_position": null,
            "order": null,
            "overflow": null,
            "overflow_x": null,
            "overflow_y": null,
            "padding": null,
            "right": null,
            "top": null,
            "visibility": null,
            "width": null
          }
        },
        "f35b82b5ee4e499daa1ee1a3e6ab0907": {
          "model_module": "@jupyter-widgets/base",
          "model_module_version": "1.2.0",
          "model_name": "LayoutModel",
          "state": {
            "_model_module": "@jupyter-widgets/base",
            "_model_module_version": "1.2.0",
            "_model_name": "LayoutModel",
            "_view_count": null,
            "_view_module": "@jupyter-widgets/base",
            "_view_module_version": "1.2.0",
            "_view_name": "LayoutView",
            "align_content": null,
            "align_items": null,
            "align_self": null,
            "border": null,
            "bottom": null,
            "display": null,
            "flex": null,
            "flex_flow": null,
            "grid_area": null,
            "grid_auto_columns": null,
            "grid_auto_flow": null,
            "grid_auto_rows": null,
            "grid_column": null,
            "grid_gap": null,
            "grid_row": null,
            "grid_template_areas": null,
            "grid_template_columns": null,
            "grid_template_rows": null,
            "height": null,
            "justify_content": null,
            "justify_items": null,
            "left": null,
            "margin": null,
            "max_height": null,
            "max_width": null,
            "min_height": null,
            "min_width": null,
            "object_fit": null,
            "object_position": null,
            "order": null,
            "overflow": null,
            "overflow_x": null,
            "overflow_y": null,
            "padding": null,
            "right": null,
            "top": null,
            "visibility": null,
            "width": null
          }
        },
        "f3a3734b4b9741aea85b711739073c81": {
          "model_module": "@jupyter-widgets/base",
          "model_module_version": "1.2.0",
          "model_name": "LayoutModel",
          "state": {
            "_model_module": "@jupyter-widgets/base",
            "_model_module_version": "1.2.0",
            "_model_name": "LayoutModel",
            "_view_count": null,
            "_view_module": "@jupyter-widgets/base",
            "_view_module_version": "1.2.0",
            "_view_name": "LayoutView",
            "align_content": null,
            "align_items": null,
            "align_self": null,
            "border": null,
            "bottom": null,
            "display": null,
            "flex": null,
            "flex_flow": null,
            "grid_area": null,
            "grid_auto_columns": null,
            "grid_auto_flow": null,
            "grid_auto_rows": null,
            "grid_column": null,
            "grid_gap": null,
            "grid_row": null,
            "grid_template_areas": null,
            "grid_template_columns": null,
            "grid_template_rows": null,
            "height": null,
            "justify_content": null,
            "justify_items": null,
            "left": null,
            "margin": null,
            "max_height": null,
            "max_width": null,
            "min_height": null,
            "min_width": null,
            "object_fit": null,
            "object_position": null,
            "order": null,
            "overflow": null,
            "overflow_x": null,
            "overflow_y": null,
            "padding": null,
            "right": null,
            "top": null,
            "visibility": null,
            "width": null
          }
        },
        "f4688af60ba245cabe616c8f5ebe61e8": {
          "model_module": "@jupyter-widgets/base",
          "model_module_version": "1.2.0",
          "model_name": "LayoutModel",
          "state": {
            "_model_module": "@jupyter-widgets/base",
            "_model_module_version": "1.2.0",
            "_model_name": "LayoutModel",
            "_view_count": null,
            "_view_module": "@jupyter-widgets/base",
            "_view_module_version": "1.2.0",
            "_view_name": "LayoutView",
            "align_content": null,
            "align_items": null,
            "align_self": null,
            "border": null,
            "bottom": null,
            "display": null,
            "flex": null,
            "flex_flow": null,
            "grid_area": null,
            "grid_auto_columns": null,
            "grid_auto_flow": null,
            "grid_auto_rows": null,
            "grid_column": null,
            "grid_gap": null,
            "grid_row": null,
            "grid_template_areas": null,
            "grid_template_columns": null,
            "grid_template_rows": null,
            "height": null,
            "justify_content": null,
            "justify_items": null,
            "left": null,
            "margin": null,
            "max_height": null,
            "max_width": null,
            "min_height": null,
            "min_width": null,
            "object_fit": null,
            "object_position": null,
            "order": null,
            "overflow": null,
            "overflow_x": null,
            "overflow_y": null,
            "padding": null,
            "right": null,
            "top": null,
            "visibility": null,
            "width": null
          }
        },
        "f86981a359884232aaf00fb702789a94": {
          "model_module": "@jupyter-widgets/base",
          "model_module_version": "1.2.0",
          "model_name": "LayoutModel",
          "state": {
            "_model_module": "@jupyter-widgets/base",
            "_model_module_version": "1.2.0",
            "_model_name": "LayoutModel",
            "_view_count": null,
            "_view_module": "@jupyter-widgets/base",
            "_view_module_version": "1.2.0",
            "_view_name": "LayoutView",
            "align_content": null,
            "align_items": null,
            "align_self": null,
            "border": null,
            "bottom": null,
            "display": null,
            "flex": null,
            "flex_flow": null,
            "grid_area": null,
            "grid_auto_columns": null,
            "grid_auto_flow": null,
            "grid_auto_rows": null,
            "grid_column": null,
            "grid_gap": null,
            "grid_row": null,
            "grid_template_areas": null,
            "grid_template_columns": null,
            "grid_template_rows": null,
            "height": null,
            "justify_content": null,
            "justify_items": null,
            "left": null,
            "margin": null,
            "max_height": null,
            "max_width": null,
            "min_height": null,
            "min_width": null,
            "object_fit": null,
            "object_position": null,
            "order": null,
            "overflow": null,
            "overflow_x": null,
            "overflow_y": null,
            "padding": null,
            "right": null,
            "top": null,
            "visibility": null,
            "width": null
          }
        },
        "f8e8b7c117524da1a53f0d0881ed741a": {
          "model_module": "@jupyter-widgets/base",
          "model_module_version": "1.2.0",
          "model_name": "LayoutModel",
          "state": {
            "_model_module": "@jupyter-widgets/base",
            "_model_module_version": "1.2.0",
            "_model_name": "LayoutModel",
            "_view_count": null,
            "_view_module": "@jupyter-widgets/base",
            "_view_module_version": "1.2.0",
            "_view_name": "LayoutView",
            "align_content": null,
            "align_items": null,
            "align_self": null,
            "border": null,
            "bottom": null,
            "display": null,
            "flex": null,
            "flex_flow": null,
            "grid_area": null,
            "grid_auto_columns": null,
            "grid_auto_flow": null,
            "grid_auto_rows": null,
            "grid_column": null,
            "grid_gap": null,
            "grid_row": null,
            "grid_template_areas": null,
            "grid_template_columns": null,
            "grid_template_rows": null,
            "height": null,
            "justify_content": null,
            "justify_items": null,
            "left": null,
            "margin": null,
            "max_height": null,
            "max_width": null,
            "min_height": null,
            "min_width": null,
            "object_fit": null,
            "object_position": null,
            "order": null,
            "overflow": null,
            "overflow_x": null,
            "overflow_y": null,
            "padding": null,
            "right": null,
            "top": null,
            "visibility": null,
            "width": null
          }
        },
        "fdbcdd59b71a4a4eaed37124e0b2cbfb": {
          "model_module": "@jupyter-widgets/base",
          "model_module_version": "1.2.0",
          "model_name": "LayoutModel",
          "state": {
            "_model_module": "@jupyter-widgets/base",
            "_model_module_version": "1.2.0",
            "_model_name": "LayoutModel",
            "_view_count": null,
            "_view_module": "@jupyter-widgets/base",
            "_view_module_version": "1.2.0",
            "_view_name": "LayoutView",
            "align_content": null,
            "align_items": null,
            "align_self": null,
            "border": null,
            "bottom": null,
            "display": null,
            "flex": null,
            "flex_flow": null,
            "grid_area": null,
            "grid_auto_columns": null,
            "grid_auto_flow": null,
            "grid_auto_rows": null,
            "grid_column": null,
            "grid_gap": null,
            "grid_row": null,
            "grid_template_areas": null,
            "grid_template_columns": null,
            "grid_template_rows": null,
            "height": null,
            "justify_content": null,
            "justify_items": null,
            "left": null,
            "margin": null,
            "max_height": null,
            "max_width": null,
            "min_height": null,
            "min_width": null,
            "object_fit": null,
            "object_position": null,
            "order": null,
            "overflow": null,
            "overflow_x": null,
            "overflow_y": null,
            "padding": null,
            "right": null,
            "top": null,
            "visibility": null,
            "width": null
          }
        },
        "ff9ef486d9b94006995c246ae4ee4358": {
          "model_module": "@jupyter-widgets/controls",
          "model_module_version": "1.5.0",
          "model_name": "DescriptionStyleModel",
          "state": {
            "_model_module": "@jupyter-widgets/controls",
            "_model_module_version": "1.5.0",
            "_model_name": "DescriptionStyleModel",
            "_view_count": null,
            "_view_module": "@jupyter-widgets/base",
            "_view_module_version": "1.2.0",
            "_view_name": "StyleView",
            "description_width": ""
          }
        }
      }
    }
  },
  "nbformat": 4,
  "nbformat_minor": 0
}
